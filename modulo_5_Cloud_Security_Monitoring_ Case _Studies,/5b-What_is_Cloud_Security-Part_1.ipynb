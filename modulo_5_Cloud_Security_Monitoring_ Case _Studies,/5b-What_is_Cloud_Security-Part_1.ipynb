{
 "cells": [
  {
   "cell_type": "markdown",
   "metadata": {},
   "source": [
    "<span id=\"captions-ai-generated\"></span>\n",
    "[Este contenido ha sido traducido con una herramienta impulsada por IA y puede contener errores o imprecisiones]\n",
    "\n",
    "# Bienvenido a Qué es la seguridad en la nube, parte 1\n",
    "\n",
    "Hoy en día, las organizaciones están avanzando hacia la transformación digital con la introducción de la **computación en la nube**. Están cambiando su infraestructura e incorporando herramientas y tecnologías basadas en la nube. Esta transición a entornos basados en la nube puede tener varias consecuencias adversas. Si las tecnologías basadas en la nube no se utilizan de forma segura, las organizaciones pueden estar sujetas a **amenazas externas** que pueden ser un peligro para la seguridad de su negocio. Por lo tanto, para obtener el máximo beneficio, las empresas, al utilizar tecnologías de nube interconectadas, requieren los mejores procedimientos y **tecnología de seguridad en la nube**.\n",
    "\n",
    "Un entorno de computación en la nube ofrece diferentes **modelos como servicio** que permiten a las organizaciones descargar muchas tareas relacionadas con TI que consumen mucho tiempo. Por ejemplo, los modelos de computación de **Infraestructura como Servicio (IaaS)**, **Plataforma como Servicio (PaaS)** y **Software como Servicio (SaaS)**. Sin embargo, al utilizar estos servicios, las organizaciones pueden encontrar muchos desafíos relacionados con la **seguridad de los datos**. Aunque los proveedores de computación en la nube de terceros siguen las mejores prácticas de seguridad y garantizan la integridad de sus servidores, la gestión de los activos de datos sigue siendo responsabilidad de la organización que utiliza estos servicios.\n",
    "\n",
    "Con la evolución del entorno de computación en la nube, las amenazas de seguridad también se han vuelto más avanzadas. Estas amenazas apuntan a los proveedores de computación en la nube debido a la falta de transparencia en el movimiento y acceso de datos en la nube. Por lo tanto, las organizaciones deben cumplir con las normas y tener las aprobaciones adecuadas al administrar los datos de los clientes almacenados en la nube. Una implementación exitosa de la infraestructura de la nube depende de las contramedidas para protegerse contra los **ciberataques modernos**. Debe tener **soluciones de seguridad en la nube** adecuadas en todos los entornos de nube, ya sean privados, públicos o híbridos para garantizar la continuidad y la seguridad del negocio.\n",
    "\n",
    "## Identificación de la solución de seguridad en la nube adecuada\n",
    "\n",
    "Identificar la solución de seguridad en la nube adecuada requiere varias consideraciones. Vamos a analizarlas:\n",
    "\n",
    "1. **Falta de visibilidad en un entorno de nube pública**: Es difícil realizar un seguimiento de quién accede a sus datos y qué servicio de nube están utilizando fuera de su organización.\n",
    "   \n",
    "2. **Multipropiedad en un entorno de nube pública**: El mismo proveedor de computación en la nube puede alojar varias infraestructuras de clientes. Sus servicios pueden verse comprometidos por atacantes malintencionados que ataquen a otras empresas.\n",
    "\n",
    "3. **Gestión de acceso y TI en la sombra**: Puede resultarle difícil restringir el acceso sin filtros a sus servicios desde cualquier dispositivo y ubicación geográfica en un entorno de nube.\n",
    "\n",
    "4. **Configuraciones incorrectas**: Las configuraciones incorrectas de los activos son responsables de la violación de registros en un entorno de nube. Incluyen configuraciones de privacidad inadecuadas o la retención de contraseñas administrativas predeterminadas.\n",
    "\n",
    "## Amenazas y riesgos en la computación en la nube\n",
    "\n",
    "1. **Amenazas internas**: Son causadas por empleados actuales o anteriores, socios comerciales, contratistas o cualquier persona que haya tenido acceso a sistemas o redes en el pasado. Esta categoría de amenazas es invisible para los sistemas de seguridad externos y, por lo tanto, más peligrosas.\n",
    "\n",
    "2. **Ataque DDoS (Denegación de servicio distribuido)**: Un ataque DDoS tiene como objetivo el servidor de la empresa sobrecargándolo con tráfico de varios sistemas sincronizados. El ataque funciona a través del **Protocolo simple de administración de red (SNMP)** utilizado para módems, impresoras, conmutadores, enrutadores y servidores.\n",
    "\n",
    "3. **Violación de datos**: La nube enfrenta el riesgo crítico de violación de datos. Una violación puede deberse a una fuga en las medidas de seguridad en la nube que utiliza su organización. Los usuarios malintencionados pueden obtener acceso a datos confidenciales y hacer un mal uso de la información. Esto puede costar a la organización una pérdida financiera y de reputación.\n",
    "\n",
    "## Modelos de seguridad en la computación en la nube\n",
    "\n",
    "Ahora entendamos los diferentes **modelos de seguridad** que se utilizan en la computación en la nube. Un **modelo de responsabilidad compartida** es un marco de seguridad en la nube donde la organización transfiere ciertas responsabilidades de seguridad de TI al proveedor de computación en la nube. Cada parte, el proveedor de la nube y el usuario, son responsables de diferentes aspectos de la seguridad y trabajan juntos para lograr una cobertura de seguridad completa.\n",
    "\n",
    "### Tipos de modelos de seguridad compartida:\n",
    "\n",
    "- **IaaS**: El proveedor se encarga de la seguridad física de la infraestructura en sus centros de datos. Los usuarios de IaaS son responsables de la seguridad del software, incluido el sistema operativo necesario para ejecutar sus aplicaciones y sus datos.\n",
    "\n",
    "- **PaaS**: El proveedor protege la plataforma, incluido el sistema operativo, las suscripciones de los usuarios y las credenciales de inicio de sesión, pero el usuario es responsable de la seguridad de cualquier código o dato producido en la plataforma.\n",
    "\n",
    "- **SaaS**: El proveedor es responsable de casi todos los aspectos de la seguridad, incluida la infraestructura subyacente, la aplicación de servicio y los datos que produce la aplicación. Los usuarios aún tienen algunas responsabilidades de seguridad, como la protección de las credenciales de inicio de sesión.\n"
   ]
  },
  {
   "cell_type": "markdown",
   "metadata": {},
   "source": []
  }
 ],
 "metadata": {
  "language_info": {
   "name": "python"
  }
 },
 "nbformat": 4,
 "nbformat_minor": 2
}
