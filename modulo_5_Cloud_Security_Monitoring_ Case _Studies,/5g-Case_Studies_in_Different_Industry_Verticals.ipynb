{
 "cells": [
  {
   "cell_type": "markdown",
   "metadata": {},
   "source": [
    "**La misión de la compañía meteorológica** es mapear la atmósfera de la Tierra y, en base a eso, generar el pronóstico más preciso e hiperlocal para nuestros consumidores y dispositivos, que se cuentan por millones en todo el mundo. El clima es impredecible y debemos ser capaces de adaptarnos tan rápido como cambia el clima. Nuestra carga diaria normal es de 30 millones de usuarios únicos. Durante eventos de clima severo, esto puede aumentar hasta más de 100 millones en todos nuestros productos. Generamos pronósticos bajo demanda, con una resolución de una cuadrícula de un kilómetro cuadrado, y entregamos pronósticos bajo demanda por una suma de 250 mil millones por día.\n",
    "\n",
    "En la parte trasera está nuestra plataforma API, que opera a una escala de aproximadamente 150.000 solicitudes por segundo. Si nuestros productos no funcionan y no funcionan rápido, la vida de las personas está en peligro. Imagina un huracán acercándose a la costa este de los Estados Unidos. A medida que se acerca, el uso de mis datos meteorológicos aumenta tremendamente, de dos a cinco veces. Nos llevó seis meses migrar a IBM Kubernetes de nuestro proveedor anterior. Hemos notado algunas eficiencias reales con DevOps, reduciendo nuestro flujo de trabajo en proceso en aproximadamente un 80%. Con el último huracán, pudimos escalar con IBM Cloud muy fácilmente y sin problemas. El servicio comunitario de IBM nos permite escalar tan rápido como cambia el clima. Mientras migramos nuestra plataforma VEP a los servicios de IBM Cloud Kubernetes, una de las mayores ventajas es que este es un servicio administrado, lo que permite a nuestro equipo realizar otros trabajos. Con la migración a IBM Cloud Kubernetes, hemos ganado la capacidad de tener seguridad de automatización integrada, una característica que era muy manual en el pasado. El equipo de seguridad de IBM nos notifica proactivamente sobre cualquier vulnerabilidad de seguridad. Las herramientas y la inversión que la empresa ha hecho nos dan capacidades que nunca antes hubiésemos tenido, lo que entusiasma mucho a nuestros desarrolladores e ingenieros para construir cosas nuevas. El alcance global de IBM y su tecnología, junto con nuestras capacidades de previsión, nos permite ampliar nuestros productos y servicios para mantener seguras a las personas en todo el mundo.\n",
    "\n",
    "---\n",
    "\n",
    "**Buenas tardes, damas y caballeros.** Bienvenido a bordo, capitán. Prácticamente anticipando la llegada a tiempo. En un escenario con una cancelación de vuelo o alguna otra operación fuera de horario, hemos tenido un sistema para encontrar nuevos asientos y disponibilidad de vuelos para esos clientes. Sin embargo, creemos que muchas veces los clientes no saben que esa era la mejor opción para ellos. Queríamos crear un sistema donde realmente pudieran ver opciones alternativas. El objetivo era facilitar una mejor experiencia para nuestros clientes sobre cómo llegar a su destino de forma automatizada en el canal de su elección. En nuestro negocio, huracanes, tormentas y otros eventos naturales impactan a nuestros clientes de forma bastante regular. Lo que pasó es una historia real: llegaron los huracanes y todos dijeron \"esto es ridículo\". Nuestros clientes estaban siendo impactados inmediatamente por los huracanes. ¿Por qué estamos mitigando el riesgo de un lanzamiento tradicional cuando tenemos el poder de la nube? Este es exactamente el escenario que nuestros clientes necesitan. La gente se da cuenta de que estas actividades y la integración son mucho más fáciles cuando usamos tecnología en la nube y, especialmente, microservicios, ya que podemos dividir los problemas en problemas más pequeños, que son mucho más fáciles de resolver. Esta es la tecnología que debemos adoptar ahora para mantener el ritmo de las expectativas de nuestros clientes.\n",
    "\n",
    "---\n",
    "\n",
    "**Lo que me encanta de mi trabajo en Cementos Pacasmayo** es que me desafía todos los días. La tecnología se mueve tan ágilmente que tengo que seguirle el ritmo. Me encanta que la empresa también esté presente en esa misma carretera hacia sus transformaciones digitales. Nuestros clientes ahora exigen tiempos más rápidos para el mercado y una cartera más amplia de productos que necesitamos para mantenernos al día y entregar el mejor servicio y los mejores productos en el menor tiempo posible. Implementamos SAP S/4HANA en IBM Cloud, ya que nos brinda una infraestructura rentable y bastante escalable. Cementos Pacasmayo ahora está pasando de ser una empresa impulsada por el producto a una empresa impulsada por el servicio. El área de contabilidad ahora tiene conocimientos reales en tiempo real de nuestros estados financieros que no solían tener. También en nuestra área de suministro y cadena, especialmente en la adquisición, ahora tienen un tablero que les ayuda a tomar decisiones justo a tiempo.\n",
    "\n",
    "---\n",
    "\n",
    "**Mi nombre es Mukesh Sharma** y soy el director sénior de TI en Welch Food. Welch comenzó como organización hace 150 años y, bastante rápido, se convirtió en el sello nacional. Somos propiedad de los agricultores; es un golpe de estado y valoramos el esfuerzo que nuestros agricultores pusieron en ello. Eso es lo que nos impulsa todos los días, saber que nuestros agricultores están trabajando en las granjas y nosotros estamos aquí para asegurarnos de que la organización brinde el mejor beneficio de cada dólar gastado para ellos. La TI de Welch es el corazón del negocio. Todos los sistemas de fabricación, cualquier dato de fabricación que llega a través de diferentes procesos, sistemas ERP y demás. Comenzamos este viaje con la nube privada. Luego, al mismo tiempo, iniciamos el proceso de preguntarnos sobre cualquier nueva solicitud: ¿se puede ejecutar en la nube pública? El enfoque que hemos adoptado es lento y constante, moviendo estos sistemas que no son de misión crítica, que otra persona puede manejar mejor, y dejándolos correr mientras dedicamos tiempo a nuestros valores fundamentales.\n",
    "\n",
    "---\n",
    "\n",
    "**Liquid Power** es una empresa que vende productos que, al ser inyectados en oleoductos de petróleo crudo o gasolina, cambian las características del flujo. Puedes aumentar el flujo de esos fluidos o utilizar menos energía para empujar los fluidos por la tubería. Necesitábamos convertirnos en una empresa independiente bajo Berkshire Hathaway. Sin experiencia en correr nuestra propia infraestructura para SAP, tuvimos que encontrar la mejor solución para operar como una empresa independiente. Tomamos muchas decisiones sobre si ir a la nube o quedarnos en las instalaciones. Hablé con algunos CIO y profesionales de TI, y todos dicen que la nube es la mejor opción. Todo este proceso y la migración a la nube está dando lo que creemos que es una ventaja competitiva. Lo que realmente amo de tener IBM con SAP en la nube es que es escalable. Podemos hacerlo mucho más rápido y cambiar en un período de tiempo mucho más rápido de lo que podríamos hacerlo de otra manera.\n"
   ]
  },
  {
   "cell_type": "markdown",
   "metadata": {},
   "source": []
  }
 ],
 "metadata": {
  "language_info": {
   "name": "python"
  }
 },
 "nbformat": 4,
 "nbformat_minor": 2
}
