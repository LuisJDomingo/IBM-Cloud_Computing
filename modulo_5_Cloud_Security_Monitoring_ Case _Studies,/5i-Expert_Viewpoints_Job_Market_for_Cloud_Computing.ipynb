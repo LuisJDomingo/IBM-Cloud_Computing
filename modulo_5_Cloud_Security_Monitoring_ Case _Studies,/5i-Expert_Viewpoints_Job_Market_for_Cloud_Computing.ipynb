{
 "cells": [
  {
   "cell_type": "markdown",
   "metadata": {},
   "source": [
    "**Bienvenido al mercado laboral de computación en la nube: puntos de vista de expertos.**\n",
    "\n",
    "En este vídeo, escucharemos a varios profesionales de las aplicaciones en la nube discutir el mercado laboral y la naturaleza de las oportunidades disponibles en computación en la nube para personas que aspiran a ingresar a este campo. También discutirán lo que prevén como el futuro de oportunidades en este campo.\n",
    "\n",
    "A medida que más empresas adoptan algún tipo de nube y se vuelven más conscientes de la nube, no faltan oportunidades para los aspirantes a desarrolladores de software. Ahora, podrías ingresar a este campo como **arquitecto de la nube**, donde estarías pensando en cómo diseñar aplicaciones, que se ven muy diferentes a desarrollar aplicaciones monolíticas en un solo servidor, versus desarrollar aplicaciones para la nube distribuida. \n",
    "\n",
    "Otro rol podría ser el de **ingeniero de datos**, donde se busca construir canales para que los datos fluyan desde sus bases de datos de origen y otro tipo de almacenamiento hacia modelos de ciencia de datos que se implementen a escala en la nube.\n",
    "\n",
    "Otro rol muy importante es el de **ingeniero de seguridad en la nube**. En ese rol, será tu responsabilidad asegurarte de que todas las diferentes capas de tu nube sean seguras para los desarrolladores y los usuarios finales.\n",
    "\n",
    "Hay tantas oportunidades para las personas que están pensando en ingresar a la computación en la nube que te sorprendería saber cuántas empresas todavía no están en la nube. Está muy claro que eventualmente todos irán a la nube, porque es mucho mejor por muchas razones de las que hemos hablado. Y no hay suficiente talento en este momento para cubrir toda esa demanda. Esa demanda seguirá creciendo. Realmente, hay tantas cosas que saber sobre la nube que una sola persona no puede saberlas todas. Entonces, si aprendes muy bien una o dos cosas sobre la nube, ya serás muy valioso para alguna empresa.\n",
    "\n",
    "Si estás empezando, te recomendaría obtener una **certificación**. No tenía experiencia en la nube y obtuve una certificación, y al hacerlo, instantáneamente fui más visible para los reclutadores y conseguí un trabajo. Si no tienes la experiencia en tu currículum, empieza obteniendo una certificación. Dependiendo de tu área de interés, puedes acceder a diferentes campos de la computación en la nube. \n",
    "\n",
    "Si te gusta la programación, puedes ser **desarrollador de aplicaciones en la nube**. Debes tener conocimientos de tecnologías front-end y back-end como Python, Java, Angular, React, etc. También se requiere que tengas conocimientos de bases de datos relacionales como SQL, MySQL, así como bases de datos NoSQL como Hadoop, MongoDB, etc.\n",
    "\n",
    "Existe una demanda en rápido aumento de **aprendizaje automático e inteligencia artificial**. Debes tener una buena comprensión de los conceptos de aprendizaje automático y la capacidad de manejar y procesar big data. Puedes elegir la carrera profesional de **científico de datos** o **ingeniero de aprendizaje automático**.\n",
    "\n",
    "También existe una necesidad de profesionales de la nube con especialización en habilidades de **seguridad en la nube**. Estos profesionales deben comprender la seguridad en la nube y aprovechar las herramientas de seguridad en la nube que ofrecen las organizaciones.\n",
    "\n",
    "Otra oportunidad en la computación en la nube se encuentra en el área de **DevOps**. Los ingenieros de DevOps necesitarán comprender herramientas de DevOps como Docker, Kubernetes, GitHub, etc. También deberían centrarse en comprender el proceso de CI/CD y automatizar el proceso de desarrollo e implementación.\n",
    "\n",
    "Hay una gran variedad de carreras profesionales en el espacio de la tecnología de la nube, incluidas opciones de trayectoria profesional para personas con y sin un título universitario técnico. Las empresas no pueden encontrar suficientes personas capacitadas en tecnología de la nube, así que las oportunidades y la demanda definitivamente existen. Además, las empresas se están centrando en formar a sus empleados actuales, tanto en recapacitación como en mejora de habilidades, para satisfacer esta demanda internamente. \n",
    "\n",
    "Por eso, Coursera se compromete a ayudar a las personas sin títulos universitarios o aquellas que están realizando cambios de carrera a acceder a estas oportunidades laborales en tecnología de la nube.\n"
   ]
  },
  {
   "cell_type": "markdown",
   "metadata": {},
   "source": []
  }
 ],
 "metadata": {
  "language_info": {
   "name": "python"
  }
 },
 "nbformat": 4,
 "nbformat_minor": 2
}
