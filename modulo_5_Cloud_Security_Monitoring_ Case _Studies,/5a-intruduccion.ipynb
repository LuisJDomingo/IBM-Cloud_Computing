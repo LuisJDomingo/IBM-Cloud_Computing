{
 "cells": [
  {
   "cell_type": "markdown",
   "metadata": {},
   "source": [
    "### Módulo 5 - Introducción\n",
    "\n",
    "En este módulo, aprenderás sobre los elementos de la seguridad en la nube, incluyendo la Gestión de Identidad y Acceso (IAM) y la encriptación en la nube. Este módulo cubrirá cómo las organizaciones utilizan soluciones de monitoreo en la nube para optimizar los beneficios comerciales. Te familiarizarás con estudios de caso de adopción en la nube en diferentes sectores industriales y con las diversas oportunidades y roles profesionales disponibles en el campo de la computación en la nube hoy en día. Al final del módulo, completarás un proyecto final para demostrar tu conocimiento de la computación en la nube.\n",
    "\n",
    "### Objetivos de Aprendizaje\n",
    "\n",
    "Después de completar este módulo, serás capaz de:\n",
    "\n",
    "- Explicar los conceptos y componentes de la seguridad en la nube, incluyendo la Gestión de Identidad y Acceso y la encriptación en la nube.\n",
    "- Discutir las diferentes políticas de seguridad en la nube, procedimientos tecnológicos, servicios y soluciones.\n",
    "- Explicar la arquitectura de seguridad y sus métodos.\n",
    "- Describir la gestión de identidad y acceso.\n",
    "- Describir los fundamentos del monitoreo en la nube y sus beneficios.\n",
    "- Explicar las diferentes soluciones de monitoreo en la nube y sus beneficios.\n",
    "- Resumir los diversos estudios de caso de adopción en la nube en diferentes sectores industriales.\n",
    "- Discutir los roles y oportunidades profesionales disponibles en la computación en la nube.\n",
    "- Explicar las diferentes especializaciones en el campo de la computación en la nube.\n",
    "- Resumir la encriptación en la nube.\n"
   ]
  },
  {
   "cell_type": "markdown",
   "metadata": {},
   "source": []
  }
 ],
 "metadata": {
  "language_info": {
   "name": "python"
  }
 },
 "nbformat": 4,
 "nbformat_minor": 2
}
