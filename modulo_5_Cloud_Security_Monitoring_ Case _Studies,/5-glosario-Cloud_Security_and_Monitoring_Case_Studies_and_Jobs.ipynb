{
 "cells": [
  {
   "cell_type": "markdown",
   "metadata": {},
   "source": [
    "| **Término**                            | **Definición**                                                                                                                                                                               |\n",
    "|----------------------------------------|---------------------------------------------------------------------------------------------------------------------------------------------------------------------------------------------|\n",
    "| **Grupo de acceso**                    | Un grupo de usuarios e ID de servicio creado para que el mismo acceso pueda asignarse a todas las entidades dentro del grupo con una o más políticas de acceso.                            |\n",
    "| **Usuarios administrativos**           | Crean, actualizan y eliminan instancias de aplicaciones y servicios, y necesitan tener visibilidad de las actividades de los miembros de su equipo.                                          |\n",
    "| **Claves API**                         | Identificadores únicos que se pasan a una API para identificar la aplicación o usuario que realiza la llamada.                                                                             |\n",
    "| **Monitoreo del rendimiento de la aplicación (APM)** | Mide la disponibilidad y el rendimiento de la aplicación, proporcionando herramientas necesarias para resolver problemas en el entorno de la aplicación.                                    |\n",
    "| **Usuarios de la aplicación**          | Usuarios de las aplicaciones alojadas en la nube.                                                                                                                                           |\n",
    "| **AppSec**                             | Seguridad de la aplicación.                                                                                                                                                                |\n",
    "| **Auditoría y cumplimiento**           | Servicio crítico dentro del marco de identidad y acceso utilizado para validar los controles implementados contra las políticas.                                                           |\n",
    "| **Autenticación**                      | También conocida como servicio de identidad, permite a las aplicaciones desplegadas en la nube autenticar a los usuarios a nivel de aplicación.                                           |\n",
    "| **BYOK (Bring Your Own Keys)**         | Trae tus propias claves.                                                                                                                                                                    |\n",
    "| **Encriptación del lado del cliente**  | Ocurre antes de que los datos se envíen al almacenamiento en la nube.                                                                                                                         |\n",
    "| **Servicios de directorio en la nube** | Se utilizan para gestionar de forma segura los perfiles de usuario y las credenciales asociadas dentro de un entorno en la nube.                                                             |\n",
    "| **Encriptación en la nube**            | También conocida como la última línea de defensa, encripta datos y proporciona un robusto control de acceso a datos, gestión de claves y gestión de certificados.                         |\n",
    "| **Soluciones de monitoreo en la nube** | Evalúan los comportamientos de datos, aplicaciones e infraestructura para el rendimiento, la asignación de recursos, la disponibilidad de la red, el cumplimiento y los riesgos y amenazas de seguridad. |\n",
    "| **Seguridad en la nube**               | Políticas, procedimientos tecnológicos, servicios y soluciones diseñados para proteger las aplicaciones y datos empresariales en la nube contra amenazas internas, brechas de datos, problemas de cumplimiento y amenazas de seguridad organizadas. |\n",
    "| **Herramientas de monitoreo de bases de datos** | Ayudan a rastrear procesos, consultas y disponibilidad de servicios para asegurar la precisión y fiabilidad de los sistemas de gestión de bases de datos.                                    |\n",
    "| **Clave de descifrado**                | Define cómo se transformarán los datos encriptados de vuelta a datos legibles.                                                                                                               |\n",
    "| **Usuarios desarrolladores**           | Autorizados para leer información sensible y para crear, actualizar y eliminar aplicaciones.                                                                                                 |\n",
    "| **Encriptación**                      | Cifrar datos para hacerlos ilegibles.                                                                                                                                                         |\n",
    "| **Algoritmo de encriptación**          | Define las reglas por las que los datos serán transformados para que se vuelvan ilegibles.                                                                                                   |\n",
    "| **Encriptación en reposo**             | Protege los datos mientras están almacenados.                                                                                                                                               |\n",
    "| **Encriptación en tránsito**           | Protege los datos mientras se transmiten de un lugar a otro.                                                                                                                                 |\n",
    "| **Encriptación en uso**               | Protege los datos cuando están en uso en memoria.                                                                                                                                            |\n",
    "| **Gestión de identidad y acceso**      | También conocida como control de acceso, ayuda a autenticar y autorizar a los usuarios y proporciona acceso específico a recursos, servicios y aplicaciones en la nube.                   |\n",
    "| **Herramientas de monitoreo de infraestructura** | Identifican fallos menores y de gran escala en el hardware y brechas de seguridad para que los desarrolladores y administradores puedan tomar medidas correctivas antes de que los problemas afecten la experiencia del usuario. |\n",
    "| **Servicios de gestión de claves**     | Ayudan a realizar la gestión del ciclo de vida para las claves de encriptación utilizadas en servicios en la nube o aplicaciones construidas por el cliente.                               |\n",
    "| **KYOK (Keep Your Own Keys)**          | Mantén tus propias claves.                                                                                                                                                                    |\n",
    "| **Autenticación multifactor**          | Añade una capa adicional de autenticación para los usuarios de la aplicación.                                                                                                                |\n",
    "| **Informe**                            | Proporciona una vista centrada en el usuario del acceso a los recursos.                                                                                                                       |\n",
    "| **Encriptación del lado del servidor** | Ocurre después de que el almacenamiento en la nube recibe tus datos pero antes de que los datos se escriban en disco y se almacenen.                                                          |\n",
    "| **SSL (Secure Sockets Layer)**         | Capa de Conexiones Seguras.                                                                                                                                                                    |\n",
    "| **TLS (Transport Layer Security)**     | Seguridad de la Capa de Transporte.                                                                                                                                                           |\n",
    "| **Capacidad de gestión de acceso de usuarios y servicios** | Permite a los propietarios de aplicaciones y servicios en la nube provisionar y desprovisionar perfiles de usuario con mínima interacción humana.                                            |\n"
   ]
  },
  {
   "cell_type": "markdown",
   "metadata": {},
   "source": [
    "| **Término**                            | **Definición**                                                                                                                                                                               |\n",
    "|----------------------------------------|---------------------------------------------------------------------------------------------------------------------------------------------------------------------------------------------|\n",
    "| **Grupo de acceso**                    | Un grupo de usuarios e ID de servicio creado para que el mismo acceso pueda asignarse a todas las entidades dentro del grupo con una o más políticas de acceso.                            |\n",
    "| **Usuarios administrativos**           | Crean, actualizan y eliminan instancias de aplicaciones y servicios, y necesitan tener visibilidad de las actividades de los miembros de su equipo.                                          |\n",
    "| **Claves API**                         | Identificadores únicos que se pasan a una API para identificar la aplicación o usuario que realiza la llamada.                                                                             |\n",
    "| **Monitoreo del rendimiento de la aplicación (APM)** | Mide la disponibilidad y el rendimiento de la aplicación, proporcionando herramientas necesarias para resolver problemas en el entorno de la aplicación.                                    |\n",
    "| **Usuarios de la aplicación**          | Usuarios de las aplicaciones alojadas en la nube.                                                                                                                                           |\n",
    "| **AppSec**                             | Seguridad de la aplicación.                                                                                                                                                                |\n",
    "| **Auditoría y cumplimiento**           | Servicio crítico dentro del marco de identidad y acceso utilizado para validar los controles implementados contra las políticas.                                                           |\n",
    "| **Autenticación**                      | También conocida como servicio de identidad, permite a las aplicaciones desplegadas en la nube autenticar a los usuarios a nivel de aplicación.                                           |\n",
    "| **BYOK (Bring Your Own Keys)**         | Trae tus propias claves.                                                                                                                                                                    |\n",
    "| **Encriptación del lado del cliente**  | Ocurre antes de que los datos se envíen al almacenamiento en la nube.                                                                                                                         |\n",
    "| **Servicios de directorio en la nube** | Se utilizan para gestionar de forma segura los perfiles de usuario y las credenciales asociadas dentro de un entorno en la nube.                                                             |\n",
    "| **Encriptación en la nube**            | También conocida como la última línea de defensa, encripta datos y proporciona un robusto control de acceso a datos, gestión de claves y gestión de certificados.                         |\n",
    "| **Soluciones de monitoreo en la nube** | Evalúan los comportamientos de datos, aplicaciones e infraestructura para el rendimiento, la asignación de recursos, la disponibilidad de la red, el cumplimiento y los riesgos y amenazas de seguridad. |\n",
    "| **Seguridad en la nube**               | Políticas, procedimientos tecnológicos, servicios y soluciones diseñados para proteger las aplicaciones y datos empresariales en la nube contra amenazas internas, brechas de datos, problemas de cumplimiento y amenazas de seguridad organizadas. |\n",
    "| **Herramientas de monitoreo de bases de datos** | Ayudan a rastrear procesos, consultas y disponibilidad de servicios para asegurar la precisión y fiabilidad de los sistemas de gestión de bases de datos.                                    |\n",
    "| **Clave de descifrado**                | Define cómo se transformarán los datos encriptados de vuelta a datos legibles.                                                                                                               |\n",
    "| **Usuarios desarrolladores**           | Autorizados para leer información sensible y para crear, actualizar y eliminar aplicaciones.                                                                                                 |\n",
    "| **Encriptación**                      | Cifrar datos para hacerlos ilegibles.                                                                                                                                                         |\n",
    "| **Algoritmo de encriptación**          | Define las reglas por las que los datos serán transformados para que se vuelvan ilegibles.                                                                                                   |\n",
    "| **Encriptación en reposo**             | Protege los datos mientras están almacenados.                                                                                                                                               |\n",
    "| **Encriptación en tránsito**           | Protege los datos mientras se transmiten de un lugar a otro.                                                                                                                                 |\n",
    "| **Encriptación en uso**               | Protege los datos cuando están en uso en memoria.                                                                                                                                            |\n",
    "| **Gestión de identidad y acceso**      | También conocida como control de acceso, ayuda a autenticar y autorizar a los usuarios y proporciona acceso específico a recursos, servicios y aplicaciones en la nube.                   |\n",
    "| **Herramientas de monitoreo de infraestructura** | Identifican fallos menores y de gran escala en el hardware y brechas de seguridad para que los desarrolladores y administradores puedan tomar medidas correctivas antes de que los problemas afecten la experiencia del usuario. |\n",
    "| **Servicios de gestión de claves**     | Ayudan a realizar la gestión del ciclo de vida para las claves de encriptación utilizadas en servicios en la nube o aplicaciones construidas por el cliente.                               |\n",
    "| **KYOK (Keep Your Own Keys)**          | Mantén tus propias claves.                                                                                                                                                                    |\n",
    "| **Autenticación multifactor**          | Añade una capa adicional de autenticación para los usuarios de la aplicación.                                                                                                                |\n",
    "| **Informe**                            | Proporciona una vista centrada en el usuario del acceso a los recursos.                                                                                                                       |\n",
    "| **Encriptación del lado del servidor** | Ocurre después de que el almacenamiento en la nube recibe tus datos pero antes de que los datos se escriban en disco y se almacenen.                                                          |\n",
    "| **SSL (Secure Sockets Layer)**         | Capa de Conexiones Seguras.                                                                                                                                                                    |\n",
    "| **TLS (Transport Layer Security)**     | Seguridad de la Capa de Transporte.                                                                                                                                                           |\n",
    "| **Capacidad de gestión de acceso de usuarios y servicios** | Permite a los propietarios de aplicaciones y servicios en la nube provisionar y desprovisionar perfiles de usuario con mínima interacción humana.                                            |\n"
   ]
  },
  {
   "cell_type": "markdown",
   "metadata": {},
   "source": []
  }
 ],
 "metadata": {
  "language_info": {
   "name": "python"
  }
 },
 "nbformat": 4,
 "nbformat_minor": 2
}
