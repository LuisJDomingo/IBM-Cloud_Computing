{
 "cells": [
  {
   "cell_type": "markdown",
   "metadata": {},
   "source": [
    "**Resumen y Puntos Destacados**\n",
    "\n",
    "En este módulo, has aprendido:\n",
    "\n",
    "- **La seguridad en la nube** se refiere a las políticas, procedimientos tecnológicos, servicios y soluciones diseñados para proteger las aplicaciones y datos empresariales en la nube contra amenazas internas, brechas de datos, problemas de cumplimiento y amenazas de seguridad organizadas.\n",
    "\n",
    "- **La seguridad en la nube** es una responsabilidad compartida entre el proveedor de la nube y la organización usuaria.\n",
    "\n",
    "- La **arquitectura de seguridad y los métodos para lograr seguridad continua** deben integrarse a lo largo del ciclo de vida de una aplicación para garantizar que la aplicación se ejecute en una plataforma segura, que el código esté libre de vulnerabilidades y que los riesgos operacionales se comprendan.\n",
    "\n",
    "- La **Gestión de Identidad y Acceso**, también conocida como control de acceso, ayuda a autenticar y autorizar usuarios y proporciona acceso específico a recursos, servicios y aplicaciones en la nube.\n",
    "\n",
    "- Como parte de sus servicios de Gestión de Identidad y Acceso, la mayoría de los proveedores de nube ofrecen a los usuarios la capacidad de definir grupos de acceso y crear políticas de acceso que definan permisos para los usuarios sobre los recursos de la cuenta.\n",
    "\n",
    "- **La encriptación en la nube**, a menudo llamada la última línea de defensa, encripta los datos y proporciona un robusto control de acceso a datos, gestión de claves y gestión de certificados.\n",
    "\n",
    "- Los datos necesitan encriptación en tres estados:\n",
    "  - **Encriptación en reposo**: Protege los datos mientras están almacenados.\n",
    "  - **Encriptación en tránsito**: Protege los datos mientras se transmiten de un lugar a otro.\n",
    "  - **Encriptación en uso**: Protege los datos mientras están en uso en memoria.\n",
    "\n",
    "- Todos los sistemas conectados y los servicios basados en la nube deben ser monitoreados para mantener la visibilidad de todos los intercambios de datos entre entornos en la nube públicos, privados e híbridos. Esto asegura que la nube proporcione una plataforma confiable para integrarse de manera segura con los centros de datos empresariales.\n",
    "\n",
    "- Las empresas en todo el mundo están logrando beneficios tangibles del uso de tecnologías y servicios en la nube, incluyendo:\n",
    "  - **The Weather Company** migrando a la nube para entregar de manera confiable datos meteorológicos críticos a alta velocidad, especialmente durante eventos meteorológicos importantes como huracanes y tornados.\n",
    "  - **American Airlines** utiliza la plataforma y tecnologías en la nube para ofrecer herramientas de autoservicio digital y valor al cliente más rápidamente en toda su empresa.\n",
    "  - **Cementos Pacasmayo** alcanzando la excelencia operativa y la visión estratégica para ayudar a impulsar la transformación estratégica y alcanzar nuevos mercados utilizando servicios en la nube.\n",
    "  - **Welch** eligió el almacenamiento en la nube para impulsar el valor empresarial desde la nube híbrida.\n",
    "  - **LiquidPower** utiliza aplicaciones SAP basadas en la nube para impulsar el crecimiento empresarial.\n",
    "\n",
    "- **El tamaño del mercado** de la industria de servicios en la nube es casi tres veces el crecimiento de los servicios de TI en general, aumentando la necesidad de profesionales cualificados en computación en la nube. Algunos roles comunes disponibles en este dominio incluyen Ingenieros de Software en la Nube, Especialistas en Integración en la Nube, Ingenieros de Datos en la Nube, Ingenieros de Seguridad en la Nube, Ingenieros de DevOps en la Nube y Arquitectos de Soluciones en la Nube.\n"
   ]
  },
  {
   "cell_type": "markdown",
   "metadata": {},
   "source": []
  }
 ],
 "metadata": {
  "language_info": {
   "name": "python"
  }
 },
 "nbformat": 4,
 "nbformat_minor": 2
}
