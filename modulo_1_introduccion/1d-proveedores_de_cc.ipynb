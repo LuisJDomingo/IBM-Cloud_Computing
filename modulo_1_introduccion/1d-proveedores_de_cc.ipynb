{
 "cells": [
  {
   "cell_type": "markdown",
   "metadata": {},
   "source": [
    "### Predicciones sobre el futuro de la nube\n",
    "\n",
    "Veamos algunos números y predicciones que nos ayudan a ver la escala que se prevé que alcance la nube en los próximos años. \n",
    "\n",
    "Gartner Inc. prevé que, en un futuro próximo, el gasto mundial en nube pública crecerá un 20,7 % hasta alcanzar un total de **591 800 millones de dólares**, frente a los **490 300 millones de dólares** de los años anteriores. El gasto mundial en escritorio como servicio alcanzará los **3200 millones de dólares** en 2023, a medida que las empresas se alejan de las soluciones informáticas tradicionales para clientes y pasan a servicios de escritorio virtual basados en suscripción. \n",
    "\n",
    "En los próximos años, las empresas gastarán más en servicios de nube pública que en soluciones de TI tradicionales. \n",
    "\n",
    "Lo que está claro es que la nube se está acelerando más rápido de lo previsto, la adopción es alta y los ingresos se están disparando. La pregunta para las empresas hoy en día ya no es si necesitan adoptar la nube, sino **cuál debería ser su estrategia de adopción de la nube** para servir mejor a sus negocios y clientes.\n",
    "\n",
    "Siguiendo el ritmo de esta ola tecnológica e impulsándola, están los proveedores de servicios en la nube con una amplia gama de servicios. Ahora hablaremos de algunos de los principales proveedores de servicios en la nube en orden alfabético.\n",
    "\n",
    "1. **Alibaba Cloud:**  \n",
    "   Aunque es relativamente nuevo, es el mayor proveedor de servicios de computación en la nube de China. Alibaba Cloud ofrece un conjunto integral de servicios globales de computación en la nube para impulsar no solo los negocios en línea de sus clientes, sino también el propio ecosistema de comercio electrónico del grupo Alibaba. Ofrece una gran cantidad de productos y servicios como computación, red, almacenamiento, seguridad, monitoreo y administración, comunicación, análisis, IoT, desarrollo de aplicaciones, migración de datos, alojamiento web y más.\n",
    "\n",
    "2. **Amazon Web Services (AWS):**  \n",
    "   AWS Cloud, uno de los primeros en ingresar al espacio de computación en la nube, ofrece una amplia gama de servicios de infraestructura y plataforma a individuos, empresas y gobiernos sobre una base de pago por uso medido. Amazon Cloud ofrece una amplia gama de productos, servicios y soluciones que abarcan desde computación, DevOps, datos, análisis, IoT, aprendizaje automático, redes, distribución de contenido, robótica, computación sin servidor y mucho más.\n",
    "\n",
    "3. **Google Cloud Platform (GCP):**  \n",
    "   GCP es un conjunto de servicios de computación en la nube que proporciona infraestructura, plataforma y entornos informáticos sin servidor. Google también utiliza GCP internamente para sus productos para el usuario final, como Google Search y YouTube. Google Cloud incluye G Suite con productos para comunicación, productividad, colaboración, almacenamiento y más. Google App Engine es una plataforma para desarrollar y alojar aplicaciones web en centros de datos administrados por Google, asignando y desasignando recursos automáticamente para manejar la demanda.\n",
    "\n",
    "4. **IBM Cloud:**  \n",
    "   IBM Cloud es una plataforma de nube de pila completa que abarca entornos públicos, privados e híbridos, con productos y servicios que cubren computación, red, almacenamiento, administración, seguridad, DevOps y bases de datos. Algunas de sus ofertas destacadas incluyen sus servidores físicos, VMware, paquetes de nube para modernización de aplicaciones, nube privada virtual y el conjunto de tecnologías emergentes como IA, IoT, blockchain, datos y análisis. Con la adquisición de Red Hat, IBM también se está posicionando como el proveedor líder de nube híbrida de nuestros tiempos.\n",
    "\n",
    "5. **Microsoft Azure:**  \n",
    "   Azure es una plataforma de nube flexible para crear, probar, implementar y administrar aplicaciones y servicios a través de centros de datos administrados por Microsoft. Con sus centros de datos distribuidos en muchas regiones, Azure ofrece un alcance global con presencia local. Proporciona servicios de software, plataforma e infraestructura que respaldan lenguajes, herramientas y marcos específicos de Microsoft y de terceros.\n",
    "\n",
    "6. **Oracle Cloud:**  \n",
    "   Oracle es principalmente conocido por SaaS y Database as a service, también conocido como Oracle Data Cloud. La oferta de SaaS de Oracle incluye una amplia gama de aplicaciones como ERP, SCM, HCM, marketing, ventas y CX que se ejecutan en la nube. Oracle Data Cloud ofrece una de las plataformas de gestión de datos más grandes basadas en la nube, lo que ayuda a los clientes a personalizar sus campañas de marketing en línea, fuera de línea y móviles para audiencias específicas. Oracle Cloud también ofrece algunos servicios de infraestructura y plataforma en la nube.\n",
    "\n",
    "7. **Salesforce:**  \n",
    "   Salesforce se especializa en su oferta de software como servicio que se centra en la gestión de relaciones con los clientes, ayudando a las empresas a conectarse mejor con sus clientes, socios y clientes potenciales. Salesforce ofrece múltiples servicios en la nube, como Sales Cloud, Service Cloud y Marketing Cloud, que ayudan a los clientes a realizar un seguimiento de los análisis en tiempo real, el éxito de los clientes y el soporte de las quejas de los clientes, incluso escuchando a los clientes en las plataformas sociales para dirigirlos automáticamente a los agentes adecuados para su resolución.\n",
    "\n",
    "8. **SAP:**  \n",
    "   SAP es conocida por su software y aplicaciones empresariales como ERP, CRM, RR. HH. y Finanzas que se ejecutan en la nube. También existe una plataforma en la nube de SAP para crear y ampliar los pacientes de aplicaciones comerciales con ciclos de innovación rápidos en un entorno de computación en la nube seguro administrado por SAP.\n",
    "\n",
    "---\n",
    "\n",
    "En el próximo capítulo, veremos el caso comercial de la computación en la nube.\n"
   ]
  },
  {
   "cell_type": "markdown",
   "metadata": {},
   "source": []
  }
 ],
 "metadata": {
  "language_info": {
   "name": "python"
  }
 },
 "nbformat": 4,
 "nbformat_minor": 2
}
