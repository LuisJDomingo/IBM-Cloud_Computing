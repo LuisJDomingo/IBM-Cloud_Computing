{
 "cells": [
  {
   "cell_type": "markdown",
   "metadata": {},
   "source": [
    "\n",
    "Encontrar sentido a los interminables flujos de datos es donde entra en juego la inteligencia artificial (IA). Muchas de las aplicaciones que utilizamos hoy en día con IA no serían posibles sin la escalabilidad y la computación bajo demanda que ofrece la nube. Existe una relación triple entre IA, IoT y la nube. Así como la IA consume los datos producidos por los dispositivos IoT, el comportamiento de estos dispositivos puede ser dictado en base a las respuestas de la IA.\n",
    "\n",
    "### Ejemplo: Asistentes inteligentes\n",
    "\n",
    "Un tipo común de dispositivo IoT son los asistentes inteligentes, que continúan aprendiendo las preferencias del usuario a medida que aumenta el uso. Por ejemplo, conocen las canciones favoritas, los ajustes de temperatura en el hogar y los horarios de comida preferidos. Con el tiempo, anticipan las acciones del usuario basándose en el historial de interacciones pasadas. Vemos aquí una relación simbiótica entre IoT, IA y la nube: el IoT entrega los datos, la IA potencia los conocimientos y ambas tecnologías emergentes aprovechan la escalabilidad y el poder de procesamiento de la nube para proporcionar valor tanto a individuos como a empresas.\n",
    "\n",
    "### Caso de estudio: Asociación de Tenis de EE. UU. (USTA)\n",
    "\n",
    "Veamos cómo la USTA está utilizando IA en la nube para ofrecer experiencias digitales únicas a millones de fans en todo el mundo. Durante dos semanas cada verano, los aficionados al tenis de todo el mundo vuelven la vista a Nueva York para el US Open. Cientos de miles de personas asisten en el lugar, mientras que millones más lo siguen en línea. Pero donde el público ve tenis, IBM ve datos: puntuaciones, estadísticas, vistas y sonidos.\n",
    "\n",
    "IBM integra y analiza los datos que fluyen de la cancha y ofrece experiencias digitales únicas para más de 10 millones de aficionados al tenis en todo el mundo, todo a través de IBM Cloud. IBM Cloud es la base digital del US Open, capaz de escalar rápidamente para gestionar un aumento del 5000% en el tráfico web y ofrecer una experiencia consistente a los fans globalmente.\n",
    "\n",
    "Con Watson en IBM Cloud, la USTA puede interactuar con los aficionados de maneras únicas cada año:\n",
    "\n",
    "- **Slam Tracker**: Analiza más de 26 millones de puntos de datos históricos, brindando a los fans una visión profunda de los partidos destacados y permitiendo ver cómo cambia el impulso de un partido en tiempo real.\n",
    "  \n",
    "- **AI Highlights**: Utiliza Watson para procesar miles de horas de vídeo del US Open, reconociendo los aplausos de la multitud y las celebraciones de los jugadores, destacando lo mejor del tenis.\n",
    "\n",
    "Este año, la USTA también pone el poder de la IA en manos de jugadores y entrenadores. Watson analiza los vídeos de los partidos, permitiendo que los entrenadores encuentren rápidamente las imágenes necesarias para guiar el desarrollo de sus jugadores.\n",
    "\n",
    "Además, si los aficionados necesitan saber dónde aparcar, encontrar una buena hamburguesa o comprar lo último en equipamiento del US Open, pueden encontrar respuestas con la función de información para huéspedes en la aplicación del US Open y la web\n"
   ]
  }
 ],
 "metadata": {
  "language_info": {
   "name": "python"
  }
 },
 "nbformat": 4,
 "nbformat_minor": 2
}
