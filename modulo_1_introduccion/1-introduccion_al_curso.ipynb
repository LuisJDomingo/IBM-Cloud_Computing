{
 "cells": [
  {
   "cell_type": "markdown",
   "metadata": {},
   "source": [
    "About the Course\n",
    "Enunciados de nivel 2 podrían ser creados por proveedores del curso en el futuro.\n"
   ]
  },
  {
   "cell_type": "markdown",
   "metadata": {},
   "source": [
    "Course Overview\n",
    "Get started in Cloud Computing with this beginner friendly, self-paced course! You will gain the foundational knowledge required for understanding cloud computing from a business perspective and also as a cloud practitioner.  \n",
    "\n",
    "In this course, you’ll be introduced to some of the prominent cloud service providers of our times (e.g. AWS, Google, IBM, Microsoft, etc.) the services they offer, and look at some case studies of cloud computing across industry verticals. You’ll also be introduced to Cloud Adoption, and some related technologies such as Blockchain & Analytics and AI.  \n",
    "\n",
    "You will learn about the various cloud service models (IaaS, PaaS, SaaS) and deployment models (Public, Private, Hybrid) and the key components of a cloud infrastructure (VMs, Networking, Storage - File, Block, Object, CDN). We also cover emergent cloud trends and practices including - Hybrid Multicloud, Microservices, Serverless, DevOps, Cloud Native and Application Modernization. You will also learn the basics of cloud security, monitoring, as well as different job roles in the cloud industry. \n",
    "\n",
    "By the end of the course, you will have created your own account on IBM Cloud and gained some hands-on experience by completing a final assignment that will be a great addition to your portfolio! \n",
    "\n",
    "Who is this course intended for?\n",
    "This course is suitable for a variety of audiences - whether you are an executive / manager / student who wants to become familiar with cloud computing terminology and concepts, or someone who wants foundational grounding in cloud computing to start a career in this field or become a cloud practitioner - such as a cloud engineer, full stack developer, devops engineer, SRE, cybersecurity analyst, etc.\n",
    "\n",
    "This course does not require any previous cloud computing or programming experience. \n",
    "Change Log\n",
    "19 June 2023 : New Version, v2  published on edX.org.\n",
    "\n",
    "21 July 2020 (Rav Ahuja): Final exam updated and published on edX.org.\n",
    "\n",
    "1 Apr 2020 (Rav Ahuja): Generally Available (GA) version of the course released with updated videos and labs. Added (Bonus) Module 7.\n",
    "\n",
    "4 Feb 2020 (Rav Ahuja): Fixed a few videos that were not loading or ending pre-maturely; minor quiz fixes; added option to re-attempt the final exam (1 time only)\n",
    "\n",
    "20 Jan 2020 (Rav Ahuja): Modules 4, 5, Final Exam, Survey, Certificate and Badge added.\n",
    "\n",
    "13 Jan 2020 (Rav Ahuja): Modules 3, 6 added to beta.\n",
    "\n",
    "6 Jan 2020 (Rav Ahuja): Beta Available with Modules 1, 2"
   ]
  }
 ],
 "metadata": {
  "language_info": {
   "name": "python"
  }
 },
 "nbformat": 4,
 "nbformat_minor": 2
}
