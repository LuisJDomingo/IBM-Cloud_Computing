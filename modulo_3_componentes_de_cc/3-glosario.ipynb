{
 "cells": [
  {
   "cell_type": "markdown",
   "metadata": {},
   "source": [
    "## M3: Cloud Infrastructure\n",
    "\n",
    "### Glossary\n",
    "\n",
    "| Term                         | Definition                                                                                                                  |\n",
    "|------------------------------|-----------------------------------------------------------------------------------------------------------------------------|\n",
    "| **ACL**                      | Access Control Lists                                                                                                         |\n",
    "| **AZ**                       | Availability Zones are distinct Data Centers with their own power, cooling, and networking resources. These Zones can have names like DAL-09 or us-east-1. |\n",
    "| **Bare-metal hypervisor**    | Installed directly on top of the physical server. They're more secure, have lower latency, and are usually the ones you see in the market the most. |\n",
    "| **Block storage**            | Is presented to compute nodes using high-speed fiber connections, which means that read and write speeds are typically much faster and reliable than with file storage. |\n",
    "| **CDNs**                     | Content Delivery Networks is a distributed server network that delivers temporarily stored, or cached, copies of website content to users based on the user’s geographic location. |\n",
    "| **Cloud Region**             | A geographic area or location where a Cloud provider’s infrastructure is clustered, and may have names like NA South or US East. |\n",
    "| **Containers**               | Are an executable unit of software in which application code is packaged, along with its libraries and dependencies, in common ways so that it can be run anywhere, whether it be on desktop, traditional IT, or the cloud. |\n",
    "| **Data center**              | A huge room or a warehouse containing cloud infrastructure.                                                                 |\n",
    "| **Dedicated hosts**          | Offer single-tenant isolation.                                                                                               |\n",
    "| **Direct Attached storage**  | Or Local storage is storage which is presented directly to a cloud-based server and is effectively either within the host server chassis or within the same rack. |\n",
    "| **File storage**             | Is typically presented to compute nodes as ‘NFS Storage’. NFS stands for Network File System and means that the storage is connected to compute nodes over a standard ethernet network. |\n",
    "| **Hosted hypervisor**        | There's a layer of host OS between the physical server and the hypervisor. These hypervisors are less frequently used and mostly used for “end-user” virtualization. |\n",
    "| **HPC**                      | High-performance computing.                                                                                                  |\n",
    "| **Hypervisor**               | A piece of software that runs above the physical server or host.                                                             |\n",
    "| **IOPS**                     | Input/Output Operations Per Second and refers to the speed at which the disks can write and read data.                       |\n",
    "| **NFS**                      | Network File Storage.                                                                                                        |\n",
    "| **Object storage**           | Storage not attached to a compute node, rather it is accessed via an API.                                                     |\n",
    "| **Reserved virtual server**  | Instances allow you to reserve capacity and guarantee resources for future deployments.                                      |\n",
    "| **SDN**                      | Software Defined Networking.                                                                                                 |\n",
    "| **Shared or Public Cloud VMs**| Are provider-managed, multi-tenant deployments that can be provisioned on-demand with predefined sizes.                       |\n",
    "| **Transient or Spot VMs**    | Take advantage of unused capacity in a cloud data center.                                                                     |\n",
    "| **Virtualization**           | Process of creating a software-based or virtual version of something whether that be compute, storage, networking, servers, or applications. |\n",
    "| **VLANs**                    | Virtual Local Area Networks.                                                                                                 |\n",
    "| **VM**                       | Virtual machines are software-based computers, based on virtualization technologies.                                         |\n",
    "| **VPC**                      | Virtual Private Cloud.                                                                                                       |\n",
    "| **VPN**                      | Virtual Private Networks.                                                                                                    |\n"
   ]
  },
  {
   "cell_type": "markdown",
   "metadata": {},
   "source": []
  }
 ],
 "metadata": {
  "language_info": {
   "name": "python"
  }
 },
 "nbformat": 4,
 "nbformat_minor": 2
}
