{
 "cells": [
  {
   "cell_type": "markdown",
   "metadata": {},
   "source": [
    "# Almacenamiento en la nube\n",
    "\n",
    "El almacenamiento en la nube es un servicio en el que los archivos de datos se guardan en la nube. Algunos tipos de almacenamiento deben estar conectados a un nodo informático antes de que se pueda acceder a ellos, mientras que otros se pueden acceder directamente a través de Internet público o mediante una conexión de red privada dedicada.\n",
    "\n",
    "Los proveedores de la nube alojan, protegen, administran y mantienen la infraestructura de almacenamiento en la nube para garantizar que siempre tengas acceso a tus datos. Los servicios de almacenamiento en la nube permiten escalar la capacidad según sea necesario, pagando solo por lo que aprovisionas, generalmente \"por gigabyte\". El costo del almacenamiento varía según el tipo, y en general, cuanto más rápida sea la velocidad de lectura/escritura, mayor será el costo por gigabyte.\n",
    "\n",
    "## Tipos de almacenamiento en la nube\n",
    "\n",
    "### 1. Almacenamiento adjunto directo (DAS)\n",
    "El almacenamiento adjunto directo (Direct Attached Storage o DAS) se conecta directamente a un servidor basado en la nube, ya sea dentro del chasis del servidor host o en el mismo bastidor. Este tipo de almacenamiento es rápido y se utiliza normalmente para almacenar el sistema operativo de un servidor.\n",
    "\n",
    "- **Desventajas**:\n",
    "  - Es \"efímero\", es decir, solo dura lo que dure el recurso informático al que está conectado.\n",
    "  - No se puede compartir con otros nodos.\n",
    "  - No es tan resistente a fallos como otros tipos de almacenamiento, aunque se pueden utilizar técnicas RAID.\n",
    "\n",
    "### 2. Almacenamiento de archivos (NFS)\n",
    "El almacenamiento de archivos se presenta a los nodos informáticos como \"Almacenamiento NFS\" (Network File System). Este almacenamiento se conecta a través de una red Ethernet estándar, lo que lo hace más lento que el almacenamiento adjunto directo o el almacenamiento en bloques, pero a un menor costo.\n",
    "\n",
    "- **Ventajas**:\n",
    "  - Se puede montar en varios servidores a la vez.\n",
    "  - Es útil para organizar datos en una estructura de carpetas jerárquica, familiar para los usuarios de escritorio.\n",
    "\n",
    "### 3. Almacenamiento en bloques\n",
    "El almacenamiento en bloques se conecta a los nodos de cálculo mediante conexiones de fibra de alta velocidad, proporcionando velocidades de lectura/escritura mucho más rápidas y confiables que el almacenamiento de archivos.\n",
    "\n",
    "- **Usos comunes**:\n",
    "  - Bases de datos y aplicaciones donde la velocidad del disco es crucial.\n",
    "  \n",
    "- **Término relacionado: IOPS**:\n",
    "  - **IOPS** significa \"Operaciones de entrada/salida por segundo\" y mide la velocidad del almacenamiento.\n",
    "\n",
    "**Persistencia** es un término que se utiliza al aprovisionar almacenamiento de archivos o bloques yse relaciona con lo que sucede con el almacenamiento una vez que finaliza el nodo de computación al que está conectado.\n",
    "\n",
    "Si el almacenamiento está configurado como \"persistente\", no se eliminará junto con el nodo de cálculo, lo que significa que él y sus datos se conservan y están disponibles para montarse en otro nodo informático, aunque seguirás pagando por el almacenamiento. También puede, en algunos casos, configurar el almacenamiento para que se elimine automáticamente con el nodo de cálculo en el que está montado; en este caso, como sabemos, se convierte en almacenamiento efímero. Aquí también dejarás de pagar por el almacenamiento pero perderá datos a menos que se haga una copia de seguridad en algún lugar.\n",
    "\n",
    "Hay varias formas de realizar copias de seguridad de datos en la nube, pero una forma de realizar copias de seguridad tanto de archivos como de el almacenamiento en bloque consiste en tomar una instantánea (snapshot) que es la imagen del almacenamiento, en un instante determinado. Las instantáneas suelen ser rápidas de crear (en realidad no escriben ningún dato, o más bien crean metadatos), no requieren tiempo de inactividad y las instantáneas posteriores solo registran cambios en los datos. Son excelentes para devolver el almacenamiento a la forma en que estaba en una instantánea en particular, aunque tenga en cuenta que no se pueden utilizar para recuperar archivos individuales.\n",
    "\n",
    "### 4. Almacenamiento de objetos\n",
    "\n",
    "Este es un tipo diferente de almacenamiento en la medida en que no está adjunto a un nodo de cálculo, sino que se accede a él a través de una API.\n",
    "Es el tipo de almacenamiento más barato, aunque también el más lento en cuanto a velocidades de lectura/escritura. Ofrece capacidad de almacenamiento \"infinita\" para el usuario final, ya que puedes seguir agregando archivos sin llenarlo, pagando solo por lo que usas, a diferencia del almacenamiento de archivos y bloques donde se aprovisiona una cierta capacidad de almacenamiento y se llena con el tiempo. Esto convierte a Object Storage en un repositorio fantástico para todo tipo de tipos de datos no estructurados grandes y pequeños, incluidos documentos, vídeos registros, copias de seguridad, datos de IoT, binarios de aplicaciones e imágenes de máquinas virtuales.\n",
    "\n",
    "- **Usos comunes**:\n",
    "  - Almacenamiento de datos no estructurados, como documentos, vídeos, registros, copias de seguridad, datos de IoT, binarios de aplicaciones e imágenes de máquinas virtuales.\n",
    "\n",
    "## Persistencia y respaldo\n",
    "\n",
    "- **Persistencia**:\n",
    "  - El almacenamiento persistente no se elimina cuando el nodo de cálculo al que está conectado finaliza. Esto significa que los datos se conservan y pueden ser montados en otro nodo informático.\n",
    "\n",
    "- **Copia de seguridad**:\n",
    "  - Una forma de hacer copias de seguridad es mediante **instantáneas**, que capturan una imagen del almacenamiento en un momento determinado. Las instantáneas son rápidas de crear y solo registran los cambios de datos posteriores a su creación. Sin embargo, no se pueden usar para recuperar archivos individuales.\n",
    "\n",
    "En videos futuros, se detallarán más aspectos de los diferentes tipos de almacenamiento.\n"
   ]
  },
  {
   "cell_type": "markdown",
   "metadata": {},
   "source": []
  }
 ],
 "metadata": {
  "language_info": {
   "name": "python"
  }
 },
 "nbformat": 4,
 "nbformat_minor": 2
}
