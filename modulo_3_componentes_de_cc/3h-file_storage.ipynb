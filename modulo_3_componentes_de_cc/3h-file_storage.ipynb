{
 "cells": [
  {
   "cell_type": "markdown",
   "metadata": {},
   "source": [
    "# Almacenamiento de archivos en la nube\n",
    "\n",
    "En este video, hablaremos sobre el **almacenamiento de archivos** con mayor detalle. Al igual que el almacenamiento adjunto directo, el almacenamiento de archivos debe estar adjunto a un nodo de computación antes de que se pueda acceder a él y almacenar datos en él. A diferencia del **almacenamiento adjunto directo (DAS)**, el almacenamiento de archivos es más económico, resistente a fallos y requiere menos gestión y mantenimiento por parte del usuario, es más resistente a fallas e implica menos espacio en disco.\n",
    "\n",
    "También puede aprovisionar cantidades mucho mayores de almacenamiento de archivos y presentarlas como un disco a un servidor.\n",
    "El almacenamiento de archivos se monta desde dispositivos de almacenamiento remotos. Es decir, los discos físicos están contenidos en una pieza de hardware separada y especializada y luego se conectan al nodo informático a través de la infraestructura subyacente en el centro de datos.\n",
    "\n",
    "Estos dispositivos de almacenamiento no sólo son extremadamente resistentes a los fallos, sino que los datos también están lejos más seguros en ellos, ya que estos dispositivos de almacenamiento brindan servicios como cifrado en tránsito. Todos estos dispositivos son administrados por el proveedor de servicios.\n",
    "\n",
    "File Storage está montado para calcular nodos a través de una red Ethernet. el mismo tipo de red en la que podrías recibir correos electrónicos o navegar por Internet, aunque esta red ethernet normalmente está dedicada a la tarea. Esto significa que a veces se le puede denominar \"almacenamiento conectado a la red\".\n",
    "\n",
    "## Almacenamiento de archivos en red o simplemente 'NFS'.\n",
    "\n",
    "Uno de los problemas de las redes ethernet es que su velocidad puede variar cuanto más cargada esté una red ethernet, más probable será que su velocidad o ancho de banda se vean afectados. Por supuesto, los proveedores de la nube construyen sus redes de almacenamiento para manejar Hay volúmenes de tráfico muy elevados, pero aun así no se puede garantizar una velocidad constante. Por lo tanto, se tiende a utilizar el almacenamiento de archivos para cargas de trabajo donde no se requieren velocidades de red consistentemente altas.\n",
    "\n",
    "En términos de cargas de trabajo, File Storage normalmente se puede montar en más de un nodo informático a la vez. tiempo, donde el disco o volumen montado se parece a otra unidad en el nodo de cálculo. La capacidad de que File Storage se monte en múltiples nodos informáticos al mismo tiempo y a la vez lo convierten en una solución ideal cuando se requiere algún tipo de almacenamiento común por ejemplo, un recurso compartido de archivos departamental, una “zona de aterrizaje” para archivos entrantes que necesitan ser procesado por una aplicación o un repositorio de archivos al que podría acceder un servicio web.\n",
    "En estas aplicaciones, la variación potencial La velocidad de la red de conexión no es realmente un problema.\n",
    "\n",
    "Por supuesto, cuando el costo es un problema, Puede utilizar el almacenamiento de archivos para otras aplicaciones, como bases de datos, pero la desventaja es la velocidad. Cuando aprovisionas almacenamiento de archivos, una consideración Lo que hay que tener en cuenta es la capacidad de IOPS del almacenamiento.\n",
    "\n",
    "\n",
    "## Características del almacenamiento de archivos\n",
    "\n",
    "- **Conexión remota**: El almacenamiento de archivos se monta desde dispositivos de almacenamiento remotos. Estos discos físicos están contenidos en hardware especializado y conectados al nodo informático a través de una red subyacente en el centro de datos.\n",
    "  \n",
    "- **Resistencia a fallos**: Los dispositivos de almacenamiento en la nube son extremadamente resistentes y ofrecen servicios como **cifrado en tránsito**, lo que mejora la seguridad de los datos.\n",
    "\n",
    "- **Conectividad a través de Ethernet**: El almacenamiento de archivos se conecta al nodo de computación a través de una red **Ethernet**. Este tipo de red es la misma que usamos para el tráfico de Internet, aunque en este caso está dedicada a las tareas de almacenamiento.\n",
    "\n",
    "- **Variabilidad en la velocidad**: La velocidad de una red Ethernet puede variar, especialmente cuando hay una alta carga de tráfico. Los proveedores de la nube diseñan sus redes para soportar grandes volúmenes, pero no siempre pueden garantizar una velocidad constante.\n",
    "\n",
    "- **Ideal para almacenamiento compartido**: El almacenamiento de archivos puede montarse en varios nodos informáticos simultáneamente, lo que lo hace ideal para aplicaciones como:\n",
    "  - Recursos compartidos de archivos departamentales.\n",
    "  - Repositorios para procesar archivos entrantes.\n",
    "  - Almacenamiento de archivos accesibles para servicios web.\n",
    "\n",
    "## IOPS: Operaciones de entrada/salida por segundo\n",
    "\n",
    "**IOPS** significa operaciones de entrada/salida por segundo y se refiere a la velocidad a la que los discos pueden escribir y leer datos\n",
    "(tenga en cuenta que esta no es la velocidad de la red entre el almacenamiento y el nodo de computación).\n",
    "Cuanto mayor sea el valor de IOPS, más rápida será la velocidad del disco subyacente. Un IOPS más alto normalmente también costará más.\n",
    "Comprender IOPS es importante porque si el valor de IOPS es demasiado bajo para su aplicación, el almacenamiento puede convertirse en un cuello de botella y hacer que su aplicación se ejecute lentamente.\n",
    "Alternativamente, si el IOPS es demasiado alto, probablemente pagará más de lo que necesita por su almacenamiento.\n",
    "\n",
    "- **IOPS y rendimiento**: Cuanto mayor sea el IOPS, más rápido será el rendimiento del disco subyacente.\n",
    "  \n",
    "- **Costo**: Un mayor IOPS generalmente conlleva un mayor costo, por lo que es importante equilibrar el rendimiento necesario con el presupuesto disponible.\n",
    "\n",
    "## Ejemplo de IOPS\n",
    "\n",
    "Imagina que tienes un recurso compartido de archivos montado en 30 nodos computacionales, y una aplicación escribe y solicita datos a razón de 60 veces por minuto. Esto promedia a 1 operación por segundo. Dependiendo de las necesidades de tu aplicación, puedes ajustar el valor de IOPS."
   ]
  },
  {
   "cell_type": "code",
   "execution_count": 3,
   "metadata": {},
   "outputs": [
    {
     "name": "stdout",
     "output_type": "stream",
     "text": [
      "IOPS requerido: 2.0 por nodo\n"
     ]
    }
   ],
   "source": [
    "# Ejemplo de cómo calcular las necesidades de IOPS\n",
    "nodos = 30\n",
    "operaciones_por_minuto = 120\n",
    "iops_requerido = operaciones_por_minuto / 60  # Convertimos a operaciones por segundo\n",
    "print(f\"IOPS requerido: {iops_requerido} por nodo\")"
   ]
  },
  {
   "cell_type": "markdown",
   "metadata": {},
   "source": [
    "### Conclusión\n",
    "\n",
    "El almacenamiento de archivos es una solución eficaz para cargas de trabajo donde las velocidades de red variables no son un problema y se necesita acceso compartido a los datos. Aunque es más económico que otros tipos de almacenamiento, es esencial considerar el valor adecuado de IOPS para evitar cuellos de botella en el rendimiento."
   ]
  },
  {
   "cell_type": "markdown",
   "metadata": {},
   "source": []
  }
 ],
 "metadata": {
  "kernelspec": {
   "display_name": "Python 3",
   "language": "python",
   "name": "python3"
  },
  "language_info": {
   "codemirror_mode": {
    "name": "ipython",
    "version": 3
   },
   "file_extension": ".py",
   "mimetype": "text/x-python",
   "name": "python",
   "nbconvert_exporter": "python",
   "pygments_lexer": "ipython3",
   "version": "3.11.6"
  }
 },
 "nbformat": 4,
 "nbformat_minor": 2
}
