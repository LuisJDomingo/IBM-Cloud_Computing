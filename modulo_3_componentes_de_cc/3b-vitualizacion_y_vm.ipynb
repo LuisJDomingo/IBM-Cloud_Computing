{
 "cells": [
  {
   "cell_type": "markdown",
   "metadata": {},
   "source": [
    "## ¿qué es la virtualización?  \n",
    "\n",
    "En pocas palabras, la virtualización es el proceso de creación de una versión basada en software, o virtual, de algo, ya sea computación, almacenamiento, redes, servidores o aplicaciones.  \n",
    "Y lo que hace factible la virtualización es algo llamado hipervisor.  \n",
    "Un **hipervisor** es simplemente una pieza de software que se ejecuta sobre el servidor físico o host.  \n",
    "Lo que hacen es esencialmente extraer los recursos del servidor físico y asignarlos a sus entornos virtuales.  \n",
    "\n",
    "Existen dos tipos principales de hipervisores. \n",
    "\n",
    "**tipo 1**.   \n",
    "Un hipervisor tipo 1 es un hipervisor que se instala directamente encima del servidor físico. También se les llama hipervisores bare-metal.  \n",
    "Estos son los tipos de hipervisores más utilizados y son los más seguros. Reducen la latencia, y estos son los que más veremos en el mercado.  \n",
    "Algunos ejemplos serían VMware, ESXi o Microsoft Hyper-V, o incluso KVM de código abierto.  \n",
    "\n",
    "El otro tipo de hipervisor es un hipervisor **tipo 2**.  \n",
    "Y lo que los diferencia es que hay una capa de sistema operativo host que se encuentra entre el servidor físico y el hipervisor.  \n",
    "Por esa razón también se les llama \"Hosted\".  \n",
    "Estos son mucho menos frecuentes y se utilizan principalmente para la virtualización del usuario final.  \n",
    "Es posible que veamos algunos en el mercado como:  \n",
    "Oracle Workstation, VirtualBox o VMware Workstation.  \n",
    "Nuevamente, son mucho menos frecuentes y tienen una latencia mayor que un hipervisor tipo 1.  \n",
    "\n",
    "Una vez que tengas tu hipervisor instalado, puedes crear entornos virtuales, o máquinas virtuales, o simplemente VM.  \n",
    "Una VM es simplemente una computadora basada en software.  \n",
    "Se ejecuta como una computadora física, tiene un sistema operativo y aplicaciones y es completamente independiente de las demás.  \n",
    "\n",
    "Puedes ejecutar varias VMs en un solo hipervisor, y el hipervisor gestiona los recursos que se asignan a estos entornos virtuales desde el servidor físico.  \n",
    "\n",
    "Como son independientes, se pueden ejecutar diferentes sistemas operativos en diferentes máquinas virtuales.  \n",
    "Podrías ejecutar Windows en una, Linux en otra o UNIX en otra distinta.  \n",
    "\n",
    "Debido a que son independientes, también son extremadamente portátiles.  \n",
    "Puedes mover una máquina virtual de un hipervisor a otro  \n",
    "en una máquina completamente diferente casi instantáneamente,  \n",
    "lo que te brinda mucha flexibilidad y portabilidad dentro de tu entorno.  \n",
    "  \n",
    "## Hablemos ahora de algunos beneficios clave:  \n",
    "\n",
    "1) **Ahorro de costos**:  \n",
    "El hecho de que puedas ejecutar múltiples entornos virtuales en una sola pieza de infraestructura significa que puedes reducir drásticamente la huella de tu infraestructura física.  \n",
    "Esto es la consolidación en su esencia, y te ahorras costos en electricidad, mantenimiento y servidores.  \n",
    "\n",
    "2) **Agilidad y velocidad**:  \n",
    "Iniciar una máquina virtual es relativamente fácil y rápido,  \n",
    "mucho más simple que aprovisionar un entorno completamente nuevo.  \n",
    "La virtualización hace que este proceso sea mucho más sencillo y rápido.  \n",
    "\n",
    "3) **Reducción del tiempo de inactividad**:  \n",
    "Si un host se apaga inesperadamente, puedes mover las máquinas virtuales a otro hipervisor en un servidor físico diferente, lo que te proporciona un excelente plan de respaldo.  \n",
    "\n"
   ]
  },
  {
   "cell_type": "markdown",
   "metadata": {},
   "source": []
  }
 ],
 "metadata": {
  "language_info": {
   "name": "python"
  }
 },
 "nbformat": 4,
 "nbformat_minor": 2
}
