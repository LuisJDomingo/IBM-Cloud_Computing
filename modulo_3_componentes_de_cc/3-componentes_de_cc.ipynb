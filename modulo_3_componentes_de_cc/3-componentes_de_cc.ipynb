{
 "cells": [
  {
   "cell_type": "markdown",
   "metadata": {},
   "source": [
    "# Introducción\n",
    "\n",
    "En el Módulo 3, aprenderás sobre los diversos componentes de una arquitectura de computación en la nube, como la virtualización de máquinas virtuales y servidores bare metal, y la diferencia entre las máquinas virtuales y los servidores bare metal. Conocerás los diferentes tipos de máquinas virtuales, cómo construir una presencia segura de red en la nube, cómo funcionan las tecnologías basadas en contenedores y los beneficios de una Red de Entrega de Contenidos (CDN). En la segunda lección, también te familiarizarás con los cuatro tipos principales de almacenamiento en la nube: almacenamiento directo, de archivos, de bloques y de objetos. Aprenderás las diferencias en cómo se acceden a ellos, la capacidad que ofrecen, cuánto cuestan, los tipos de datos que mejor almacenan y su velocidad de lectura-escritura.\n",
    "\n",
    "## OBJETIVOS DE APRENDIZAJE\n",
    "Después de completar este módulo, podrás:\n",
    "\n",
    "- Describir los componentes clave de la infraestructura en la nube.\n",
    "- Explicar la virtualización.\n",
    "- Describir los diferentes tipos de máquinas virtuales (VMs).\n",
    "- Comparar y contrastar las características y beneficios de las máquinas virtuales y los servidores bare metal.\n",
    "- Describir cómo construir una presencia segura de red en la nube.\n",
    "- Explicar cómo funciona la tecnología basada en contenedores.\n",
    "- Discutir los factores a considerar al decidir entre recursos de computación en la nube.\n",
    "- Describir las características y casos de uso de los cuatro tipos principales de almacenamiento en la nube: almacenamiento directo, almacenamiento de archivos, almacenamiento en bloques y almacenamiento de objetos.\n",
    "- Describir los niveles y la aplicación de APIs en el almacenamiento de objetos.\n",
    "- Explicar los beneficios de una Red de Entrega de Contenidos (CDN).\n"
   ]
  },
  {
   "cell_type": "markdown",
   "metadata": {},
   "source": []
  }
 ],
 "metadata": {
  "language_info": {
   "name": "python"
  }
 },
 "nbformat": 4,
 "nbformat_minor": 2
}
