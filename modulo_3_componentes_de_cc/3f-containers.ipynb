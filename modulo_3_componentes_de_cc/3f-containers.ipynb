{
 "cells": [
  {
   "cell_type": "markdown",
   "metadata": {},
   "source": [
    "# Los contenedores\n",
    "\n",
    "Los contenedores son una unidad ejecutable de software en la que se empaqueta el código de la aplicación, junto con sus bibliotecas y dependencias, de manera común para que pueda ejecutarse en cualquier lugar, ya sea en el escritorio, en la TI tradicional o en la nube. Los contenedores son pequeños, rápidos y portátiles y, a diferencia de las máquinas virtuales, no necesitan incluir un sistema operativo invitado en cada caso y, en su lugar, simplemente aprovechan las funciones y recursos del sistema operativo anfitrión.\n",
    "\n",
    "En el resto de este vídeo, veremos cómo funciona realmente la tecnología basada en contenedores. \n",
    "\n",
    "\"Hola a todos. Mi nombre es Sai Vennam y soy un defensor de los desarrolladores en IBM. Hoy quiero hablar sobre contenerización.\n",
    "\n",
    "Siempre que menciono contenedores, la mayoría de la gente tiende a utilizar de forma predeterminada algo como Docker o incluso Kubernetes hoy en día. Pero la tecnología de contenedores existe desde hace bastante tiempo. De hecho, fue en 2008 que el kernel de Linux introdujo grupos C y grupos de control, lo que básicamente allanó el camino para todas las diferentes tecnologías de contenedores que vemos hoy. Eso incluye Docker, pero también cosas como Cloud Foundry, así como Rocket y otros tiempos de ejecución de contenedores que existen.\n",
    "\n",
    "Comencemos con un ejemplo y digamos que yo era desarrollador. Creé una aplicación node.js y quiero ponerla en producción. Tomaremos dos factores de forma diferentes para explicar las ventajas de la contenedorización. Digamos que primero hablaremos de máquinas virtuales y luego de contenedores.\n",
    "\n",
    "Primero lo primero, introduzcamos algunas de las cosas que tenemos aquí. Tenemos el hardware en sí, solo una caja grande. Tenemos el invitado, o mejor dicho, el sistema operativo host y un hipervisor. El hipervisor es en realidad lo que nos permite hacer funcionar las máquinas virtuales. Echemos un vistazo a este conjunto compartido de recursos con el sistema operativo host y el hipervisor. Podemos suponer que algunos de estos recursos ya se han consumido. \n",
    "\n",
    "A continuación, sigamos adelante, tomemos esta aplicación .js e introdúzcala. Y para hacer eso, necesito una máquina virtual Linux. Así que sigamos adelante y esbocemos esa máquina virtual Linux. En esta máquina virtual hay algunas cosas a tener en cuenta.Tenemos otro sistema operativo, además del sistema operativo anfitrión (host OS), sery además tenemos el sistema operativo invitado, así como algunos binarios y bibliotecas. Esa es una de las cosas acerca de las máquinas virtuales Linux que, aunque estamos trabajando con una aplicación liviana, para crear esa máquina virtual Linux, tenemos que colocar ese sistema operativo invitado allí además de un conjunto de binarios y bibliotecas. Eso realmente lo hincha.\n",
    "\n",
    "De hecho, ya sabes, creo que la máquina virtual .js de nodo más pequeña que he visto por ahí son 400 plus megabytes, mientras que el tiempo de ejecución de node.js y la aplicación en sí tendrían menos de 15. Así que ya lo tenemos y continuaremos e insertaremos esa aplicación .js en él. Con solo hacer eso, consumiremos un conjunto de recursos.\n",
    "\n",
    "A continuación, pensemos en ampliar esto. Bien. Así que crearemos dos copias adicionales y notarás que, aunque es exactamente la misma aplicación, tenemos que usar e implementar bibliotecas y sistemas operativos invitados separados cada vez. Y entonces lo haremos tres veces. Y al hacer eso, esencialmente, podemos asumir que para este hardware en particular hemos consumido todos los recursos.\n",
    "\n",
    "Y hay otra cosa que no he mencionado aquí, pero esta aplicación .js la desarrollé en mi macbook. Entonces, cuando lo puse en producción para que funcionara en la VM y noté que hubo algunos problemas e incompatibilidades. Este es el tipo de problemas que se suelen ver. Es posible que las cosas funcionen en tu máquina local y funcionen muy bien, pero cuando lo intentas poner en producción, las cosas empiezan a fallar y esto realmente obstaculiza la realización de DevOps ágiles y la integración y entrega continuas. Eso se resuelve cuando usas algo como contenedores.\n",
    "\n",
    "Hay un proceso de tres pasos cuando se hace algo relacionado con el contenedor, y luego empujar o crear contenedores. Y casi siempre comienza primero, con una especie de manifiesto. Entonces, algo que describa el contenedor en sí. Entonces, en el mundo Docker, esto sería algo así como un archivo Docker y en Cloud Foundry, este sería un canal manifiesto.\n",
    "\n",
    "A continuación, lo que harás será crear la imagen real. Entonces, para la imagen, nuevamente, si estás trabajando con algo como Docker, eso podría ser algo como una imagen de Docker. Si está trabajando con Rocket, sería una imagen de contenedor de aplicación o ACI. Entonces, independientemente de las diferentes tecnologías de contenedorización, este proceso sigue siendo el mismo.\n",
    "\n",
    "Lo último que se obtiene es un contenedor real. Ya sabes, eso contiene todos los tiempos de ejecución, bibliotecas y archivos binarios necesarios para ejecutar una aplicación. Esa aplicación se ejecuta en una configuración muy similar a la del VMS, pero lo que tenemos en este lado es, nuevamente, un sistema operativo host. La diferencia aquí es que, en lugar de un hipervisor, tendremos algo así como un motor de tiempo de ejecución. Entonces, si estás usando Docker, este sería el motor Docker y, ya sabes, diferentes tecnologías de contenedorización tendrían un motor diferente. De todos modos, es algo que ejecuta esos contenedores.\n",
    "\n",
    "Nuevamente, tenemos este conjunto compartido de recursos, por lo que podemos suponer que eso por sí solo consume algún conjunto de recursos. A continuación, pensemos en la contenedorización de esta tecnología. Hablamos del proceso de tres pasos. Creamos un archivo acoplable. Construimos la imagen. Lo enviamos a un registro, tenemos nuestro contenedor y podemos comenzar a enviarlo como contenedores.\n",
    "\n",
    "Lo bueno es que serán mucho más livianos. Entonces, implemente múltiples contenedores, ya que no tienes que preocuparte por un sistema operativo invitado. En este momento, realmente solo tienes las bibliotecas, así como la aplicación en sí. Así que lo hemos ampliado tres veces y como no tenemos que duplicar todos los que operan dependencias del sistema y crear máquinas virtuales infladas, en realidad usaremos menos recursos.\n",
    "\n",
    "A continuación, digamos que mi compañero de trabajo decide, oye, para esta aplicación .js, tomemos ventaja de un tercero, ya sabes, digamos una API cognitiva para hacer algo como el reconocimiento de imágenes. Digamos que tenemos nuestro servicio de terceros y queremos acceder a él usando tal vez una aplicación en Python.\n",
    "\n",
    "Entonces creó ese servicio que actúa como API de terceros y con nuestra aplicación node.js, queremos acceder a esa aplicación Python, para luego acceder ese servicio. Si quisiéramos hacer esto en máquinas virtuales, estoy realmente tentado a crear básicamente una máquina virtual para ambas, la aplicación .js y la aplicación Python, porque esencialmente eso me permitiría seguir usando las máquinas virtuales que tengo. Pero eso no es realmente nativo de la nube, ¿verdad? Porque si quisiera escalar el .js, pero no la aplicación Python, no podría hacerlo si se estuvieran ejecutando en la misma VM.\n",
    "\n",
    "Entonces, para hacerlo de una manera verdaderamente nativa en la nube, esencialmente tendría que liberar algunos de estos recursos. Básicamente, deshacerme de una de estas máquinas virtuales y luego implementar la aplicación Python en ella. Y ya sabes, eso no es lo ideal. Pero con el enfoque basado en contenedores lo que podemos hacer es simplemente decir, ya que somos modulares, podemos decir, está bien, simplemente implemente una copia de la aplicación Python. Y eso consume un poco más de recursos y luego, con esos recursos restantes, lo bueno de la tecnología de contenedores es que en realidad se comparte entre todos los procesos en ejecución.\n",
    "\n",
    "Otra ventaja es que si algunos de estos procesos de contenedores en realidad no utilizan la CPU o la memoria, todos esos recursos compartidos se vuelven accesibles para los otros contenedores ejecutándose dentro de ese hardware. Entonces, con la tecnología basada en contenedores, realmente podemos aprovechar la tecnología nativa de la nube y arquitecturas.\n",
    "\n",
    "Hablamos de cosas como la portabilidad de los contenedores. Hablamos de cómo es más fácil ampliarlos. Y luego, en general, con este tipo de proceso de tres pasos y la forma en que empujamos los contenedores, permite un DevOps más ágil y una integración y entrega continuas.\"\n",
    "\n",
    "Los contenedores agilizan el desarrollo y la implementación de aplicaciones nativas de la nube.\n",
    "\n",
    "\n"
   ]
  }
 ],
 "metadata": {
  "language_info": {
   "name": "python"
  }
 },
 "nbformat": 4,
 "nbformat_minor": 2
}
