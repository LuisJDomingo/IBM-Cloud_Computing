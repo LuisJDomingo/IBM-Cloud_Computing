{
 "cells": [
  {
   "cell_type": "markdown",
   "metadata": {},
   "source": [
    "En este capítulo, vamos a empezar a entender qué es el **almacenamiento de objetos**, cómo se almacenan los datos en el almacenamiento de objetos y en qué se diferencia de los tipos de almacenamiento más tradicionales, como el almacenamiento de archivos y bloques.\n",
    "\n",
    "Lo primero que hay que tener en cuenta sobre el almacenamiento de objetos es que no es necesario conectarlo a un nodo de procesamiento determinado para poder usarlo. En su lugar, aprovisiona una instancia de servicio de almacenamiento de objetos y usa una API o una interfaz de programación de aplicaciones para cargar, descargar y administrar los datos. Esto significa que puedes usar el almacenamiento de objetos directamente con cualquier cosa a la que puedas llamar una API y no necesitas un nodo de procesamiento subyacente.\n",
    "\n",
    "La segunda cosa a tener en cuenta sobre el almacenamiento de objetos es que es menos costoso que otras opciones de almacenamiento en la nube. Su coste por gigabyte suele ser de un par de centavos de dólar al mes y, en algunos casos, incluso inferior, según el nivel de almacenamiento utilizado (más información sobre los niveles de almacenamiento más adelante).\n",
    "\n",
    "La tercera cosa, y posiblemente la más importante, a tener en cuenta sobre el almacenamiento de objetos es que, en efecto, es infinito. Con el almacenamiento de archivos y bloques, usted especifica el tamaño del almacenamiento que desea en gigabytes o terabytes y, a continuación, paga una tarifa basada en el tamaño que haya aprovisionado. Con el almacenamiento de objetos, solo consume el almacenamiento que necesita y paga por gigabyte por lo que usa. Puedes seguir subiendo archivos y el almacenamiento nunca se agotará.\n",
    "\n",
    "### ¿Cuándo utilizar el almacenamiento de objetos?\n",
    "\n",
    "Bueno, el almacenamiento de objetos es excelente para almacenar grandes cantidades de datos no estructurados. Por no estructurados, esto significa que los datos no se almacenan en ningún tipo de estructura jerárquica de carpetas o directorios. El almacenamiento de objetos utiliza **buckets** y los objetos se almacenan dentro de estos **buckets** de forma estructuralmente plana. Un **bucket** es un poco como una carpeta, en el sentido de que puedes darles nombres significativos y, por supuesto, tener diferentes cubos para diferentes tipos de objetos. Pero no puedes colocar un **bucket** dentro de un **bucket**.\n",
    "\n",
    "Cuando un objeto se coloca en un **bucket**, también tiene algunos metadatos. Datos sobre los datos que se le han agregado, como un identificador de objeto. Estos metadatos ayudan a las aplicaciones a localizar y acceder al objeto, así como a proporcionar información sobre la hora en que se almacenaron los datos o se accedió por última vez.\n",
    "\n",
    "Al crear un **bucket**, no es necesario que proporciones ni definas ninguna información sobre el tamaño. El **bucket** solo contendrá los datos que coloques dentro de él. Además, el proveedor de servicios se asegura de que haya suficiente capacidad de almacenamiento disponible. Los **buckets** pueden contener tan solo unos pocos bytes de datos, hasta varios petabytes, y puedes aumentar la cantidad de datos almacenados tan lenta o rápidamente como desees, así como volver a reducirlos. El proveedor de servicios también se ocupa de la resiliencia y se asegura de que la solución de almacenamiento de objetos tenga una **alta disponibilidad**.\n",
    "\n",
    "Algunos proveedores de nube ofrecen diferentes tipos de depósitos con diferentes niveles de resiliencia. Por ejemplo, ofrecen depósitos que son resistentes, pero los datos solo se almacenan en un centro de datos. Esta es una buena opción cuando los datos deben residir en una ubicación geográfica concreta o en situaciones en las que la ***alta disponibilidad es un problema menor***. A continuación, ofrecerán cubos con alta disponibilidad en todas las regiones donde los datos se almacenan varias veces en diferentes centros de datos o zonas de la misma región, o incluso en varias regiones. Estas opciones suelen costar más, pero proporcionan el nivel más alto de **resiliencia** y **disponibilidad** para sus datos.\n",
    "\n",
    "El almacenamiento de objetos tiene una estructura de almacenamiento muy plana, que explicaremos en la siguiente lección. Estos datos pueden ser cualquier cosa, desde archivos de texto hasta archivos de audio y archivos de vídeo, desde datos de IoT hasta imágenes de máquinas virtuales, desde archivos de respaldo hasta archivos de datos. Prácticamente cualquier dato que sea estático y en el que no se necesiten velocidades rápidas de lectura y escritura sería una buena opción para el almacenamiento de objetos. Sin embargo, el almacenamiento de objetos no sería adecuado para ejecutar sistemas operativos ni aplicaciones como bases de datos o cualquier otra cosa en la que cambie el contenido de los archivos.\n",
    "\n",
    "### Para resumir lo que hemos aprendido en esta lección:\n",
    "- El almacenamiento de objetos se usa para almacenar archivos u objetos que son estáticos.\n",
    "- Los datos que puede almacenar mediante el almacenamiento de objetos pueden ser cualquier cosa, desde archivos de texto hasta archivos de audio y vídeo, desde datos de IoT hasta imágenes de máquinas virtuales, desde archivos de respaldo hasta archivos de datos.\n",
    "- No puede ejecutar sistemas operativos u otras aplicaciones, como bases de datos, mediante el almacenamiento de objetos.\n",
    "- Los objetos se almacenan en **buckets**.\n",
    "- Puede tener varios **buckets**, pero no puede colocar **buckets** dentro de **buckets**.\n",
    "- No es necesario especificar el tamaño de un cubo. Puedes usar tan poco o tanto espacio como necesites.\n",
    "- Muchos proveedores ofrecen diferentes tipos de depósitos con diferentes cargos para cada uno. Algunas se basan en la resiliencia y la disponibilidad, mientras que otras se basan en la frecuencia con la que se accede a los objetos que se encuentran en su interior.\n",
    "\n",
    "En el siguiente vídeo, analizaremos los niveles de datos de almacenamiento de objetos y las API de almacenamiento de objetos.\n"
   ]
  },
  {
   "cell_type": "markdown",
   "metadata": {},
   "source": []
  }
 ],
 "metadata": {
  "language_info": {
   "name": "python"
  }
 },
 "nbformat": 4,
 "nbformat_minor": 2
}
