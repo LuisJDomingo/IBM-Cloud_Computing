{
 "cells": [
  {
   "cell_type": "markdown",
   "metadata": {},
   "source": [
    "## Resumen y Destacados\n",
    "\n",
    "En este módulo, has aprendido:\n",
    "\n",
    "- **La infraestructura en la nube** consiste en centros de datos, almacenamiento, componentes de red y recursos informáticos.\n",
    "- **La virtualización** es el proceso de crear una versión basada en software de los recursos físicos, posible gracias a los hipervisores.\n",
    "\n",
    "Se pueden aprovisionar diferentes tipos de Máquinas Virtuales en la nube, que incluyen:\n",
    "\n",
    "- **Máquinas Virtuales en la Nube Compartida o Pública**: Despliegues gestionados por el proveedor, multiusuario, que se pueden aprovisionar bajo demanda con tamaños predefinidos.\n",
    "- **Máquinas Virtuales Transitorias o Spot**: Aprovechan la capacidad no utilizada en un centro de datos en la nube.\n",
    "- **Máquinas Virtuales Reservadas**: Permiten reservar capacidad y garantizar recursos para despliegues futuros.\n",
    "- **Hosts Dedicados**: Ofrecen aislamiento de un solo inquilino.\n",
    "- **Servidores Bare Metal**: Servidores físicos dedicados a un solo cliente. Cumplen con las exigencias de computación de alto rendimiento (HPC) y aplicaciones intensivas en datos. Son ideales para aplicaciones con altos requisitos de seguridad o cumplimiento.\n",
    "\n",
    "**Las capacidades de red en la nube** se entregan como un servicio en lugar de en forma de dispositivos montados en racks. Los recursos en la nube como las VMs (o VSIs), almacenamiento, conectividad de red y balanceadores de carga se despliegan en subredes dentro de Nubes Privadas Virtuales (VPCs). El uso de subredes privadas y públicas permite a los usuarios desplegar aplicaciones empresariales multinivel de manera segura. Los balanceadores de carga distribuyen el tráfico y permiten que las aplicaciones sean receptivas.\n",
    "\n",
    "**Los contenedores** son unidades ejecutables de software en las que el código de la aplicación, sus bibliotecas y sus dependencias están empaquetados de manera común, para que puedan ejecutarse en cualquier lugar, desde escritorios hasta IT tradicional y la nube. Los contenedores son más ligeros y consumen menos recursos que las Máquinas Virtuales, ayudando a optimizar el desarrollo y despliegue de aplicaciones nativas de la nube.\n",
    "\n",
    "**El almacenamiento en la nube** está disponible en cuatro tipos principales: Almacenamiento Directo Adjunto, de Archivo, en Bloque y de Objetos. Estos tipos de almacenamiento difieren en cómo se pueden acceder, la capacidad que ofrecen, el costo, los tipos de datos que son más adecuados para almacenar y su velocidad de lectura y escritura.\n",
    "\n",
    "- **Almacenamiento Directo Adjunto (o Local)**: Es el almacenamiento presentado directamente a un servidor basado en la nube y está efectivamente dentro del chasis del servidor anfitrión o en el mismo rack.\n",
    "- **Almacenamiento de Archivos**: Generalmente se presenta a los nodos de cálculo como un Sistema de Archivos de Red (NFS), lo que significa que el almacenamiento está conectado a los nodos de cálculo a través de una red Ethernet estándar.\n",
    "- **Almacenamiento en Bloque**: Se presenta a los nodos de cálculo utilizando conexiones de fibra de alta velocidad, normalmente aprovisionado en volúmenes, que se montan en un nodo de cálculo.\n",
    "- **Almacenamiento de Objetos**: Se accede a través de una API y no necesita un nodo de cálculo subyacente. Ofrece capacidad infinita ya que puedes seguir añadiendo archivos y solo pagar por lo que uses. Comparado con los otros tipos de almacenamiento, el almacenamiento de objetos es el más lento en términos de velocidades de lectura y escritura.\n",
    "\n",
    "**Una Red de Distribución de Contenidos (CDN)** es una red de servidores distribuidos que acelera la entrega de contenido de internet al entregar copias almacenadas temporalmente o en caché del contenido de sitios web o medios a los usuarios según su ubicación geográfica.\n"
   ]
  }
 ],
 "metadata": {
  "language_info": {
   "name": "python"
  }
 },
 "nbformat": 4,
 "nbformat_minor": 2
}
