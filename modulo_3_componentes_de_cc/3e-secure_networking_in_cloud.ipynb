{
 "cells": [
  {
   "cell_type": "markdown",
   "metadata": {},
   "source": [
    "A medida que los entornos en la nube ganan una mayor adopción y los datos digitales invitan rápidamente ante el aumento de las amenazas a la ciberseguridad, es fundamental construir redes seguras en la nube. Veamos cómo podemos construir una presencia de red segura en la nube.\n",
    "\n",
    "Como era de esperar, la noción de construir una red en la nube no es muy diferente a implementar una red en un centro de datos local. La principal diferencia radica en que en la Nube utilizamos instancias lógicas de elementos de red en lugar de dispositivos físicos. Por ejemplo, controladores de interfaz de red o las NIC estarían representadas por vNIC en entornos de nube.\n",
    "\n",
    "En la nube, las funciones de red se entregan como un servicio en lugar de en forma de dispositivos montados en bastidor. Para crear una red en la Nube, se comienza por definir el tamaño de la red o el rango de direcciones IP que establece los límites de la red de la Nube.\n",
    "\n",
    "Las redes en la nube se implementan en espacios de red que están lógicamente separados. Segmentos de las redes utilizando opciones que incluyen Virtual, Nube Privada, o VPC que a su vez se pueden dividir en segmentos más pequeños llamados subredes. Las redes de nube lógicamente segmentadas son una división privada de la nube que ofrece a sus clientes la seguridad de las nubes privadas y la escalabilidad de las nubes públicas.\n",
    "\n",
    "Recursos en la nube como máquinas virtuales o instancias de servidores virtuales, VSI, almacenamiento, la conectividad de red y los equilibradores de carga se implementan en subredes. El uso de subredes permite a los usuarios implementar aplicaciones empresariales utilizando los mismos conceptos de varios niveles utilizados en entornos locales. Las subredes son también el área principal donde se implementa la seguridad en la Nube. Cada subred está protegida por listas de control de acceso o ACL que sirven como firewall a nivel de subred. Dentro de la subred, se podrían crear grupos de seguridad que brinden seguridad a nivel de instancia, como VSI.\n",
    "\n",
    "Una vez que haya creado una subred, es hora de agregar algunas VSI y almacenamiento para que pueda ejecutar sus aplicaciones. Supongamos que tiene una aplicación de tres niveles que requiere VSI de acceso web, VSI de nivel de aplicación y VSI de base de datos backend. En este caso, colocaríamos las VSI orientadas a la web en un grupo de seguridad, las VSI de aplicación en un segundo grupo de seguridad, mientras que la base de datos VSI está en un tercer grupo de seguridad.\n",
    "\n",
    "No hace falta decir que las VSI orientadas a la Web necesitan acceso a Internet. Se agrega una instancia de puerta de enlace pública a la red para permitir el acceso de los usuarios a la aplicación en la capa de Internet.\n",
    "\n",
    "Si bien las puertas de enlace públicas son excelentes para el acceso a Internet a la nube, las empresas están interesadas en ampliar sus propios recursos locales para la nube conectándolos de forma segura mediante redes privadas virtuales o VPN.\n",
    "\n",
    "Al crear muchas subredes e implementar varias cargas de trabajo, se hace necesario garantizar que las aplicaciones sigan respondiendo. Esto se logra con balanceadores de carga que aseguran la disponibilidad de ancho de banda para las diferentes aplicaciones.\n",
    "\n",
    "Las empresas con entorno de nube híbrida encuentran el uso de alta velocidad dedicada. Las conexiones entre las nubes y los recursos locales son más seguras y una manera más eficiente que las soluciones de conectividad pública. Algunos proveedores de servicios en la nube ofrecen dicha conectividad, como IBM Cloud y su solución Direct Link que permite ampliar recursos locales a la nube según sea necesario.\n",
    "\n",
    "Construir una red en la nube implica crear un conjunto de construcciones lógicas que ofrecen una funcionalidad de red similar a las redes de centros de datos que todos los profesionales de TI han llegado a confiar para proteger sus entornos y garantizando aplicaciones empresariales de alto rendimiento."
   ]
  }
 ],
 "metadata": {
  "language_info": {
   "name": "python"
  }
 },
 "nbformat": 4,
 "nbformat_minor": 2
}
