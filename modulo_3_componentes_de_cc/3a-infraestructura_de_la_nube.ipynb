{
 "cells": [
  {
   "cell_type": "markdown",
   "metadata": {},
   "source": [
    "Después de elegir el modelo de servicio de nube y el tipo de nube ofrecido por los proveedores, los clientes necesitan planificar la arquitectura de la infraestructura.  \n",
    "La capa de infraestructura es la base de la nube.  \n",
    "Esta capa consta de recursos físicos que se alojan en Regiones, Zonas y Centros de Datos.  \n",
    "El entorno de TI de un proveedor de nube normalmente se distribuye en muchas regiones del mundo.  \n",
    "Una región de la nube es un área geográfica o ubicación donde la infraestructura de un proveedor de la nube está agrupada y puede tener nombres como NA Sur o EE.UU. Este.  \n",
    "Las regiones de la nube están aisladas entre sí, de modo que si una región se viera afectada por un desastre natural, como un terremoto, las operaciones de la nube en otras Regiones seguirían funcionando.  \n",
    "Cada Región de la Nube puede tener múltiples Zonas (o Zonas de Disponibilidad o AZ para abreviar), que por lo general son centros de datos distintos con sus propios recursos de energía, refrigeración y redes.  \n",
    "Estas Zonas pueden tener nombres como DAL-09 o us-east-1.  \n",
    "El aislamiento de zonas mejora la tolerancia general a fallas de la nube, disminuye la latencia y evita la creación de un único punto de falla compartido.  \n",
    "Las zonas de disponibilidad (y los centros de datos dentro de ellas) están conectadas a otras zonas de disponibilidad, regiones, centros de datos privados e Internet utilizando una conectividad de red de ancho de banda muy alto.  \n",
    "Un centro de datos en la nube es una sala enorme o un almacén que contiene infraestructura en la nube.  \n",
    "Estos centros de datos contienen pods y racks o contenedores estandarizados de recursos informáticos, como servidores, así como equipos de almacenamiento y de red, prácticamente todo lo que tiene un entorno físico de TI.  \n",
    "\n",
    "### Recursos Informáticos:  \n",
    "Los proveedores de la nube ofrecen varias opciones informáticas:  \n",
    "– Servidores Virtuales, Servidores Bare Metal y recursos informáticos “Serverless”.  \n",
    "La mayoría de los servidores en un centro de datos en la nube ejecutan hipervisores para crear servidores virtuales o máquinas virtuales (también llamadas VM), que son computadoras basadas en software, basadas en tecnologías de virtualización.  \n",
    "Otros servidores en los racks son servidores básicos, que son servidores físicos no virtualizados.  \n",
    "Los clientes pueden aprovisionar máquinas virtuales y servidores Bare Metal cuando los necesiten y ejecutar sus cargas de trabajo sobre ellos.  \n",
    "Los usuarios de la nube también pueden ejecutar sus cargas de trabajo en recursos informáticos sin servidor, que son una capa de abstracción sobre las máquinas virtuales.  \n",
    "Hablaremos de las tres opciones de computación con mayor detalle en videos posteriores.  \n",
    "\n",
    "### Almacenamiento:  \n",
    "La información y los datos pueden consistir en archivos, código, documentos, imágenes, videos, copias de seguridad, instantáneas y bases de datos, y se pueden almacenar en muchos tipos diferentes de opciones de almacenamiento en la nube.  \n",
    "Los servidores bare metal y los servidores virtuales cuentan con almacenamiento predeterminado en discos locales.  \n",
    "\n",
    "### Redes:  \n",
    "La infraestructura de red en un centro de datos en la nube incluye hardware de red tradicional como enrutadores y conmutadores.  \n",
    "Lo más importante para los usuarios de la Nube es que los proveedores de la Nube ofrecen Redes Definidas por Software (SDN), donde ciertos recursos de red se virtualizan o se ponen a disposición mediante programación a través de API.  \n",
    "Esto permite un aprovisionamiento, configuración y gestión de red más sencillos en la nube.  \n",
    "Cuando se aprovisionan servidores en la nube, es necesario configurar sus interfaces de red públicas y privadas.  \n",
    "Las interfaces de red pública, como su nombre indica, conectan los servidores a la red pública de Internet, mientras que las privadas brindan conectividad a otros recursos en la nube y ayudan a mantenerlos seguros.  \n",
    "Al igual que en el mundo físico de TI, las interfaces de red en la nube deben tener direcciones IP y subredes asignadas automáticamente o configuradas.  \n",
    "En un entorno de nube, es aún más importante configurar qué tráfico de red y qué usuarios pueden acceder a los recursos, lo que se puede hacer configurando grupos de seguridad y listas de control de acceso (ACL).  \n",
    "Para mayor seguridad y aislamiento de los recursos en la nube, la mayoría de los proveedores de la nube proporcionan redes de área local virtuales (VLAN), nubes privadas virtuales (VPC) y redes privadas virtuales (VPN).  \n",
    "\n",
    "Algunos de los dispositivos de hardware tradicionales, como firewalls, equilibradores de carga, puertas de enlace y analizadores de tráfico, también se pueden virtualizar y poner a disposición como servicios en la nube.  \n",
    "Otra capacidad de red proporcionada por los proveedores de la nube son las redes de entrega de contenido (CDN), que distribuyen contenido a múltiples puntos en todo el mundo para que los usuarios que acceden al contenido puedan hacerlo más rápidamente desde un punto más cercano a ellos.  \n",
    "\n",
    "Aprenderemos más sobre algunas de estas opciones y terminología de redes en la nube en posteriores videos.  \n",
    "La infraestructura de la nube avanza y mejora constantemente."
   ]
  },
  {
   "cell_type": "markdown",
   "metadata": {},
   "source": []
  }
 ],
 "metadata": {
  "language_info": {
   "name": "python"
  }
 },
 "nbformat": 4,
 "nbformat_minor": 2
}
