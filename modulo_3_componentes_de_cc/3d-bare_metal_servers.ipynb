{
 "cells": [
  {
   "cell_type": "markdown",
   "metadata": {},
   "source": [
    "## Qué es un servidor bare metal (BM)\n",
    "\n",
    "Un servidor bare metal es un servidor físico dedicado para un solo inquilino, es decir, está reservado para un único cliente.  \n",
    "El proveedor de la nube se encarga de gestionar el servidor físico hasta el nivel del sistema operativo (SO), lo que significa que si hay un problema con el hardware o la conexión, el proveedor lo reparará o reemplazará, y luego reiniciará el servidor.  \n",
    "El cliente, por otro lado, es responsable de gestionar todo lo demás dentro del servidor.  \n",
    "\n",
    "Los servidores bare metal pueden ser preconfigurados por el proveedor de la nube para ajustarse a paquetes de carga de trabajo o configurados a medida según las especificaciones del cliente, incluyendo procesadores, RAM, discos duros y otros componentes especializados, así como el sistema operativo.  \n",
    "Los clientes también tienen la opción de instalar su propio sistema operativo y ciertos hipervisores que no están disponibles a través del proveedor, lo que les permite crear sus propias máquinas virtuales y granjas de servidores.  \n",
    "\n",
    "Una de las ventajas de los servidores bare metal es la capacidad de agregar GPU, que están diseñadas para acelerar cálculos científicos, análisis de datos y renderizado de gráficos virtualizados a nivel profesional.  \n",
    "\n",
    "Dado que los servidores bare metal son máquinas físicas, su aprovisionamiento suele tardar más que el de los servidores virtuales.  \n",
    "Las configuraciones preconfiguradas pueden tardar entre 20 y 40 minutos en estar listas, mientras que las configuraciones personalizadas pueden tardar entre tres y cuatro horas, aunque esto varía según el proveedor.  \n",
    "\n",
    "Debido a que los servidores bare metal están dedicados a un solo cliente en un momento dado, tienden a ser más costosos que las máquinas virtuales de tamaño similar.  \n",
    "No todos los proveedores de nube ofrecen este tipo de servidores.  \n",
    "\n",
    "Los servidores bare metal, al ser completamente personalizables, son ideales para entornos exigentes que requieren un alto rendimiento a largo plazo, seguridad y aislamiento.  \n",
    "El cliente tiene control total sobre el servidor ya que no se requiere un hipervisor y el hardware no se comparte con otros clientes, lo que los convierte en una excelente opción para computación de alto rendimiento (HPC) y aplicaciones con uso intensivo de datos que requieren baja latencia.  \n",
    "\n",
    "Estos servidores también son perfectos para análisis de big data y soluciones que utilizan mucho las GPU.  \n",
    "Ejemplos de cargas de trabajo adecuadas para servidores bare metal incluyen ERP, CRM, IA, aprendizaje profundo y virtualización.  \n",
    "Si estás ejecutando aplicaciones que requieren altos niveles de control y seguridad, o si normalmente funcionan en un entorno local, un servidor bare metal es una buena alternativa en la nube.  \n",
    "\n",
    "Al comparar servidores bare metal con servidores virtuales, es importante considerar las necesidades del cliente.  \n",
    "Los servidores bare metal son mejores para cargas de trabajo intensivas en CPU y E/S, ofrecen el más alto rendimiento, seguridad, flexibilidad y control, pero también requieren mayor gestión y gastos operativos.  \n",
    "Mientras que los servidores virtuales se aprovisionan rápidamente, ofrecen un entorno elástico y escalable a un menor costo, pero comparten hardware subyacente con otros servidores virtuales, lo que puede limitar el rendimiento.  \n"
   ]
  }
 ],
 "metadata": {
  "language_info": {
   "name": "python"
  }
 },
 "nbformat": 4,
 "nbformat_minor": 2
}
