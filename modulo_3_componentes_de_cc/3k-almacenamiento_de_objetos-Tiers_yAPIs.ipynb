{
 "cells": [
  {
   "cell_type": "markdown",
   "metadata": {},
   "source": [
    "En este capítulo, veremos más de cerca el almacenamiento de objetos, los niveles de datos y API de almacenamiento de objetos.\n",
    "\n",
    "Los depósitos de Object Storage también tienen niveles o clases de almacenamiento asociados a ellos, y estos niveles se basan en la frecuencia con la que se accede a los datos.\n",
    "\n",
    "- **Nivel estándar**: Es donde se almacenarían los objetos que se utilizan con frecuencia. Este nivel tiende a tener el costo por gigabyte más alto asociado.\n",
    "- **Nivel de archivo**: Es donde se pueden almacenar documentos que solo están accedidos quizás sólo una o dos veces al mes, o menos. Este nivel se ofrecerá a un menor costo de almacenamiento.\n",
    "- **Nivel de bóveda fría**: Donde se almacenarían datos que normalmente se accede sólo una o dos veces al año. Este almacenamiento a menudo cuesta sólo una fracción de un centavo de dólar por gigabyte al mes.\n",
    "\n",
    "A menudo, también puedes configurar reglas de archivado automático para tus datos, lo que significa que si no se accede a un objeto durante un período de tiempo, se trasladará automáticamente a un nivel de almacenamiento más económico. La regla utiliza algunos de los metadatos del objeto para determinar cuándo debe ser archivado.\n",
    "\n",
    "Tenga en cuenta que Object Storage no viene con opciones de IOPS. El almacenamiento de objetos tiende a ser muy lento en comparación con el almacenamiento de archivos o bloques, donde las descargas suelen tardar unos segundos, si no más, en completarse. Cuando los proveedores ofrecen depósitos de bóveda en frío, la recuperación de datos de estos niveles a veces puede incluso llevar horas porque el almacenamiento se mantiene fuera de línea. Si su aplicación necesita acceso rápido a archivos, entonces el almacenamiento de objetos puede no ser una buena opción.\n",
    "\n",
    "Hemos mencionado que el almacenamiento de objetos tiene un precio por gigabyte utilizado, pero también puede haber otros costos relacionados con la recuperación de los datos. Estos costos son igualmente bajos, pero los cargos de acceso pueden ser más altos para datos que se encuentran en una bóveda o en niveles de bóveda fría, por lo que es importante asegurarse de que los datos estén en el nivel correcto según su frecuencia de acceso.\n",
    "\n",
    "No es necesario conectar Object Storage a un nodo informático para acceder a él. En su lugar, accede al almacenamiento de objetos a través de una interfaz de programa de aplicación o API. La API más común para el almacenamiento de objetos se llama API S3, que es un estándar basado en el almacenamiento de objetos S3 que ofrece AWS. Muchos proveedores ofrecen API para su almacenamiento de objetos, que es compatible con S3, lo cual es útil porque significa que los desarrolladores pueden escribir código que puede acceder al almacenamiento de objetos de múltiples proveedores. La API en sí es una API RESTful basada en HTTP o un servicio web RESTful. La llamada API permite que las aplicaciones administren depósitos y almacenamiento de objetos, así como poner, cargar u obtener objetos de descarga hacia y desde ellos.\n",
    "\n",
    "Object Storage no es sólo para nuevas aplicaciones, pero se puede utilizar para cumplir con los requisitos de los existentes. También se puede utilizar como una solución eficaz para realizar copias de seguridad y recuperación ante desastres como reemplazo de soluciones basadas en cintas externas, reduciendo el tiempo para restaurar datos. Muchos paquetes de respaldo ahora incluyen la capacidad de realizar respaldos de datos hasta la nube utilizando el almacenamiento de objetos. El almacenamiento de objetos es más eficiente que las soluciones de copia de seguridad en cinta, que requieren cintas que deben cargarse físicamente y retirarse de las unidades de cinta y trasladarse fuera del sitio para lograr redundancia geográfica.\n",
    "\n",
    "Entonces, para resumir lo que hemos aprendido en esta lección:\n",
    "- El almacenamiento de objetos tiene diferentes niveles con diferentes cargos para cada uno. Algunos se basan en la frecuencia con la que se accede a los objetos del interior.\n",
    "- El precio del almacenamiento de objetos tiene un precio por gigabyte de almacenamiento utilizado por mes más algunos cargos para la recuperación de datos.\n",
    "- El almacenamiento de objetos es mucho más económico que el almacenamiento de archivos o bloques.\n",
    "- El almacenamiento de objetos es muy lento en comparación con el almacenamiento de archivos y bloques.\n",
    "- A menudo puedes crear reglas que permitan la archivado de objetos en niveles más baratos cuando se accede a ellos con frecuencia.\n",
    "- Se accede al almacenamiento de objetos mediante una API. Muchos proveedores de almacenamiento de objetos tienen una API compatible con S3, lo que significa que los desarrolladores pueden crear código que funcionará con soluciones de almacenamiento de objetos de múltiples proveedores.\n",
    "- El Almacenamiento de Objetos en la Nube ofrece una solución efectiva para backup y recuperación ante desastres.\n"
   ]
  },
  {
   "cell_type": "markdown",
   "metadata": {},
   "source": []
  }
 ],
 "metadata": {
  "language_info": {
   "name": "python"
  }
 },
 "nbformat": 4,
 "nbformat_minor": 2
}
