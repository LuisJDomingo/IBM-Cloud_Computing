{
 "cells": [
  {
   "cell_type": "markdown",
   "metadata": {},
   "source": [
    "# **Qué es una CDN**\n",
    "\n",
    "Una red de distribución de contenidos, o CDN, es una red de servidores distribuidos que ofrece copias almacenadas temporalmente o en caché del contenido del sitio web para los usuarios, según la ubicación geográfica del usuario.\n",
    "\n",
    "Una CDN almacena este contenido en ubicaciones distribuidas y reduce la distancia entre los visitantes de su sitio web y el servidor de su sitio web.\n",
    "\n",
    "En el resto del video, aprenderemos más sobre las redes de entrega de contenido.\n",
    "&nbsp;   \n",
    "\n",
    "---\n",
    "\n",
    "&nbsp;\n",
    "<h2 align=\"center\">Ponencia de experto</h2>\n",
    "&nbsp;\n",
    "\n",
    "---\n",
    "\n",
    "&nbsp;\n",
    "\n",
    ">Hola. Soy Ryan Sumner, soy arquitecto jefe de redes en la nube de IBM y hoy soy Te ayudaré a responder: ¿qué es una red de entrega de contenido?\n",
    "\n",
    ">En resumen, una red de distribución de contenidos, o CDN, es un servicio que acelera el acceso a la entrega de contenido. En otras palabras, el principal beneficio de una CDN es que hace que su sitio web sea más rápido.\n",
    "\n",
    ">Antes de comenzar a describirles cómo logra eso y algunos de los otros beneficios, primero quiero hablarles sobre algunos de los desafíos que tenemos donde tenemos usuarios en todo el mundo, pero no tenemos servidores en todo el mundo, y la experiencia que tienen esos usuarios debido a esa dinámica.\n",
    "\n",
    ">Aquí tengo un diagrama simple que muestra un servidor alojado en Dallas. Este es mi sitio web. Y luego tengo usuarios en todo el mundo. Entonces, en Sidney podría tener cinco. En Londres tengo cinco. Nueva York podría tener diez. LA podría tener diez. Tengo 30 usuarios en todo el mundo que acceden a mi servidor y a mi sitio web en Dallas.\n",
    "\n",
    ">Sigamos a un conjunto de estos usuarios en su viaje. Miremos a sus usuarios en Sydney. Hacen una solicitud al sitio web. Tienen 8.600 millas de ida hasta Dallas y luego una caminata de 8,600 millas de regreso. La cantidad de tiempo que eso lleva generalmente se mide en milisegundos, y solo eso el viaje de ida y vuelta puede durar unos 170 milisegundos.\n",
    "\n",
    ">Para nuestros usuarios en Londres, eso podría ser unos 100 milisegundos. Nuestros usuarios en la ciudad de Nueva York probablemente puedan experimentar un tiempo de ida y vuelta de unos 40 milisegundos. Y más adentro, Los Ángeles, unos 30.\n",
    "\n",
    ">Como puedes ver, cuanto más lejos estés, en última instancia, cuanto más tarde, más lento será el sitio web para usted. Entonces aquí es donde entra en juego la CDN, y así es como realmente logra el aumento de velocidad, que es reduciendo la cantidad de distancia entre el usuario y el contenido, o el servidor que proporciona el contenido.\n",
    "\n",
    ">Lo que hace al hacer eso es colocar estos contenidos en la entrega. puntos finales de red en tantas ubicaciones alrededor del mundo como sea posible. Y en nuestro caso, vamos a asumir que tenemos uno en casi todos los lugares donde nuestros usuarios existen.\n",
    "\n",
    ">Ahora, cuando el usuario en Sydney, Londres, Nueva York o Los Ángeles intenta acceder a algún contenido, primero lo recupera la entrega de contenido servicio de red y luego distribuido en todo el mundo. Entonces tenemos un solo Solicite al servidor de Dallas. Ahora se distribuye por todo el mundo, y nuestros usuarios en Londres ahora en lugar de ir hasta Dallas, pueden recuperar ese contenido directamente desde su ubicación geográfica más cercana, reduciendo drásticamente la cantidad de tiempo que lleva recuperar ese contenido.\n",
    "\n",
    ">Como puede ver aquí, es muy básico cómo una CDN puede proporcionar los beneficios para el usuario final al reducir la cantidad de tiempo que lleva entregar el servicio. Pero lo que no estás viendo aquí es un beneficio indirecto. La reducción en la cantidad de tráfico que realmente llega al servidor de Dallas.\n",
    "\n",
    ">Entonces, el beneficio indirecto es que realmente se ve una reducción en la carga, o una reducción en la cantidad de capacidad que necesita en Dallas, para atender a todos estos usuarios. Entonces otro beneficio indirecto porque hay mucho menos validez, y muchas menos cosas sucediendo en Dallas, porque todas estas los usuarios están teniendo que realizar estos desplazamientos. Y tampoco tengo que comunicarme con usuarios tan lejanos. El Dallas El entorno también puede experimentar un aumento en el tiempo de actividad. Y por último, porque los usuarios en realidad no se comunican directamente con los servidores en Dallas, tiene el beneficio indirecto de un aumento de la seguridad a través de la oscuridad.\n",
    "\n",
    ">Es bastante básico entender cómo funciona una CDN al final para proporcionar una mejor beneficio para el usuario final.\n"
   ]
  },
  {
   "cell_type": "markdown",
   "metadata": {},
   "source": []
  }
 ],
 "metadata": {
  "language_info": {
   "name": "python"
  }
 },
 "nbformat": 4,
 "nbformat_minor": 2
}
