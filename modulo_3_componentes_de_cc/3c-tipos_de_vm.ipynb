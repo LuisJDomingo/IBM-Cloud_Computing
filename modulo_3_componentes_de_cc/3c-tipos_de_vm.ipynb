{
 "cells": [
  {
   "cell_type": "markdown",
   "metadata": {},
   "source": [
    "## que es una Virtual Machine (VM)\n",
    "\n",
    "Las máquinas virtuales o VM también se conocen como servidores virtuales o instancias virtuales, o simplemente instancias, según el proveedor de la nube.  \n",
    "Los distintos proveedores de la nube ofrecen VM en una variedad de configuraciones y opciones de implementación para satisfacer diferentes casos de uso.  \n",
    "Cuando creas un servidor virtual en la nube, especificas la región y la zona o el centro de datos en el que deseas que se aprovisione el servidor y el sistema operativo que deseas en él.  \n",
    "Puedes elegir entre VM compartidas (es decir, multiinquilino) o VM dedicadas (es decir, un solo inquilino).  \n",
    "También puedes elegir entre facturación por hora o mensual y seleccionar opciones de almacenamiento y redes para el servidor virtual.  \n",
    "\n",
    "## Tipos de VM  \n",
    "\n",
    "Las **máquinas virtuales compartidas o públicas en la nube** son implementaciones multiusuario administradas por el proveedor que se pueden aprovisionar a pedido con tamaños predefinidos.  \n",
    "Ser multiusuario significa que el servidor físico subyacente está virtualizado y se comparte entre otros usuarios o inquilinos.  \n",
    "> Para satisfacer diferentes cargas de trabajo, los proveedores de la nube ofrecen tamaños y configuraciones predefinidos que van desde un solo núcleo virtual y una pequeña cantidad de RAM hasta múltiples núcleos virtuales y cantidades mucho mayores de RAM.  \n",
    "\n",
    "Por ejemplo, puede haber configuraciones para cargas de trabajo con uso intensivo de cómputo, cargas de trabajo con uso intensivo de memoria o E/S de alto rendimiento. En lugar de elegir solo entre tamaños predefinidos, algunos proveedores también ofrecen configuraciones personalizadas que permiten a los usuarios definir la cantidad de núcleos y características de RAM y almacenamiento local.  \n",
    "Las máquinas virtuales públicas generalmente tienen un precio por hora (o en algunos casos, incluso por segundos) y las configuraciones comienzan desde tan solo unos centavos por hora.  \n",
    "\n",
    "Algunos proveedores también te permiten obtener máquinas virtuales mensuales, lo que puede resultar en un ahorro de costos si sabes que utilizarás la máquina virtual durante al menos un mes, pero si decides desmantelar la máquina virtual a mitad de mes, se te cobrará de todos modos el mes completo.  \n",
    "\n",
    "Las **máquinas virtuales transitorias o puntuales** aprovechan la capacidad no utilizada en un centro de datos en la nube.  \n",
    "Los proveedores de la nube ponen esta capacidad no utilizada a disposición de los usuarios a un costo mucho menor que las máquinas virtuales regulares de tamaños similares.  \n",
    "\n",
    "Aunque las máquinas virtuales transitorias están disponibles con un gran descuento, el proveedor de la nube puede optar por desaprovisionarlas en cualquier momento y recuperar los recursos para aprovisionar máquinas virtuales regulares de mayor precio.  \n",
    "Como corres el riesgo de perder estas máquinas virtuales cuando disminuye la capacidad en el centro de datos, estas máquinas virtuales son excelentes para cargas de trabajo que no sean de producción, como probar y desarrollar aplicaciones.  \n",
    "También son útiles para ejecutar cargas de trabajo sin estado, probar la escalabilidad o ejecutar cargas de trabajo de big data y computación de alto rendimiento (HPC) a bajo costo.  \n",
    "\n",
    "Las **instancias de servidor virtual reservadas** te permiten reservar capacidad y garantizar recursos para futuras implementaciones.  \n",
    "Reservas la cantidad deseada de capacidad de servidor virtual, aprovisionas instancias de esa capacidad cuando las necesitas y eliges un plazo, como 1 año o 3 años, para tu capacidad reservada.  \n",
    "Se te garantiza esta capacidad dentro del centro de datos de tu elección durante la vigencia del contrato.  \n",
    "Al comprometerte con un plazo más largo, también puedes reducir tus costos en comparación con las instancias por hora o por mes.  \n",
    "Esto puede ser útil cuando sabes que necesitas al menos un cierto nivel de capacidad en la nube por una duración específica.  \n",
    "Si excedes tu capacidad reservada, siempre puedes optar por complementar tus requisitos de uso y capacidad no planificados con máquinas virtuales por hora o por mes.  \n",
    "Sin embargo, ten en cuenta que no todas las familias o configuraciones de máquinas virtuales predefinidas pueden estar disponibles como reservadas.  \n",
    "\n",
    "Los **hosts dedicados** ofrecen aislamiento de inquilino único.  \n",
    "Esto significa que solo tus máquinas virtuales se ejecutan en un host determinado para que puedan hacer uso exclusivo de la capacidad y los recursos completos del hardware subyacente.  \n",
    "Al aprovisionar un host dedicado, debes especificar el centro de datos y el POD en el que quieres que se ubique tu host.  \n",
    "Luego, asigna instancias o máquinas virtuales a un host específico.  \n",
    "Esto permite un control máximo sobre la ubicación de la carga de trabajo.  \n",
    "Los hosts dedicados se utilizan generalmente para cumplir con los requisitos normativos y de cumplimiento o cumplir con términos de licencia específicos.  \n",
    "\n",
    "La virtualización y las máquinas virtuales son el centro de la computación en la nube y brindan muchos beneficios.  \n",
    "En el próximo video, analizaremos los servidores físicos, qué son y qué brindan.  \n"
   ]
  }
 ],
 "metadata": {
  "language_info": {
   "name": "python"
  }
 },
 "nbformat": 4,
 "nbformat_minor": 2
}
