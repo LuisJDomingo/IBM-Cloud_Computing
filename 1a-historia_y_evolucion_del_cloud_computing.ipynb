{
 "cells": [
  {
   "cell_type": "markdown",
   "metadata": {},
   "source": [
    "### Historia y Evolución de la Computación en la Nube\n",
    "\n",
    "La computación en la nube es una evolución de la tecnología a lo largo del tiempo. El concepto de computación en la nube se remonta a la década de 1950, cuando estuvieron disponibles mainframes de gran escala con gran capacidad de procesamiento. La práctica de **compartir el tiempo** (o poner en común recursos) evolucionó para hacer un uso eficiente de la potencia informática de los mainframes.\n",
    "\n",
    "Utilizando terminales tontos, cuyo único propósito era facilitar el acceso a los mainframes, varios usuarios podían acceder a la misma capa de almacenamiento de datos y potencia de CPU desde cualquier terminal.\n",
    "\n",
    "En la década de 1970, con el lanzamiento de un sistema operativo llamado **Máquina Virtual (VM)**, se hizo posible que los mainframes tuvieran múltiples sistemas virtuales, o máquinas virtuales, en un único nodo físico. El sistema operativo de la máquina virtual evolucionó a partir de la aplicación de los años 50 de acceso compartido de un mainframe, permitiendo múltiples entornos informáticos distintos en el mismo hardware físico.\n",
    "\n",
    "Cada máquina virtual albergaba sistemas operativos invitados que se comportaban como si tuvieran su propia memoria, CPU y discos duros, aunque se trataba de recursos compartidos. La **virtualización** se convirtió así en un motor tecnológico y un catalizador masivo para algunas de las evoluciones más significativas en comunicaciones e informática.\n",
    "\n",
    "Incluso hace 20 años, el hardware físico era bastante caro. Con Internet cada vez más accesible y la necesidad de hacer que los costos de hardware fueran más viables, los servidores se virtualizaron en entornos de **hosting compartido, servidores privados virtuales y servidores virtuales dedicados**, utilizando la misma funcionalidad que proporcionaba el sistema operativo de la máquina virtual.\n",
    "\n",
    "Por ejemplo, si una empresa necesitara una cantidad \"x\" de sistemas físicos para ejecutar sus aplicaciones, podrían dividir un nodo físico en múltiples sistemas virtuales. Un **hipervisor** es una pequeña capa de software que permite que múltiples sistemas operativos se ejecuten uno al lado del otro, compartiendo los mismos recursos informáticos físicos.\n",
    "\n",
    "Un hipervisor también separa lógicamente las máquinas virtuales, asignando cada porción de la potencia informática, la memoria y el almacenamiento subyacentes, evitando que las máquinas virtuales interfieran entre sí. Así, si un sistema operativo sufre una falla o se ve comprometida su seguridad, los demás pueden seguir funcionando.\n",
    "\n",
    "A medida que las tecnologías y los hipervisores mejoraron y pudieron compartir y entregar recursos de manera confiable, algunas empresas decidieron hacer accesibles a los usuarios los beneficios de la nube. Estos usuarios no contaban con una gran cantidad de servidores físicos para crear su infraestructura de computación en la nube.\n",
    "\n",
    "Como los servidores ya estaban en línea, la creación de una nueva instancia fue instantánea. Los usuarios ahora pueden solicitar recursos en la nube de un conjunto más grande de recursos disponibles y pagarlos según el uso, también conocido como **pago por uso**. Este modelo de computación de utilidad o de pago por uso se convirtió en uno de los impulsores clave detrás del lanzamiento de la computación en la nube.\n",
    "\n",
    "El modelo de pago por uso permitió a las empresas e incluso a los desarrolladores individuales pagar por los recursos informáticos a medida que los utilizaban, al igual que las unidades de electricidad. Esto les permitió pasar de un modelo **CapEx** a un modelo **OpEx** más amigable con el flujo de efectivo.\n",
    "\n",
    "Este modelo atrajo a empresas de todos los tamaños, aquellas que tenían poco o ningún hardware, e incluso aquellas que tenían mucho hardware, porque ahora, en lugar de realizar importantes gastos de capital en hardware, podrían pagar por los recursos informáticos cuando y como los necesiten. También les permitió **escalar** sus cargas de trabajo durante los picos de uso, y reducirlas cuando el uso disminuyera.\n",
    "\n",
    "Y así nació la informática en la nube moderna.\n"
   ]
  },
  {
   "cell_type": "markdown",
   "metadata": {},
   "source": []
  }
 ],
 "metadata": {
  "language_info": {
   "name": "python"
  }
 },
 "nbformat": 4,
 "nbformat_minor": 2
}
