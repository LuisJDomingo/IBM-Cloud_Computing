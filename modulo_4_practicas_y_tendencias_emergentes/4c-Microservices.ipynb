{
 "cells": [
  {
   "cell_type": "markdown",
   "id": "08d9cd8d",
   "metadata": {},
   "source": [
    "# Microservices"
   ]
  },
  {
   "cell_type": "markdown",
   "id": "afde4b72",
   "metadata": {},
   "source": [
    "---"
   ]
  },
  {
   "cell_type": "markdown",
   "id": "36c84c22",
   "metadata": {},
   "source": [
    "## Arquitectura de Microservicios\n",
    "\n",
    "La arquitectura de microservicios es un enfoque en el que una aplicación se compone de muchos componentes o servicios más pequeños, débilmente acoplados y desplegables de manera independiente. Estos servicios suelen tener su propia pila, ejecutándose en sus propios contenedores. Se comunican entre sí a través de API, transmisión de eventos y corredores de mensajes.\n",
    "\n",
    "Para una empresa, esto significa que los componentes de una aplicación pueden desarrollarse y actualizarse de manera más eficiente por equipos de desarrolladores independientes. Los equipos pueden usar diferentes tecnologías para cada componente. Los componentes que enfrentan alta carga pueden escalarse de forma independiente, reduciendo los costos asociados con el escalado de toda la aplicación.\n",
    "\n",
    "En este video, exploraremos cómo los microservicios han dado forma al desarrollo de aplicaciones, y veremos un caso de uso de los microservicios en acción.\n",
    "\n",
    "### Cambios en el Desarrollo de Aplicaciones\n",
    "\n",
    "La forma en que los desarrolladores trabajan para crear aplicaciones está cambiando.\n",
    "En el pasado, las aplicaciones se construían como grandes monolitos, donde un equipo de desarrolladores trabajaba meses para construir una aplicación grande sobre una base de código común. Estos desarrolladores escribirían cada parte de la aplicación de principio a fin.\n",
    "Ahora, después de décadas de desarrollo de software. Ya existen grandes cantidades de código y, hoy en día, los desarrolladores ya no necesitan crear cada línea de código desde cero, ya que tienen acceso a grandes cantidades de código reutilizable.\n",
    "\n",
    "Ahora, en lugar de crear una aplicación enorme en un solo equipo, los desarrolladores se dividen en pequeños equipos independientes donde escriben cantidades más pequeñas de código llamados microservicios.\n",
    "\n",
    "Las plataformas de desarrollo en la nube permiten a los desarrolladores integrar ese código de manera fácil y segura. Ahora, en lugar de crear una aplicación completa en un solo equipo, los desarrolladores se dividen en equipos pequeños e independientes, que escriben microservicios más pequeños y manejables.\n",
    "\n",
    "Los microservicios dividen una aplicación grande en sus funciones principales, como búsqueda, recomendaciones, calificaciones de clientes o catálogos de productos. Cada microservicio se desarrolla independientemente y se integra en la aplicación general a través de la plataforma de desarrollo en la nube.\n",
    "\n",
    "Cada uno se desarrolla independientemente el uno del otro, y aún así trabajan juntos en la plataforma de desarrollo de la nube para crear una aplicación funcional.\n",
    "\n",
    "Un contenedor es el método de distribución de cada microservicio, lo que significa que entrega el código a donde debe ir. Los contenedores son plug-and-play, por lo que si un microservicio no funciona para una aplicación, los desarrolladores pueden sacarlo y coloque uno diferente sin interrumpir el funcionamiento del resto de la aplicación.\n",
    "\n",
    "## Ejemplo: Servicio de Transmisión de Medios\n",
    "\n",
    "Veamos los microservicios en acción con el ejemplo de Ron, un fanático del fútbol que utiliza un servicio de transmisión llamado *Dream Game*. Ayer, Ron se perdió un partido crucial de su equipo, pero planea verlo hoy a través de la plataforma.\n",
    "\n",
    "Cuando Ron inicia sesión, ve el contenido más popular entre los usuarios. Después de buscar un poco, encuentra el partido que busca, pero lo que realmente le gustaría es encontrarlo con un solo clic.\n",
    "\n",
    "El equipo de desarrollo de *Dream Game* utiliza microservicios para mejorar la experiencia de usuario. Estos microservicios incluyen:\n",
    "\n",
    "1. **Catálogo de Contenidos**: Gestiona millones de juegos disponibles en *Dream Game*.\n",
    "2. **Función de Búsqueda**: Permite que los resultados de búsqueda de Ron coincidan con el contenido del catálogo.\n",
    "3. **Recomendaciones**: Muestra los contenidos más populares entre los usuarios y genera la página de inicio que Ron ve al iniciar sesión.\n",
    "\n",
    "Estos tres microservicios se despliegan en contenedores separados y se comunican entre sí mediante un proceso llamado *Service Discovery*, que les permite encontrarse y trabajar juntos. La comunicación entre ellos se realiza a través de una API.\n",
    "\n",
    "Cuando Ron busca su equipo favorito, el microservicio de búsqueda se comunica con el catálogo de contenido para proporcionarle los resultados.\n",
    "\n",
    "### Mejora del Servicio\n",
    "\n",
    "El equipo de desarrollo de *Dream Game* está actualizando el microservicio de Recomendaciones para añadir un algoritmo de análisis, que compara el historial de visualización de Ron con las preferencias de otros usuarios, como fanáticos del fútbol en su región.\n",
    "\n",
    "Gracias a los microservicios, los desarrolladores pueden implementar esta nueva funcionalidad en solo unos días. Las actualizaciones se realizan sin interrumpir el funcionamiento de los demás microservicios.\n",
    "\n",
    "La próxima vez que Ron inicie sesión, verá una lista de reproducción personalizada que mejorará a medida que el sistema aprenda más sobre sus hábitos y preferencias.\n",
    "\n",
    "## Beneficios de los Microservicios\n",
    "\n",
    "El enfoque de microservicios permite a los desarrolladores innovar rápidamente y de manera paralela, lo que facilita que los usuarios, como Ron, disfruten de una experiencia mejorada y más personalizada. A medida que los intereses de los usuarios cambian, los microservicios permiten a las empresas adaptarse y crecer junto a sus clientes.\n"
   ]
  },
  {
   "cell_type": "markdown",
   "id": "434ca2ab",
   "metadata": {},
   "source": []
  }
 ],
 "metadata": {
  "language_info": {
   "name": "python"
  }
 },
 "nbformat": 4,
 "nbformat_minor": 5
}
