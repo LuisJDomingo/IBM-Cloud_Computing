{
 "cells": [
  {
   "cell_type": "markdown",
   "id": "a25f54d4",
   "metadata": {},
   "source": [
    "# Módulo 4 - Introducción\n",
    "\n",
    "En este módulo, aprenderás sobre los casos de uso y desafíos de las tendencias emergentes en la computación en la nube, como la multi-nube híbrida, la computación sin servidor y los microservicios. Además, este módulo te enseñará los conceptos fundamentales y beneficios de las aplicaciones nativas en la nube, el rol de DevOps en la resolución de algunas complejidades de la computación en la nube y cómo las organizaciones pueden beneficiarse de la modernización de sus aplicaciones.\n",
    "\n",
    "## Objetivos de Aprendizaje\n",
    "Al completar este módulo, serás capaz de:\n",
    "\n",
    "- Definir la multi-nube híbrida y enumerar algunos de sus casos de uso.\n",
    "- Explicar qué son los microservicios y cómo han influido en el desarrollo de aplicaciones.\n",
    "- Enumerar las características clave de la computación sin servidor y discutir sus aplicaciones y desafíos.\n",
    "- Resumir los conceptos clave, principios de desarrollo, casos de uso y beneficios de las aplicaciones nativas en la nube.\n",
    "- Describir el proceso de DevOps y explicar cómo ayuda a abordar algunas de las complejidades y desafíos que presenta la nube.\n",
    "- Explicar los beneficios de la modernización de aplicaciones y cómo las organizaciones pueden modernizar sus aplicaciones.\n"
   ]
  }
 ],
 "metadata": {
  "language_info": {
   "name": "python"
  }
 },
 "nbformat": 4,
 "nbformat_minor": 5
}
