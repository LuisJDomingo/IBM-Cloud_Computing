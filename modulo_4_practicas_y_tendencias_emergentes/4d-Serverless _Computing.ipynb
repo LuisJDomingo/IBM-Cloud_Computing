{
 "cells": [
  {
   "cell_type": "markdown",
   "metadata": {},
   "source": [
    "# Computación Serverless\n",
    "\n",
    "Serverless es un enfoque de la informática que descarga tareas comunes de gestión de infraestructura, como escalado, programación, parcheo y aprovisionamiento de pilas de aplicaciones, a proveedores de nube. Esto permite a los desarrolladores enfocarse en el código y la lógica de negocios de sus aplicaciones o procesos.\n",
    "\n",
    "## ¿Qué significa Serverless?\n",
    "\n",
    "Aunque el término \"serverless\" sugiere que no hay servidores, en realidad se refiere a que la gestión de los servidores subyacentes es manejada por el proveedor de la nube, y no por los usuarios. El entorno asigna recursos según sea necesario para las aplicaciones.\n",
    "\n",
    "## Atributos Clave\n",
    "\n",
    "1. **Sin Aprovisionamiento de Servidores**: Los desarrolladores no necesitan aprovisionar servidores ni gestionar la infraestructura.\n",
    "2. **Escalado Automático**: El código solo se ejecuta bajo demanda y se escala automáticamente en función de las solicitudes.\n",
    "3. **Pago por Uso**: Los usuarios solo pagan por los recursos que utilizan, evitando pagar por capacidad inactiva.\n",
    "4. **Ejecución sin Estado**: Cada función se ejecuta de manera independiente en un contenedor sin estado, \n",
    "5. No se requiere un **contexto previo de ejecución**.\n",
    "\n",
    "## Ejemplo de Uso\n",
    "\n",
    "Imagina una plataforma serverless entre el frontend de un sitio web y su capa de almacenamiento. Serverless podría usarse para traducir archivos de texto y almacenarlos en la nube. La aplicación serverless recibe los archivos, los traduce y los guarda en un servicio de almacenamiento en la nube, devolviendo al usuario los enlaces a los archivos traducidos.\n",
    "\n",
    "## Servicios Serverless Populares\n",
    "\n",
    "- IBM Cloud Functions (basado en Apache OpenWhisk)\n",
    "- AWS Lambda\n",
    "- Microsoft Azure Functions\n",
    "\n",
    "## Características de las Aplicaciones Adecuadas para Serverless\n",
    "\n",
    "Es importante tener en cuenta que la tecnología sin servidor puede no ser la mejor opción para todas las aplicaciones o escenarios. Es necesario evaluar las características de la aplicación y asegúrese de que la aplicación esté alineada con los patrones de arquitectura sin servidor.\n",
    "\n",
    "Las aplicaciones que se benefician de una arquitectura serverless incluyen:\n",
    "\n",
    "- **Funciones sin Estado de Corta Duración**: Ejecutan procesos que duran segundos o minutos.\n",
    "- **Cargas de Trabajo Variables**: Aquellas con picos estacionales o demandas fluctuantes.\n",
    "- **Procesamiento Basado en Eventos**: Incluyendo microservicios, IoT y backends móviles.\n",
    "\n",
    "Microservicios que se pueden construir como funciones sin estado. Las arquitecturas sin servidor son adecuadas para casos de uso relacionados con datos y procesamiento de eventos, IoT, microservicios y backends móviles. Dada su escalabilidad inherente y automática, su rápido provisionamiento y su precio Modelo que no cambia durante el tiempo de inactividad, soportando arquitectura de microservicios que se ha convertido en uno de los casos de uso más comunes de la informática sin servidor en la actualidad.\n",
    "\n",
    "Serverless es ideal para trabajar con texto estructurado, audio, datos de imagen y vídeo en torno a tareas como el enriquecimiento de datos,transformación, validación y limpieza, procesamiento de PDF, normalización de audio, generación de miniaturas y transcodificación de vídeo. Tareas paralelas como búsqueda y procesamiento de datos y El procesamiento del genoma también es adecuado para ejecutarse en un tiempo de ejecución sin servidor. \n",
    "\n",
    "Serverless también es muy adecuado para trabajar con todo tipo de ingestas de flujos de datos, incluidos flujos de datos comerciales, datos de ensores de IoT, datos de registro y datos del mercado financiero.\n",
    "\n",
    "## Desafíos del Modelo Serverless\n",
    "\n",
    "1. **Escalabilidad Automática**: Aunque se escala automáticamente, no es ideal para procesos de larga duración, donde un servidor tradicional podría ser más eficiente.\n",
    "2. **Dependencia del Proveedor**: Existen riesgos de quedar atrapado en una plataforma específica, especialmente cuando se depende de capacidades como autenticación o monitoreo.\n",
    "3. **Retrasos en la Ejecución**: Para cada nueva solicitud, la arquitectura serverless debe iniciar desde cero, lo que puede generar retrasos. Este retraso es aceptable para muchas aplicaciones, pero podría ser un problema en casos de baja latencia, como aplicaciones financieras."
   ]
  }
 ],
 "metadata": {
  "language_info": {
   "name": "python"
  }
 },
 "nbformat": 4,
 "nbformat_minor": 2
}
