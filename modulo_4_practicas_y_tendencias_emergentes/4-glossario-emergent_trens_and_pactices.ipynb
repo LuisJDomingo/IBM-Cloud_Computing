{
 "cells": [
  {
   "cell_type": "markdown",
   "metadata": {},
   "source": [
    "## Glossary\n",
    "\n",
    "| Term                   | Definition                                                                                       |\n",
    "|------------------------|--------------------------------------------------------------------------------------------------|\n",
    "| **API**                | Application Programming Interface                                                                |\n",
    "| **Application modernization** | Helps organizations accelerate their digital transformation, take advantage of new technologies and services, and become more responsive to changing market dynamics |\n",
    "| **Cloud native application**  | An application developed from the outset to work only in the cloud environment, or an existing app that has been refactored and reconfigured with cloud native principles |\n",
    "| **Continuous delivery**      | Delivering small, well-designed, high-quality increments of software to customers                   |\n",
    "| **Continuous deployment**    | Progressing each new packaged build through the deployment lifecycle as rapidly as possible          |\n",
    "| **Continuous integration**   | Creating packaged builds of the code changes released as immutable images                            |\n",
    "| **Continuous monitoring**    | Monitoring with tools that help developers understand the performance and availability of their applications, even before they’re deployed to production |\n",
    "| **Delivery pipeline**        | An automated sequence of steps that involves the stages of Ideation, Coding, Building, Deploying, Managing, and Continuous Improvement |\n",
    "| **DevOps**                  | Collaborative approach where business owners and the development, operations, and quality assurance teams collaborate to continuously deliver software |\n",
    "| **Hybrid multicloud**        | An open standards-based stack that can be deployed on any public cloud infrastructure                  |\n",
    "| **Microservices**           | Break down large applications into their core functions                                              |\n",
    "| **Microservices architecture** | Approach in which a single application is composed of many loosely coupled and independently deployable, smaller components or services |\n",
    "| **Monolithic architecture** | Approach in which a single application is built out of one piece of software                         |\n",
    "| **Serverless**             | Approach to computing that offloads responsibility for common infrastructure management tasks         |\n",
    "| **Service discovery**       | Creates a roadmap for microservices to communicate                                                    |\n"
   ]
  },
  {
   "cell_type": "markdown",
   "metadata": {},
   "source": []
  }
 ],
 "metadata": {
  "language_info": {
   "name": "python"
  }
 },
 "nbformat": 4,
 "nbformat_minor": 2
}
