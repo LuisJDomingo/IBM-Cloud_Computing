{
 "cells": [
  {
   "cell_type": "markdown",
   "metadata": {},
   "source": [
    "## Summary and Highlights\n",
    "\n",
    "In this module, you have learned:\n",
    "\n",
    "- **Hybrid Multi-Cloud**: A cloud adoption strategy that allows public clouds, private clouds, and on-premises IT to work together seamlessly, utilizing the best services from various public cloud providers.\n",
    "\n",
    "- **Microservices Architecture**: An approach where an application is constructed as a collection of loosely coupled and independently deployable components or services, leading to more efficient development, maintenance, and upgrades.\n",
    "\n",
    "- **Serverless Computing**: A model where common infrastructure management tasks for application runtimes are handled by cloud providers, allowing developers to concentrate on development and testing without managing or scaling compute resources.\n",
    "\n",
    "- **Cloud Native Applications**: Applications designed or refactored to operate in the cloud environment. These are developed using DevOps methodologies and consist of microservices packaged in containers, enabling quick iterations for creating and updating features.\n",
    "\n",
    "- **DevOps**: A collaborative approach that allows development and operations teams to deliver software in quick iterative cycles. It reduces overhead, duplication, and rework. DevOps tools and practices help manage the complexities of the cloud, enabling fast and reliable solution delivery and updates.\n",
    "\n",
    "- **Application Modernization**: Accelerates digital transformation, leverages new technologies and services, and enhances responsiveness to market changes. Cloud computing is a key driver of application modernization.\n"
   ]
  }
 ],
 "metadata": {
  "language_info": {
   "name": "python"
  }
 },
 "nbformat": 4,
 "nbformat_minor": 2
}
