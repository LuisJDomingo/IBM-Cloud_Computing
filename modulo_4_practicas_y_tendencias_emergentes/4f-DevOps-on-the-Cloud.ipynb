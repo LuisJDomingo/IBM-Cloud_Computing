{
 "cells": [
  {
   "cell_type": "markdown",
   "metadata": {},
   "source": [
    "# DevOps y su Aplicación en la Nube\n",
    "\n",
    "Los equipos de desarrollo necesitan diseñar, desarrollar, entregar y ejecutar software de manera confiable y eficiente. Los equipos de operaciones, por su parte, deben identificar y resolver problemas rápidamente, monitorear, predecir fallas, gestionar el entorno y solucionar problemas. **DevOps** combina desarrollo y operaciones con la capacidad de monitorear, analizar y optimizar cuellos de botella.\n",
    "\n",
    "## ¿Qué es DevOps?\n",
    "\n",
    "Es un enfoque colaborativo donde los propietarios del negocio, los equipos de desarrollo, operaciones y control de calidad trabajan juntos para entregar software de manera continua. Al aplicar principios de **pensamiento ágil** a todos los interesados en la organización, DevOps mejora la productividad mediante ciclos acelerados de retroalimentación de los clientes, colaboración y reducción de duplicidades.\n",
    "\n",
    "## Beneficios del Enfoque DevOps\n",
    "\n",
    "- **Entrega continua**: Entrega de pequeños incrementos de software de alta calidad.\n",
    "- **Integración continua**: Creación de compilaciones empaquetadas de los cambios de código.\n",
    "- **Despliegue continuo**: Progresión rápida a través del ciclo de vida de despliegue.\n",
    "- **Monitoreo continuo**: Herramientas para monitorear el rendimiento de las aplicaciones.\n",
    "- **Automatización del canal de entrega**: Una secuencia de pasos desde la ideación hasta la mejora continua.\n",
    "\n",
    "## DevOps en Aplicaciones Nativas de la Nube\n",
    "\n",
    "DevOps es particularmente efectivo en **aplicaciones listas para la nube y nativas de la nube**. Con la potencia informática casi ilimitada y los servicios disponibles en la nube, las herramientas y prácticas de DevOps ayudan a manejar los desafíos de la nube y permiten entregar soluciones rápidamente. \n",
    "\n",
    "### Capacidades Clave de DevOps para la Nube\n",
    "\n",
    "1. **Aprovisionamiento automatizado**: Permite aprovisionar servidores, construir middleware, instalar código de aplicación y automatizar la instalación de manera documentada y repetible.\n",
    "2. **Automatización en la implementación**: Integración y despliegue continuo para crear un proceso automatizado en todo el ciclo de vida del desarrollo.\n",
    "3. **Entornos de prueba similares a los de producción**: Mejoran la productividad y calidad con entornos de bajo costo.\n",
    "\n",
    "En sistemas distribuidos complejos, como las aplicaciones nativas de la nube, los principios de DevOps son esenciales para gestionar múltiples piezas móviles y ciclos de lanzamiento rápidos. Además, permite la **recuperación rápida** de sistemas comprometidos o afectados por desastres.\n",
    "\n",
    "## Conclusión\n",
    "\n",
    "DevOps proporciona un conjunto poderoso de principios, prácticas y herramientas para aprovechar todo el potencial de la **computación nativa de la nube** y modernizar las aplicaciones existentes.\n",
    "\n",
    "[MÚSICA]\n"
   ]
  }
 ],
 "metadata": {
  "language_info": {
   "name": "python"
  }
 },
 "nbformat": 4,
 "nbformat_minor": 2
}
