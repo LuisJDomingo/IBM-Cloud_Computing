{
 "cells": [
  {
   "cell_type": "markdown",
   "metadata": {},
   "source": [
    "# Modernización de Aplicaciones\n",
    "\n",
    "## Introducción:\n",
    "Muchas organizaciones realizan grandes inversiones en aplicaciones existentes que a menudo están aisladas en sistemas heredados y son muy difíciles y costosos de actualizar y mantener. Modernizar estas aplicaciones puede desbloquear grandes beneficios para estas organizaciones, como acelerar sus transformaciones digitales, permitirles aprovechar las nuevas tecnologías y servicios, y ser más receptivos a las necesidades de sus clientes y a la dinámica cambiante del mercado. La computación en la nube es uno de los tres ingredientes principales de la modernización de aplicaciones. En el resto de este vídeo veremos cómo y qué más implica la modernización de aplicaciones.\n",
    "\n",
    "## Modernización de Aplicaciones:\n",
    "Hola, soy Eric Minick, de IBM Cloud, y quiero hablar sobre la modernización de aplicaciones y las tres enormes transformaciones que se han producido juntas. Tenemos tres cosas sucediendo que están interrelacionadas, y esto es lo que estamos viendo: este cambio en la forma en que hacemos arquitectura, infraestructura y nuestras formas de trabajar, es decir, cómo cumplimos.\n",
    "\n",
    "Si retrocedemos un poco en el tiempo, vimos aplicaciones que eran muy monolíticas, se ejecutaban en servidores físicos y utilizábamos desarrollo estilo cascada donde tendríamos planes a largo plazo y diríamos, está bien, esta será nuestra fase de planificación, nuestra fase de desarrollo, nuestra fase de prueba, y podríamos planificar un año como proyecto. Y eso es realmente de lo que nos hemos alejado.\n",
    "\n",
    "Entonces, si miramos cómo trabajan la mayoría de las organizaciones hoy en día, arquitectónicamente, tienen algún tipo de arquitectura distribuida. Suele estar relacionada con una arquitectura orientada a servicios; las grandes palabras de moda hace unos años, sino algún tipo de arquitectura distribuida: tenemos un montón de servicios web, están hablando entre sí, tenemos algunas bases de datos en el back-end, y luego algunas interfaces que pasan por todo eso.\n",
    "\n",
    "A nivel de infraestructura, se ejecutan en una especie de máquina virtual, ¿de acuerdo? Entonces dijimos: probablemente podríamos hacerlo mejor que tener que solicitar un nuevo servidor cada vez que tengamos un nuevo servicio. Virtualicemos estas cosas y necesitamos un poco más de densidad en el camino. Y desde una forma de trabajar; ya sabes, desarrollo ágil, bastante normal... y luego tratar de descubrir un poco lo que sucede aguas abajo.\n",
    "\n",
    "Esto nos lleva a dónde se encuentran muchos equipos hoy, pero no realmente hacia dónde se dirigen. Y así, si miramos la siguiente fase, estamos dando otro paso en esta arquitectura orientada a servicios, y realmente reduciendo el tamaño de los servicios, aprovechando la infraestructura más dinámica que tenemos. Y ahora los llamamos microservicios, ¿verdad? Microservicios. Tenemos una arquitectura de microservicios, servicios muy pequeños y muy enfocados. Alejándonos de gran parte de la comunicación pesada basada en XML que vimos en SOA, hacia una comunicación más basada en REST, cosas así. Pero la misma idea, sigamos rompiendo en pedazos cada vez más pequeños. Tenemos más independencia de lo que enviamos. Más rigor al decir que este servicio debe ser independiente de otro servicio, para que pueda cambiar estas cosas por sí mismas.\n",
    "\n",
    "Por el lado de la infraestructura: la nube. La nube es bastante popular. Y esta podría ser una nube pública, o también podría ser una nube privada. Estoy pintando con un pincel muy amplio cuando digo nube aquí. Y luego, a partir de una entrega, en una forma de trabajar: podríamos decir que DevOps es realmente clave. Y yo incluiría en esto enfoques como la ingeniería de confiabilidad del sitio (SRE). Más las formas de trabajar que tenemos hoy. Eso está bien e interesante. Pero ¿qué tienen que ver estas cosas entre sí?\n",
    "\n",
    "Yo diría que lo que realmente estamos viendo es una modernización en cómo se entregan las aplicaciones, cómo se construyen y qué son. Y aunque hoy en día se puede entrar en cualquier gran empresa y encontrarás a alguien que diga \"Estamos atravesando una transformación en la nube\". A menudo encontrarás a alguien que diga: \"Sí, estoy a cargo de liderar la transformación de DevOps\". Al entrar en la arquitectura empresarial, le dirán: \"Sí, estamos impulsando arquitecturas de microservicios\". Los individuos piensan que están pasando por tres transformaciones distintas. Pero están realmente empatados.\n",
    "\n",
    "¿Bien? Si estoy haciendo microservicios y tengo nuevos microservicios todo el tiempo. Y para poner en funcionamiento un nuevo microservicio, estoy aquí y tengo que pedir un nuevo servidor físico. Y luego apilarlo y apilarlo un par de meses después. No obtendré ningún beneficio de tiempo de comercialización. Los beneficios de resiliencia que normalmente buscaré de los microservicios serán, en el mejor de los casos, modestos. Los microservicios quieren infraestructura en la nube. Quieres poder decir, tengo un nuevo microservicio; déjame ponerlo en un contenedor y simplemente ejecute ese contenedor ahora mismo y escale dinámicamente. Del mismo modo, a la nube le gusta mucho ejecutar microservicios. Los beneficios de poder escalar dinámicamente son realmente geniales cuando tienes muchas cosas pequeñas de las que quizás necesites algunas o muchas. No es tan interesante cuando tengo un monolito que ni siquiera está distribuido. ¿Cómo puedo escalar eso? ¿Tengo un servidor en la nube más grande?\n",
    "\n",
    "Y luego todo esto se integra en esta idea de velocidad y resistencia, y DevOps reúne todo eso. Los desarrolladores que siempre han querido velocidad, el personal de operaciones que siempre ha querido esa resiliencia. Estarán programando esa nube. ¿Bien? La infraestructura programable que proporciona la nube necesita personal de operaciones que entienda la resiliencia, pero aporta algo de esa habilidad de desarrollo. Y para aprovechar realmente estas nuevas infraestructuras, las nuevas arquitecturas, necesitas estas nuevas formas de trabajar.\n",
    "\n",
    "Y también dirás: \"si esto me va a dar beneficios en términos de tiempo de comercialización, no puedo volver aquí y decir: 'Sí, tenemos un plan de proyecto de un año que simplemente vamos a ejecutar'\". Necesito poder ser más ágil y adaptarme en mi planificación y mi capacidad de respuesta al negocio. Necesito conectar mejor mis aplicaciones para que puedan ser monitoreadas más fácilmente y sean más resistentes. Tenemos que tener la aplicación de manera que sepa cuándo uno de estos servicios está fallando y podamos activar otro.\n",
    "\n",
    "Entonces, para mí es realmente fascinante que uno entre en estas organizaciones en todas partes, y están atravesando estas tres transformaciones diferentes. Pero siempre los hacen juntos. Y cuando no lo hacen, no funciona del todo. Entonces tienes estas tres transformaciones ocurriendo a la vez. Y nos escuchará hablar mucho sobre la modernización de aplicaciones. ¿Lo ves escrito aquí arriba? Cuando pienso en la modernización de aplicaciones, creo que es solo esto. Es esta transformación aquí mismo; pasando de este tipo de monolitos, o arquitecturas orientadas a servicios, a microservicios; adoptando la nube; modernizando nuestras formas de trabajar hacia DevOps y SRE. Eso es AppMod. Es un momento realmente emocionante. Y es realmente fantástico cuando puedes lograrlo de forma holística.\n"
   ]
  },
  {
   "cell_type": "markdown",
   "metadata": {},
   "source": []
  }
 ],
 "metadata": {
  "language_info": {
   "name": "python"
  }
 },
 "nbformat": 4,
 "nbformat_minor": 2
}
