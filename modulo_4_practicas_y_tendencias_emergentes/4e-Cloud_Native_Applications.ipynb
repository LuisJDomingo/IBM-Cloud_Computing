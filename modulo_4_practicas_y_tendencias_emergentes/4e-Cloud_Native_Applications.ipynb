{
 "cells": [
  {
   "cell_type": "markdown",
   "metadata": {},
   "source": [
    "# Aplicaciones Nativas de la Nube\n",
    "\n",
    "En pocas palabras, una aplicación nativa de la nube es una aplicación desarrollada para trabajar exclusivamente en la nube, o una aplicación existente que ha sido refactorizada siguiendo principios nativos de la nube. Estas aplicaciones están formadas por microservicios que colaboran para procesar solicitudes, pero cada uno puede escalarse e iterarse de manera independiente mediante procesos de automatización y orquestación.\n",
    "\n",
    "## Microservicios y Contenedores\n",
    "\n",
    "Los microservicios suelen estar empaquetados en **contenedores**, que son unidades ejecutables de software que incluyen el código, las bibliotecas y las dependencias necesarias. Esto permite que el código se ejecute en cualquier lugar. La independencia de los microservicios hace posible mejorar aplicaciones de manera iterativa y frecuente sin interrumpir la experiencia del usuario.\n",
    "\n",
    "## Comparación con Aplicaciones Monolíticas\n",
    "\n",
    "A diferencia de las aplicaciones tradicionales monolíticas, que agrupan la interfaz de usuario, la lógica empresarial y los datos en un solo bloque de software, las aplicaciones nativas de la nube dividen sus funciones en microservicios independientes. \n",
    "\n",
    "Por ejemplo, en un **sitio web de viajes**, cada sección (vuelos, hoteles, autos, ofertas especiales) es un microservicio que puede actualizarse o escalarse de forma independiente sin afectar a los demás.\n",
    "\n",
    "## Principios de Desarrollo Nativo de la Nube\n",
    "\n",
    "Para construir o modernizar una aplicación en la nube, los desarrolladores siguen ciertos principios:\n",
    "\n",
    "1. **Microservicios**: Dividir las aplicaciones en microservicios que realicen una sola función.\n",
    "2. **Contenedores**: Utilizar contenedores para flexibilidad, escalabilidad y portabilidad.\n",
    "3. **Métodos ágiles**: Implementar actualizaciones rápidas e iterativas basadas en la retroalimentación de los usuarios.\n",
    "\n",
    "## Infraestructura Nativa de la Nube\n",
    "\n",
    "Las aplicaciones nativas de la nube se construyen en infraestructuras híbridas y multinube, apoyadas por:\n",
    "\n",
    "- **Infraestructura en la nube**: Puede ser privada, pública o empresarial.\n",
    "- **Orquestación**: Como los controladores de Kubernetes.\n",
    "- **Servicios de aplicación y datos**: Integración con servicios en la nube o en las instalaciones.\n",
    "\n",
    "## Beneficios de las Aplicaciones Nativas de la Nube\n",
    "\n",
    "Al aprovechar las tecnologías nativas de la nube, las empresas obtienen:\n",
    "\n",
    "- **Innovación acelerada**\n",
    "- **Mayor agilidad**\n",
    "- **Escalabilidad empresarial**\n",
    "\n",
    "## Casos de Uso\n",
    "\n",
    "Todo lo que vive en la nube debe diseñarse con un enfoque nativo de la nube, asegurando:\n",
    "\n",
    "- **Estandarización de registros y eventos**: Para facilitar la comunicación entre microservicios.\n",
    "- **Rastreo distribuido**: Para manejar las múltiples partes móviles dentro de los microservicios.\n",
    "- **Equilibrio de carga y enrutamiento**: Utilizando herramientas como Istio y Knative.\n",
    "\n",
    "En resumen, las aplicaciones nativas de la nube permiten a las empresas innovar y escalar a gran velocidad. En el próximo video, veremos **DevOps**."
   ]
  },
  {
   "cell_type": "markdown",
   "metadata": {},
   "source": []
  }
 ],
 "metadata": {
  "language_info": {
   "name": "python"
  }
 },
 "nbformat": 4,
 "nbformat_minor": 2
}
