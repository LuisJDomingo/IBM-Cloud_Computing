{
 "cells": [
  {
   "cell_type": "markdown",
   "id": "12563e24",
   "metadata": {},
   "source": [
    "# Módulo 4 - Lección sobre Nube Híbrida y Multinube\n",
    "\n",
    "La nube híbrida, como vimos en la lección anterior, es un entorno informático que conecta las instalaciones locales de una organización, la nube privada y la nube pública de terceros en una única infraestructura para ejecutar las aplicaciones de la organización. \n",
    "\n",
    "La multinube es una estrategia de adopción de la nube que abarca una combinación de modelos de nube de diferentes proveedores de servicios, ya sean públicos, privados o gestionados, a través de infraestructura, plataforma o servicios de software. Por ejemplo, una empresa puede usar el correo electrónico como servicio de un proveedor, una aplicación CRM de otro proveedor e infraestructura de otro proveedor.\n",
    "\n",
    "Esencialmente, una multinube híbrida permite aprovechar lo mejor de cada modelo de nube y servicio de diferentes proveedores, teniendo aplicaciones y cargas de trabajo que operan sin problemas en múltiples nubes.\n",
    "\n",
    "En este video, exploraremos algunos casos de uso que explican por qué una empresa podría querer adoptar un enfoque de nube híbrida o multinube.\n",
    "\n",
    "## Casos de Uso: Escalar a la Nube\n",
    "\n",
    "Uno de los casos más comunes de adopción de la nube es la capacidad de escalar. Imagina que una empresa de entrega de flores tiene una infraestructura local que puede soportar una cantidad determinada de usuarios. Durante el año, la carga puede aumentar y disminuir en días festivos específicos. En lugar de invertir en más infraestructura local, pueden usar la nube para escalar según la demanda y reducir los recursos cuando ya no los necesiten.\n",
    "\n",
    "Este concepto es general para la computación en la nube, pero también se aplica a nubes híbridas y multinube.\n",
    "\n",
    "### Nube Compuesta\n",
    "\n",
    "Un segundo caso de uso es construir una \"nube compuesta\", donde una aplicación se distribuye en múltiples entornos de nube. Imagina que el servicio de entrega de flores tiene una parte de su aplicación en Europa y nota que el rendimiento es lento para clientes en América durante festividades como el Día de Acción de Gracias. Podrían aprovechar una nube híbrida para distribuir su aplicación, manteniendo ciertos componentes en Europa mientras trasladan la interfaz de usuario y la facturación a un centro de datos en América.\n",
    "\n",
    "### Modernización en la Industria Aérea\n",
    "\n",
    "Otro caso de uso es la modernización de sistemas. En la industria aérea, por ejemplo, muchos sistemas de reservas operan en servidores locales. Sin embargo, las aerolíneas han modernizado sus servicios al crear aplicaciones móviles que interactúan con esos sistemas. Si un vuelo se retrasa, una aplicación puede permitir a los usuarios volver a reservar vuelos a través de la nube, mejorando la experiencia del usuario.\n",
    "\n",
    "### Datos e Inteligencia Artificial\n",
    "\n",
    "En la industria aérea, las empresas pueden aprovechar grandes volúmenes de datos históricos, como información sobre mantenimientos no planificados. Al conectar esos datos a capacidades de aprendizaje automático, pueden predecir problemas antes de que ocurran, mejorando la eficiencia y reduciendo retrasos.\n",
    "\n",
    "Hoy hemos cubierto cuatro casos de uso principales para nubes híbridas y multinube: escalado a la nube, aplicaciones compuestas, modernización, y datos con inteligencia artificial.\n",
    "\n",
    "Otra razón para adoptar una estrategia de multinube híbrida es evitar quedar bloqueado con un solo proveedor y tener la flexibilidad de mover cargas de trabajo entre diferentes plataformas según sea necesario.\n",
    "\n",
    "En el siguiente video, veremos qué es una arquitectura de microservicios, sus características, beneficios y casos de uso.\n"
   ]
  }
 ],
 "metadata": {
  "language_info": {
   "name": "python"
  }
 },
 "nbformat": 4,
 "nbformat_minor": 5
}
