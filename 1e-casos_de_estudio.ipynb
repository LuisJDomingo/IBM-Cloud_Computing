{
 "cells": [
  {
   "cell_type": "markdown",
   "metadata": {},
   "source": [
    "[GENERADO AUTOMÁTICAMENTE ]\n",
    "\n",
    "En este vídeo, veremos cómo algunas de las empresas líderes han transformado la forma en que trabajan para brindar un mejor servicio al cliente, eliminar barreras a la innovación, lograr escalar empresas y acelerar el crecimiento utilizando tecnologías en la nube.\n",
    "\n",
    "Aunque los estudios de caso que veremos están seleccionados de IBM Cloud, historias similares con un impacto dramático para los negocios se pueden encontrar en todo el espectro de empresas que utilizan otros proveedores de servicios en la nube también.\n",
    "\n",
    "### Mejor servicio al cliente\n",
    "\n",
    "En la altamente competitiva industria aérea, la experiencia del cliente es un importante punto de diferenciación y los canales digitales son cada vez más importantes. Para responder mejor a las necesidades de los clientes, **American Airlines** necesitaba una nueva plataforma tecnológica y un nuevo enfoque de desarrollo que le ayudaría a ofrecer herramientas de autoservicio digital y valor para el cliente más rápidamente en toda su empresa.\n",
    "\n",
    "La aerolínea reconoció la oportunidad de eliminar las limitaciones de sus aplicaciones actuales de atención al cliente basadas en código monolítico en una arquitectura de microservicios basada en la nube.\n",
    "\n",
    "**Resultados**:\n",
    "- Desarrollo y lanzamiento más rápido de nuevas aplicaciones.\n",
    "- Mejora de la confiabilidad operativa, la productividad y los tiempos de respuesta del cliente final.\n",
    "- Ahorro de costos al evitar los costos de actualización existentes mediante la migración a IBM Cloud.\n",
    "\n",
    "### Eliminar barreras a la innovación\n",
    "\n",
    "Como organización eficiente con un objetivo autoimpuesto de límite de personal, **UBank** se destaca por encontrar formas innovadoras de satisfacer las demandas. El equipo de TI de UBank, continuamente desafiado a encontrar formas más eficientes de operar, exploró un modelo de desarrollo en la nube de plataforma como servicio (PaaS).\n",
    "\n",
    "Su necesidad era dar más control a sus desarrolladores, reducir la necesidad de recursos, mayor velocidad de comercialización y eliminación de barreras para pasar de una idea a la producción. UBank lanzó nuevas iniciativas en un entorno IBM Cloud Platform, incluida una asistente virtual que incorpora tecnología IBM Watson para soportar la solicitud de préstamos hipotecarios en línea del banco.\n",
    "\n",
    "**Resultados**:\n",
    "- Un tiempo de comercialización más rápido gracias al marco de la plataforma en la nube que agiliza el desarrollo y empodera a los equipos de productos.\n",
    "- Fomente una mayor innovación con recursos de desarrollo basados en la nube que son rápidos, fáciles y rentables de implementar.\n",
    "- Operaciones más eficientes.\n",
    "\n",
    "### Demanda de escala empresarial\n",
    "\n",
    "Desde su creación en 2008, **Bitly** ha pasado de una startup que ofrecía tecnología inteligente de acortamiento de enlaces a un producto empresarial. Buscando una infraestructura de TI ágil y rentable para respaldar esta transición, Bitly comenzó a planificar la migración a la nube.\n",
    "\n",
    "Su necesidad era tener un modelo basado en la nube con precios de pago por uso, la capacidad de escalar hacia arriba y hacia abajo, una presencia más global y la capacidad de geodistribuir en más COP. Y querían que fuera de bajo riesgo. Bitly migró a un entorno IBM Cloud, estableciendo una plataforma de alojamiento escalable para la entrega de baja latencia a clientes empresariales de todo el mundo.\n",
    "\n",
    "**Resultados**:\n",
    "- 25 mil millones de enlaces con datos migraron desde un sitio de alojamiento para infraestructura en la nube con ubicaciones de centros de datos en todo el mundo.\n",
    "- Mil millones de conjuntos de datos de interacción de usuarios almacenados y gestionados de forma flexible y rentable en un entorno de almacenamiento de objetos en la nube.\n",
    "- Operaciones de TI transformadas a escala para el crecimiento, controlar los costos y centrar recursos valiosos en el desarrollo de nuevos productos.\n",
    "\n",
    "### Aceleración del crecimiento\n",
    "\n",
    "Los operadores financieros exigen velocidad extrema y disponibilidad de los sistemas comerciales. La rentabilidad depende de decisiones en fracciones de segundo. Como corredor en línea líder en divisas, materias primas, acciones, criptomonedas, índices y otros instrumentos financieros, **ActivTrades** permite a los inversores comprar y vender en numerosos mercados financieros.\n",
    "\n",
    "A medida que crecía su base de clientes, ActivTrades quería reducir la latencia, acelerar la ejecución y agilizar la entrega de nuevas funciones. ActivTrades migró tres sistemas comerciales importantes de la infraestructura local a IBM Cloud para soluciones VMware, respaldadas por ofertas de almacenamiento de datos, redes y seguridad en la nube de IBM.\n",
    "\n",
    "**Resultados**:\n",
    "- Aumento del rendimiento de hasta 3 veces, ayudando a los clientes a aprovechar oportunidades fugaces para obtener ganancias.\n",
    "- Plataforma en la nube rica en seguridad con ultra alta disponibilidad protege las inversiones de los clientes.\n",
    "- Horas, no días, para activar nuevos recursos, para una respuesta más rápida a los requisitos emergentes.\n",
    "\n",
    "---\n",
    "\n",
    "En el siguiente vídeo, veremos algunas de las tecnologías emergentes que están disponibles en la nube y las oportunidades que brindan a las empresas.\n"
   ]
  },
  {
   "cell_type": "markdown",
   "metadata": {},
   "source": []
  }
 ],
 "metadata": {
  "language_info": {
   "name": "python"
  }
 },
 "nbformat": 4,
 "nbformat_minor": 2
}
