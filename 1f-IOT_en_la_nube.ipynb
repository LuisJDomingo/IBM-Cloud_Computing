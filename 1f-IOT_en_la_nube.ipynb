{
 "cells": [
  {
   "cell_type": "markdown",
   "metadata": {},
   "source": [
    "En esta nueva era, tecnologías como Internet de las Cosas (IoT), Big Data, inteligencia artificial y blockchain están alterando los modelos de negocios y las industrias existentes, al tiempo que crean oportunidades para que las empresas se diferencien y creen valor para sus clientes. El poder, la escala, la naturaleza dinámica y la economía de los recursos de la nube hacen que la computación en la nube sea un facilitador clave para la adopción y evolución de estas tecnologías emergentes.\n",
    "\n",
    "En este vídeo, veremos cómo el Internet de las Cosas, o IoT, impulsado por la nube, está marcando una gran diferencia para las empresas de hoy.\n",
    "\n",
    "### Internet de las Cosas (IoT)\n",
    "\n",
    "El IoT es una red gigante de cosas y personas conectadas que ha cambiado gran parte de la forma en que vivimos nuestra vida diaria: desde cómo conducimos, hasta cómo hacemos compras, monitoreamos nuestra salud personal e incluso cómo obtenemos energía para nuestros hogares. Los dispositivos y sensores inteligentes rastrean y recopilan datos continuamente. Por ejemplo, un edificio inteligente podría tener miles de sensores midiendo todo tipo de datos relacionados con estímulos térmicos, ópticos, estructurales y ambientales.\n",
    "\n",
    "Se está generando una cantidad de datos sin precedentes, ejerciendo una enorme presión sobre Internet. Ahí es donde entra en juego la nube. Al conectar al usuario del dispositivo IoT a la nube, ya sea para el registro de dispositivos, la identidad del dispositivo, el almacenamiento de datos o el acceso a datos empresariales, los datos recopilados a través de dispositivos IoT se almacenan y procesan en la nube. Como los dispositivos IoT pueden estar en movimiento, la nube sirve como el punto de recogida más cercano, minimizando la latencia al informar los puntos de datos y proporcionando una respuesta rápida a la aplicación de IoT.\n",
    "\n",
    "Desde plataformas IoT que se ejecutan completamente en la nube, hasta las interfaces utilizadas por los clientes para interactuar con estos dispositivos, y las plataformas de análisis backend: la computación en la nube respalda y habilita el IoT. Los proveedores de servicios en la nube también ofrecen servicios especializados en IoT diseñados para ayudar a acelerar el desarrollo de soluciones IoT.\n",
    "\n",
    "### Estudio de caso: Combatiendo la caza furtiva de rinocerontes con IoT\n",
    "\n",
    "Veamos un caso que demuestra el uso de IoT en la nube para combatir la caza furtiva de rinocerontes en peligro de extinción en Welgevonden, haciendo que la caza furtiva sea predecible.\n",
    "\n",
    "Los rinocerontes se han convertido en una de las especies clave en peligro de extinción debido a la caza furtiva en toda África, especialmente en Sudáfrica. Hasta ahora, los cazadores furtivos han aumentado en número y se han vuelto más militarizados con armas, lo que ha llevado a una respuesta similar por parte de los defensores de la fauna, pero esto no es sostenible. La única manera de mejorar la situación es incorporando tecnología que los cazadores furtivos no tienen.\n",
    "\n",
    "Esta especie en peligro de extinción está recibiendo ayuda de amigos inesperados: las cebras y los antílopes. Estos animales llevan sensores de IoT conectados a la nube de IBM. Cuando los cazadores furtivos entran en la zona, los animales reaccionan corriendo, lo que alerta a los guardabosques. Esto les permite rastrear el comportamiento de los animales y detener a los cazadores furtivos antes de que ocurra algún daño.\n",
    "\n",
    "Este enfoque inteligente está ayudando a proteger a los rinocerontes y a desviar a los cazadores furtivos hacia una mejor protección de las especies en peligro de extinción.\n",
    "\n",
    "---\n",
    "\n"
   ]
  }
 ],
 "metadata": {
  "language_info": {
   "name": "python"
  }
 },
 "nbformat": 4,
 "nbformat_minor": 2
}
