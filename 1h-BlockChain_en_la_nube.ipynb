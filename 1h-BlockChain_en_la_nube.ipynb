{
 "cells": [
  {
   "cell_type": "markdown",
   "metadata": {},
   "source": [
    "Blockchain es una tecnología abierta, distribuida y segura que puede ayudar a acelerar procesos, reducir costos y generar transparencia y trazabilidad en aplicaciones transaccionales. Es una red inmutable que permite a los miembros ver solo las transacciones relevantes para ellos. Cuanto más abierta, diversa y distribuida sea la red, mayor será la confianza y transparencia en los datos y transacciones.\n",
    "\n",
    "El 85% de las empresas actuales dependen de múltiples nubes para satisfacer sus necesidades de TI, y más del 70% usa más de tres. Estas empresas necesitan mover aplicaciones y datos entre múltiples nubes de manera fácil y segura, lo que genera una demanda emergente de construir y gestionar aplicaciones empresariales, como blockchain, en entornos multinube.\n",
    "\n",
    "### Relación entre Blockchain, IA y la Nube\n",
    "\n",
    "Blockchain, IA y la nube también forman una relación de tres vías. Blockchain proporciona confianza y una fuente descentralizada de verdad, la IA potencia el análisis y la toma de decisiones, y la nube proporciona los recursos globales y escalables necesarios para manejar grandes cantidades de datos y la potencia de procesamiento para extraer conocimientos.\n",
    "\n",
    "Blockchain puede hacer que la IA sea más comprensible al registrar los datos y variables que influyen en las decisiones tomadas por un algoritmo de IA, lo que lleva a una mayor confianza y transparencia en las conclusiones de la IA.\n",
    "\n",
    "### Caso de estudio: Agricultura y Blockchain\n",
    "\n",
    "Veamos cómo blockchain en la nube está ayudando a los agricultores a reducir el desperdicio y a mejorar la trazabilidad y transparencia en la cadena de suministro de alimentos. En Salinas, donde se cultiva el 60% de la lechuga del país, los agricultores enfrentan el problema del desperdicio durante los retiros de productos. Con la tecnología blockchain en IBM Cloud, ahora pueden rastrear productos en segundos, lo que les permite retirar solo los productos afectados, reduciendo el desperdicio.\n",
    "\n",
    "### Caso de estudio: KONE y el IoT\n",
    "\n",
    "KONE, fabricante de ascensores y escaleras mecánicas, ha invertido en tecnologías de nube e IoT para desarrollar una solución de análisis de datos y mantenimiento predictivo. Utilizan funciones en la nube para procesar los datos generados por sus dispositivos conectados y predecir posibles fallos futuros, lo que les permite realizar un mantenimiento predictivo.\n",
    "\n",
    "KONE utiliza almacenamiento en la nube, servicios de IoT y mensajería, entre otros, en su plataforma de análisis, y planean expandir el uso de estos servicios a medida que crezca su huella digital en la industria.\n",
    "\n",
    "---\n",
    "\n",
    "En el siguiente vídeo, exploraremos cómo las tecnologías de análisis en la nube están impactando a las empresas.\n"
   ]
  }
 ],
 "metadata": {
  "language_info": {
   "name": "python"
  }
 },
 "nbformat": 4,
 "nbformat_minor": 2
}
