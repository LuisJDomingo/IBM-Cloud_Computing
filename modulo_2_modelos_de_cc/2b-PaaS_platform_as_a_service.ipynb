{
 "cells": [
  {
   "cell_type": "markdown",
   "metadata": {},
   "source": [
    "Plataforma como servicio, comúnmente conocida como P-a-a-S o simplemente, PaaS, es un modelo de computación en la nube que proporciona a los clientes una plataforma completa para desarrollar, implementar, administrar y ejecutar aplicaciones creadas por ellos o adquiridos de un tercero.\n",
    "\n",
    "El proveedor PaaS aloja todo: servidores, redes, almacenamiento, sistema operativo, tiempos de ejecución de aplicaciones, API, middleware, bases de datos y otras herramientas en su centro de datos. El proveedor también se responsabiliza de la instalación, configuración y operación de la infraestructura de la aplicación, dejando al usuario responsable únicamente del código de la aplicación y su mantenimiento. Los clientes pagan por este servicio según el uso y compran recursos a demanda.\n",
    "\n",
    "Con IaaS, el proveedor de la nube ofrece acceso a recursos informáticos como servidores, almacenamiento y redes, mientras que el usuario es responsable de la plataforma y el software de la aplicación. Con PaaS, el proveedor de servicios en la nube entrega y gestiona toda la infraestructura de la plataforma, abstrayendo a los usuarios de los detalles de nivel inferior del entorno.\n",
    "\n",
    "### Características esenciales de PaaS:\n",
    "- **Alto nivel de abstracción**: Las nubes PaaS eliminan la complejidad de implementar aplicaciones, configurar la infraestructura y aprovisionar tecnologías de soporte como balanceadores de carga y bases de datos.\n",
    "- **Servicios y API**: Simplifican el trabajo de los desarrolladores, ayudando a la entrega de aplicaciones escalables y de alta disponibilidad. Esto incluye servicios como almacenamiento de archivos, gestión de cargas de trabajo, identidad de usuario y análisis.\n",
    "- **Entorno de ejecución**: Ejecuta el código del usuario final de acuerdo con políticas establecidas por el propietario de la aplicación y el proveedor de la nube.\n",
    "- **Middleware**: Ofrece capacidades de infraestructura como servidores de aplicaciones, bases de datos, servicios backend móviles, sistemas de gestión de procesos de negocio, entre otros.\n",
    "\n",
    "### Casos de uso típicos de PaaS:\n",
    "- **Desarrollo y gestión de API**: PaaS permite crear, gestionar y ejecutar API y microservicios seguros.\n",
    "- **Internet de las Cosas (IoT)**: PaaS soporta una variedad de herramientas y entornos para implementaciones de IoT.\n",
    "- **Análisis de negocios**: Las herramientas PaaS permiten a las organizaciones analizar datos para tomar decisiones mejor informadas.\n",
    "- **Gestión de procesos de negocio (BPM)**: Facilita el acceso a plataformas BPM como servicio.\n",
    "- **Gestión de datos maestros (MDM)**: Proporciona un único punto de referencia para datos críticos de negocios.\n",
    "\n",
    "### Ventajas de utilizar PaaS:\n",
    "- **Escalabilidad**: Rápida asignación y desasignación de recursos con un modelo de pago por uso.\n",
    "- **Agilidad e innovación**: Posibilidad de experimentar con sistemas operativos, lenguajes y herramientas sin inversión adicional.\n",
    "- **Reducción de código**: Las capacidades de middleware reducen la cantidad de código necesario, ampliando las funcionalidades de las aplicaciones.\n",
    "  \n",
    "### Ofertas clave de PaaS:\n",
    "- AWS Elastic Beanstalk\n",
    "- Cloud Foundry\n",
    "- IBM Cloud Paks\n",
    "- Windows Azure\n",
    "- Red Hat OpenShift\n",
    "- Magento Commerce Cloud\n",
    "- force.com\n",
    "- Apache Stratos\n",
    "\n",
    "### Riesgos de PaaS:\n",
    "- **Seguridad de la información**: Al igual que otros servicios en la nube, puede haber amenazas de seguridad.\n",
    "- **Dependencia del proveedor**: Los cambios en la infraestructura del proveedor pueden afectar a los servicios.\n",
    "\n",
    "Pese a estos riesgos, los beneficios de PaaS suelen superar las preocupaciones, y se prevé que siga creciendo hasta convertirse en el modelo de entrega de plataforma predominante en el futuro."
   ]
  },
  {
   "cell_type": "markdown",
   "metadata": {},
   "source": []
  }
 ],
 "metadata": {
  "language_info": {
   "name": "python"
  }
 },
 "nbformat": 4,
 "nbformat_minor": 2
}
