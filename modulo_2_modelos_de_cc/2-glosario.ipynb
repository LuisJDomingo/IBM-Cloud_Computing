{
 "cells": [
  {
   "cell_type": "markdown",
   "metadata": {},
   "source": [
    "# M2: Modelos de Computación en la Nube \n",
    "\n",
    "## Glosario\n",
    "\n",
    "| **Término**               | **Definición**                                                                                                                                                              |\n",
    "|---------------------------|------------------------------------------------------------------------------------------------------------------------------------------------------------------------------|\n",
    "| **BPM**                   | Gestión de Procesos de Negocio (Business Process Management)                                                                                                                 |\n",
    "| **Nube multicloud compuesta** | Variante de nube híbrida multicloud que distribuye aplicaciones individuales entre múltiples proveedores, permitiendo mover componentes de aplicaciones según sea necesario |\n",
    "| **CRM**                   | Gestión de Relaciones con Clientes (Customer Relationship Management)                                                                                                        |\n",
    "| **HCM**                   | Gestión de Capital Humano (Human Capital Management)                                                                                                                         |\n",
    "| **Nube híbrida**          | Entorno informático que conecta la nube privada local de una organización y una nube pública de terceros en una única infraestructura flexible para ejecutar aplicaciones       |\n",
    "| **Nube monocloud híbrida**| Nube híbrida con un solo proveedor de nube                                                                                                                                   |\n",
    "| **Nube multicloud híbrida**| Conjunto basado en estándares abiertos que puede desplegarse en cualquier infraestructura de nube pública                                                                     |\n",
    "| **IaaS**                  | Infraestructura como Servicio, forma de computación en la nube que entrega recursos fundamentales de computación, red y almacenamiento a los consumidores bajo demanda          |\n",
    "| **IoT**                   | Internet de las Cosas (Internet of Things)                                                                                                                                   |\n",
    "| **MDM**                   | Gestión de Datos Maestros (Master Data Management)                                                                                                                           |\n",
    "| **PaaS**                  | Plataforma como Servicio, modelo de computación en la nube que ofrece una plataforma completa para desarrollar, desplegar, gestionar y ejecutar aplicaciones                   |\n",
    "| **Pago por uso**          | Los usuarios pueden solicitar recursos de nube desde un conjunto de recursos disponibles y pagarlos en función del uso                                                        |\n",
    "| **Nube privada**          | Infraestructura en la nube aprovisionada para el uso exclusivo de una sola organización que incluye múltiples consumidores                                                     |\n",
    "| **Nube pública**          | Los usuarios obtienen acceso a servidores, almacenamiento, red, seguridad y aplicaciones como servicios entregados por proveedores de servicios en la nube a través de Internet|\n",
    "| **SaaS**                  | Software como Servicio, oferta de la nube que proporciona acceso al software basado en la nube de un proveedor de servicios                                                    |\n",
    "| **SIP**                   | Plataformas de integración SaaS                                                                                                                                              |\n",
    "| **TCO**                   | Costo Total de Propiedad (Total Cost of Ownership)                                                                                                                           |\n",
    "| **VM**                    | Máquina Virtual (Virtual Machine)                                                                                                                                           |\n",
    "| **VPC**                   | Nube Privada Virtual (Virtual Private Cloud)                                                                                                                                 |\n"
   ]
  }
 ],
 "metadata": {
  "language_info": {
   "name": "python"
  }
 },
 "nbformat": 4,
 "nbformat_minor": 2
}
