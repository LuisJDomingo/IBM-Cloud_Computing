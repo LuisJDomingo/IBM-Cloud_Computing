{
 "cells": [
  {
   "cell_type": "markdown",
   "metadata": {},
   "source": [
    "Infraestructura como servicio, comúnmente conocida como “IaaS” o simplemente “eye-es”, es una forma de computación en la nube que ofrece computación, red y almacenamiento fundamentales a los consumidores a pedido, a través de Internet, en forma de pago por uso.\n",
    "\n",
    "El proveedor de la nube aloja los componentes de infraestructura tradicionalmente presentes en las instalaciones del centro de datos, así como la capa de virtualización o hipervisor. En un entorno de nube IaaS, los clientes pueden crear o aprovisionar máquinas virtuales (VM) en su elección de Región y Zona disponibles del Proveedor de la Nube. Estas máquinas virtuales normalmente vienen preinstaladas con el sistema operativo elegido por el cliente. Luego, los clientes pueden implementar middleware, instalar aplicaciones y ejecutar cargas de trabajo en estas máquinas virtuales. También pueden crear almacenamiento para sus cargas de trabajo y copias de seguridad.\n",
    "\n",
    "Los proveedores de la nube a menudo brindan a los clientes la capacidad de rastrear y monitorear el desempeño y el uso de sus servicios en la nube y gestionar la recuperación ante desastres.\n",
    "\n",
    "### Componentes clave de la infraestructura de la nube:\n",
    "- **Centros de datos físicos**: Los proveedores de IaaS administran grandes centros de datos que contienen las máquinas necesarias para alimentar las distintas capas de abstracción encima de ellas. En la mayoría de los modelos IaaS, los usuarios finales no interactúan directamente con la infraestructura física, pero la experimentan como un servicio que se les brinda.\n",
    "  \n",
    "- **Computación**: Los proveedores de IaaS administran los hipervisores y los usuarios finales aprovisionan virtualmente mediante programación instancias con las cantidades deseadas de recursos de computación, memoria y almacenamiento. La computación en la nube generalmente viene con servicios de soporte como escalado automático y equilibrio de carga, que proporcionan escalabilidad y alto rendimiento.\n",
    "\n",
    "- **Red**: Los usuarios obtienen acceso a recursos de red en la nube a través de virtualización o mediante programación a través de API.\n",
    "\n",
    "- **Almacenamiento**: Hay tres tipos de almacenamiento de datos en la nube: almacenamiento de objetos, archivos y bloques. El almacenamiento de objetos es el modo de almacenamiento más común en la nube, dado que es altamente distribuido y resiliente.\n",
    "\n",
    "### Casos de uso típicos de IaaS:\n",
    "Hoy en día, las organizaciones utilizan servicios de infraestructura en la nube para permitir que sus equipos configuren entornos de pruebas y desarrollo más rápidamente, lo que ayuda a crear nuevas aplicaciones con mayor rapidez. Al abstraer los componentes de bajo nivel, la infraestructura de la nube ayuda a los desarrolladores a concentrarse más en la lógica empresarial que en la gestión de infraestructura.\n",
    "\n",
    "- **Continuidad del negocio y recuperación ante desastres**: Requieren una cantidad significativa de tecnología e inversiones de personal. IaaS está ayudando a las organizaciones a reducir este costo y hacer que las aplicaciones y los datos sean accesibles como de costumbre durante un desastre o apagón.\n",
    "  \n",
    "- **Implementación rápida**: Las organizaciones están utilizando la infraestructura de la nube para implementar sus aplicaciones web más rápidamente y también escalar o reducir la infraestructura a medida que fluctúa la demanda.\n",
    "\n",
    "- **Capacidades de alto rendimiento**: La infraestructura de la nube se utiliza para resolver problemas complejos que involucran millones de variables y cálculos, como las predicciones meteorológicas y modelos financieros. También es utilizada para extraer conjuntos de datos masivos y localizar patrones, tendencias y asociaciones valiosas, proporcionando informática de alto rendimiento de manera económica.\n",
    "\n",
    "Si bien existen algunas preocupaciones con respecto a la falta de transparencia en la configuración y gestión de la infraestructura de la nube, y la dependencia de un tercero para la disponibilidad de la carga de trabajo y el rendimiento, la infraestructura como servicio es el modelo de nube de más rápido crecimiento en la actualidad.\n",
    "\n",
    "En el siguiente vídeo, veremos el modelo de plataforma como servicio, sus características, beneficios y algunos casos de uso.\n"
   ]
  }
 ],
 "metadata": {
  "language_info": {
   "name": "python"
  }
 },
 "nbformat": 4,
 "nbformat_minor": 2
}
