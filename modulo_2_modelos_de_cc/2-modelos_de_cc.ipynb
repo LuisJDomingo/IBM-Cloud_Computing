{
 "cells": [
  {
   "cell_type": "markdown",
   "metadata": {},
   "source": [
    "\n",
    "En el capítulo introductorio sobre la nube, hablamos brevemente de los tres modelos de servicios disponibles en la nube: Infraestructura como Servicio (IaaS), Plataforma como Servicio (PaaS) y Software como Servicio (SaaS). Antes de profundizar en los detalles de cada uno de estos modelos en los próximos videos, comencemos con una descripción general rápida.\n",
    "\n",
    "Comencemos con IaaS. IaaS es un conjunto de recursos de redes, computación y almacenamiento que han sido virtualizados por un proveedor para que un usuario pueda acceder y configurarlos según sus necesidades. En diseño, llamamos a los usuarios \"personas\", y la persona de IaaS es un administrador de sistemas o de TI.\n",
    "\n",
    "Ahora saltemos a SaaS, que es el más sencillo. SaaS es software que no necesitas instalar ni actualizar manualmente. Cualquier persona puede ser un usuario de SaaS. Por ejemplo, si estás viendo esto en YouTube, eres un usuario de SaaS. Generalmente, se cobra mediante un modelo de suscripción.\n",
    "\n",
    "PaaS, por otro lado, aprovecha los recursos virtualizados de IaaS y los abstrae, para que el usuario no tenga que preocuparse por gestionarlos. El usuario de PaaS suele ser un desarrollador, a quien en IBM llamamos \"Jane\".\n",
    "\n",
    "La metáfora de la pirámide indica que, a medida que bajas, aumenta la complejidad en términos de gestión de infraestructura, pero también aumenta la facilidad de uso. Otra metáfora es la de un coche: IaaS es como arrendar un automóvil, PaaS es como alquilarlo, y SaaS es como tomar un taxi o un Uber, donde no te preocupas por los detalles técnicos.\n",
    "\n",
    ">> Entonces, ¿qué significa esto en términos de computación en la nube?\n",
    "\n",
    "- **IaaS**: El proveedor gestiona los recursos físicos, centros de datos, redes y servidores.\n",
    "- **PaaS**: El proveedor gestiona la infraestructura de la plataforma, como sistemas operativos y bases de datos.\n",
    "- **SaaS**: El proveedor también gestiona las aplicaciones y los datos."
   ]
  }
 ],
 "metadata": {
  "language_info": {
   "name": "python"
  }
 },
 "nbformat": 4,
 "nbformat_minor": 2
}
