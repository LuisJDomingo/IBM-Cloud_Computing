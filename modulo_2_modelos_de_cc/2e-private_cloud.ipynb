{
 "cells": [
  {
   "cell_type": "markdown",
   "metadata": {},
   "source": [
    "El Instituto Nacional de Estándares y Tecnología define la **nube privada** como una infraestructura en la nube aprovisionada para el uso exclusivo de una única organización, que comprende múltiples consumidores, como las unidades de negocio dentro de la organización. Puede ser propiedad, administrada y operada por la organización, un tercero o una combinación de ambos, y puede existir dentro o fuera de las instalaciones.\n",
    "\n",
    "Las plataformas de nube privada pueden ser implementadas interna o externamente:\n",
    "\n",
    "- **Interna**: Se ejecuta localmente en la infraestructura interna de la organización, es propiedad, gestionada y operada por la propia organización.\n",
    "- **Externa**: Se aprovisiona en la infraestructura de proveedores de nube, siendo propiedad, administrada y operada por el proveedor del servicio. Esta oferta de nube privada externa se denomina **Nube Privada Virtual (VPC)**.\n",
    "\n",
    "Una **VPC** es una oferta de nube pública que permite a una organización establecer su propio entorno informático privado y seguro en una porción aislada lógicamente de una nube pública compartida. Esto combina la escalabilidad dinámica, alta disponibilidad y menor costo de una nube pública con la seguridad y personalización adaptadas a las necesidades de la organización.\n",
    "\n",
    "La mayoría de los principales proveedores de nube pública, como IBM y Amazon, ofrecen soluciones de VPC.\n",
    "\n",
    "### Beneficios de la nube privada\n",
    "\n",
    "1. **Control sobre los recursos**: Permite aprovechar la computación en la nube utilizando sistemas que están gestionados internamente o bajo el control de la TI interna de la organización.\n",
    "2. **Optimización de recursos existentes**: Aprovecha las inversiones previas en hardware y software, lo que reduce los costos.\n",
    "3. **Escalabilidad mejorada**: Permite un crecimiento escalable mediante la virtualización y la capacidad de \"bursting\" a la nube pública cuando la demanda aumenta.\n",
    "4. **Seguridad y acceso controlado**: Ofrece mayor seguridad, adaptada a las necesidades específicas de la organización, manteniendo el control total.\n",
    "5. **Agilidad**: Facilita la expansión y el aprovisionamiento de recursos en períodos cortos de tiempo, proporcionando flexibilidad y velocidad.\n",
    "\n",
    "### Casos de uso comunes de la nube privada\n",
    "\n",
    "1. **Modernización de aplicaciones**: La nube privada es una oportunidad para que las organizaciones modernicen y unifiquen sus aplicaciones internas y heredadas. Mover estas aplicaciones desde hardware dedicado a la nube les permite aprovechar los recursos computacionales y servicios disponibles en la nube.\n",
    "2. **Integración con la nube pública**: Las organizaciones están utilizando la nube privada para integrar servicios de datos y aplicaciones de sus sistemas existentes con servicios de la nube pública, maximizando el uso de sus capacidades privadas mientras aprovechan los servicios de la nube pública.\n",
    "3. **Portabilidad de aplicaciones**: Las aplicaciones pueden moverse fácilmente entre la nube privada y otros entornos sin comprometer la seguridad o el cumplimiento normativo.\n",
    "4. **Seguridad y cumplimiento regulatorio**: Las organizaciones que no pueden mover sus cargas de trabajo a la nube pública debido a preocupaciones de seguridad o regulación pueden beneficiarse de la nube privada, que les ofrece recursos bajo demanda mientras mantienen el control total sobre la seguridad y el cumplimiento.\n",
    "\n",
    "La nube privada es especialmente adecuada para aquellas organizaciones que gestionan aplicaciones altamente reguladas, datos sensibles o que buscan mantener una ventaja competitiva única mientras aprovechan la flexibilidad y escalabilidad de la computación en la nube.\n"
   ]
  },
  {
   "cell_type": "markdown",
   "metadata": {},
   "source": []
  }
 ],
 "metadata": {
  "language_info": {
   "name": "python"
  }
 },
 "nbformat": 4,
 "nbformat_minor": 2
}
