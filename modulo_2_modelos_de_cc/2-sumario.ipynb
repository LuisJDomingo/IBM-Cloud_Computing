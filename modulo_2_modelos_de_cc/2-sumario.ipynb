{
 "cells": [
  {
   "cell_type": "markdown",
   "metadata": {},
   "source": [
    "# Resumen y Destacados\n",
    "\n",
    "En este módulo, has aprendido:\n",
    "\n",
    "- Con **IaaS** (Infraestructura como Servicio), el proveedor de la nube gestiona los recursos físicos.\n",
    "- Con **PaaS** (Plataforma como Servicio), el proveedor gestiona la infraestructura de la plataforma.\n",
    "- En el modelo **SaaS** (Software como Servicio), el proveedor aloja y gestiona las aplicaciones y los datos.\n",
    "\n",
    "## Infraestructura como Servicio (IaaS)\n",
    "La **Infraestructura como Servicio** es una forma de computación en la nube que ofrece recursos informáticos, de red y de almacenamiento fundamentales a los consumidores bajo demanda, a través de la red, y bajo un modelo de pago por uso.\n",
    "\n",
    "### Componentes clave de la infraestructura en la nube:\n",
    "- Centros de datos físicos\n",
    "- Computación\n",
    "- Red\n",
    "- Almacenamiento\n",
    "\n",
    "## Plataforma como Servicio (PaaS)\n",
    "La **Plataforma como Servicio** es un modelo de computación en la nube que proporciona a los clientes una plataforma completa: hardware, software e infraestructura.\n",
    "\n",
    "### Ventajas de PaaS:\n",
    "- Escalabilidad\n",
    "- Tiempo más rápido para comercializar productos y servicios\n",
    "- Mayor agilidad e innovación\n",
    "\n",
    "El alto nivel de abstracción, los servicios de soporte, los entornos de ejecución, los mecanismos de despliegue rápido y las capacidades de middleware distinguen a las nubes PaaS.\n",
    "\n",
    "## Software como Servicio (SaaS)\n",
    "El **Software como Servicio** es una oferta en la nube que proporciona a los usuarios acceso al software basado en la nube del proveedor de servicios.\n",
    "\n",
    "### Características de SaaS:\n",
    "- Arquitectura multitenant\n",
    "- Seguridad, cumplimiento y mantenimiento\n",
    "- Personalización de aplicaciones\n",
    "- Modelo de suscripción\n",
    "- Escalabilidad\n",
    "\n",
    "### Ventajas de SaaS:\n",
    "- Adquisición directa de soluciones\n",
    "- Mejora en la productividad y eficiencia de la fuerza laboral\n",
    "- Distribución de costos de software\n",
    "\n",
    "## Modelos de Despliegue en la Nube\n",
    "\n",
    "Los **modelos de despliegue** indican dónde reside la infraestructura, quién la posee y la gestiona, y cómo se ponen a disposición de los usuarios los recursos y servicios en la nube. Existen cuatro principales modelos de despliegue en la nube:\n",
    "\n",
    "1. **Nube pública**: El proveedor de servicios posee, gestiona, aprovisiona y mantiene la infraestructura física, como centros de datos, servidores, equipos de red y almacenamiento. Los usuarios acceden a recursos virtualizados de computación, red y almacenamiento como servicios.\n",
    "\n",
    "2. **Nube privada**: El proveedor aprovisiona la infraestructura de la nube para el uso exclusivo de una sola organización. La infraestructura de nube privada puede ser interna a la organización y estar en sus instalaciones, o puede estar en una nube pública, como en el caso de las **Nubes Privadas Virtuales (VPC)**, siendo propiedad, gestionada y operada por el proveedor de la nube.\n",
    "\n",
    "3. **Nube híbrida**: Se conecta la nube privada local de una organización con una nube pública de terceros, creando una infraestructura flexible que aprovecha las características y beneficios de ambas nubes.\n",
    "\n",
    "4. **Nube comunitaria**: El proveedor aprovisiona la infraestructura de la nube para su uso por una comunidad de organizaciones con preocupaciones compartidas. Una o más de las organizaciones de la comunidad, un proveedor externo o ambos, son responsables de la propiedad, gestión y operación de esta infraestructura.\n"
   ]
  },
  {
   "cell_type": "markdown",
   "metadata": {},
   "source": []
  }
 ],
 "metadata": {
  "language_info": {
   "name": "python"
  }
 },
 "nbformat": 4,
 "nbformat_minor": 2
}
