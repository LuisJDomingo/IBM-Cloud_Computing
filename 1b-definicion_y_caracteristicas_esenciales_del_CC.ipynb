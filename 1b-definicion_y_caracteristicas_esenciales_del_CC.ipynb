{
 "cells": [
  {
   "cell_type": "markdown",
   "metadata": {},
   "source": [
    "### ¿Por qué elegir la computación en la nube en lugar de hosting tradicional en un servidor local?\n",
    "\n",
    "La computación en la nube ofrece a las empresas más flexibilidad y escalabilidad que alojar en un servidor local. Es un modelo de negocio o servicio que combina tecnología como la **virtualización** con algunas de las últimas tendencias. Si necesitas ancho de banda extra, un servicio basado en la nube puede abordar esa necesidad con prontitud, en lugar de esperar una actualización compleja y costosa a tu infraestructura de TI.\n",
    "\n",
    "Los usuarios pueden personalizar sus aplicaciones utilizando **Servicios en la nube** desde cualquier lugar si tienen conexión a Internet. Además, la computación en la nube permite un marketing eficiente de aplicaciones, independientemente del mantenimiento y el coste.\n",
    "\n",
    "Para lograr una comprensión común de la computación en la nube, empecemos por la definición del Instituto Nacional de Estándares y Tecnología de EE.UU. (NIST):\n",
    "\n",
    "> NIST define la computación en la nube como un modelo para permitir una gestión cómoda, acceso a la red bajo demanda para un conjunto compartido de recursos informáticos configurables que se puede aprovisionar y liberar rápidamente con mínimo esfuerzo de gestión o interacción del proveedor de servicios.\n",
    "\n",
    "Ejemplos de recursos informáticos incluyen **redes**, **servidores**, **almacenamiento**, **aplicaciones** y **servicios**. Este modelo de Nube se compone de cinco características esenciales, cuatro modelos de implementación y tres modelos de servicio.\n",
    "\n",
    "### Las cinco características esenciales de la Nube\n",
    "\n",
    "1. **Autoservicio bajo demanda:** Puedes acceder a los recursos de la nube cuando sea necesario. Es similar a un cajero automático abierto las 24 horas o una máquina expendedora en la oficina o tienda. Los servicios están siempre disponibles todos los días del año, independientemente de si un día en particular es un feriado nacional, fin de semana, etc. No hay más excepciones que cuando los servicios no pueden debido a una interrupción o violación de seguridad.\n",
    "\n",
    "2. **Amplio acceso a la red:** Los recursos de computación en la nube pueden ser accedidos a través de la red. Generalmente, se puede acceder a los servicios de nube pública desde cualquier lugar y en cualquier dispositivo con conectividad a Internet y capacidades de navegador. Hoy en día, estamos abiertos a más que solo computadoras de escritorio o portátiles al acceder a los servicios en la nube. Existen muchos otros dispositivos como **tablets**, **iPads**, **teléfonos inteligentes**, **lectores electrónicos**, **dispositivos portátiles inteligentes**, etc. Es importante resaltar que el acceso a Internet es obligatorio para acceder a servicios públicos de la Nube. Sin embargo, en una nube privada local, una intranet puede ser suficiente para acceder a los servicios en la nube, siempre que la organización no necesite llegar al público mundial entero.\n",
    "\n",
    "3. **Puesta en común de recursos:** Los consumidores ahorran costos al utilizar un modelo compartido. Este modelo proporciona a los proveedores de la nube economías de escala, que pueden transmitir a sus clientes, haciendo que la nube sea rentable. Los recursos informáticos se utilizan para servir a múltiples consumidores utilizando un modelo **multiinquilino**. Los recursos de la nube son dinámicamente asignados y reasignados según la demanda sin que los clientes tengan que preocuparse por la ubicación física de estos recursos.\n",
    "\n",
    "4. **Elasticidad rápida:** Puedes aumentar o disminuir los recursos según su demanda. Debido a la propiedad elástica de la Nube, los recursos se pueden ampliar o reducir verticalmente (escalado vertical) o ampliado como en el escalado horizontal. Un ejemplo ideal sería agregar recursos cuando haya un aumento en la demanda debido al aumento en el número de usuarios mientras compran en línea, como durante una venta navideña, y lo contrario después del período de rebajas.\n",
    "\n",
    "5. **Servicio medido:** Solo pagas por lo que usas o reservas sobre la marcha. Sin embargo, los servicios medidos no se aplican a ciertos servicios en la nube, como servicios generales de correo electrónico (Gmail, Hotmail, Yahoo), sitios de redes sociales (Facebook, Twitter, WhatsApp), y evaluación de servicios en la nube a modo de prueba como AWS, Azure y GCP, que se proporcionan de forma gratuita debido a las políticas de discreción extendidas por los respectivos proveedores de servicios. El servicio medido también se denomina un modelo de **utilidad de facturación**, donde se te cobra después del uso y al final del período predefinido, como los cargos eléctricos mensuales.\n",
    "\n",
    "Discutiremos los modelos de despliegue y servicio más adelante en este módulo.\n"
   ]
  },
  {
   "cell_type": "markdown",
   "metadata": {},
   "source": []
  }
 ],
 "metadata": {
  "language_info": {
   "name": "python"
  }
 },
 "nbformat": 4,
 "nbformat_minor": 2
}
