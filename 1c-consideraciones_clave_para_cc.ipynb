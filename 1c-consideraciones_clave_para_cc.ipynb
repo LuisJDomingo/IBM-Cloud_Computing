{
 "cells": [
  {
   "cell_type": "markdown",
   "metadata": {},
   "source": [
    "### El viaje de transformación hacia la nube\n",
    "\n",
    "El viaje de transformación de cada organización es único y, por lo tanto, la estrategia de adopción de la nube también es exclusiva de cada una. **Agilidad**, **flexibilidad** y **competitividad** son factores clave para migrar a la nube, siempre que se haga sin crear interrupciones en el negocio o problemas relacionados con la **seguridad**, **cumplimiento** y **rendimiento**.\n",
    "\n",
    "Veamos algunas consideraciones clave que las organizaciones pueden utilizar como guía mientras trabajan en su estrategia en la nube:\n",
    "\n",
    "1. **Infraestructura y cargas de trabajo:**  \n",
    "   El costo de construir y operar centros de datos puede ser astronómico. En contraste, los bajos costos iniciales y el pago por uso de la computación en la nube pueden resultar en ahorros significativos. Sin embargo, es importante considerar que no todas las cargas de trabajo están listas para la nube en su forma actual.\n",
    "\n",
    "2. **SaaS y plataformas de desarrollo:**  \n",
    "   Las organizaciones deben evaluar si pagar por el acceso a aplicaciones es más viable que comprar software disponible en el mercado y luego invertir en actualizaciones. También deben considerar la **velocidad** y **productividad**, comparando el tiempo que llevaría poner en marcha una nueva aplicación en la nube (en horas) frente a hacerlo en plataformas tradicionales (en semanas o meses). Además, los paneles en la nube, con estadísticas y análisis en tiempo real, mejoran la eficiencia de costos por hora.\n",
    "\n",
    "### Beneficios de la adopción de la nube\n",
    "\n",
    "La adopción de la nube ofrece beneficios en términos de **flexibilidad**, **eficiencia** y **valor estratégico**:\n",
    "\n",
    "- **Flexibilidad:**  \n",
    "  La nube permite a los usuarios reducir o ampliar los servicios según sus necesidades, personalizar aplicaciones y acceder a servicios desde cualquier lugar con una conexión a Internet. La infraestructura de la nube se escala bajo demanda para soportar cargas de trabajo fluctuantes. Las organizaciones pueden seleccionar su nivel de control con opciones como servicio y elegir herramientas y funciones prediseñadas para crear soluciones que se adapten a sus necesidades específicas. Opciones como el cifrado y las claves API ayudan a mantener los datos seguros.\n",
    "\n",
    "- **Eficiencia:**  \n",
    "  Los usuarios pueden llevar aplicaciones al mercado rápidamente sin preocuparse por los costos de infraestructura subyacente o su mantenimiento. Las aplicaciones y los datos basados en la nube son accesibles desde casi cualquier dispositivo con conexión a Internet. Las fallas de hardware no resultan en la pérdida de datos gracias a las copias de seguridad mantenidas en la red. La computación en la nube utiliza recursos remotos, ahorrando a las organizaciones el costo de servidores y otros equipos, y el pago por uso. Además, los servicios en la nube brindan una ventaja competitiva al proporcionar las tecnologías más innovadoras en la gestión de la infraestructura, permitiendo a las organizaciones enfocarse en sus prioridades.\n",
    "\n",
    "### Desafíos y riesgos de la adopción de la nube\n",
    "\n",
    "Si bien la nube ofrece grandes oportunidades, también presenta desafíos para los líderes empresariales y departamentos de TI. Algunos de los riesgos percibidos incluyen:\n",
    "\n",
    "- **Seguridad de los datos:**  \n",
    "  Riesgos asociados con la pérdida o indisponibilidad de datos que pueden causar interrupciones en el negocio.\n",
    "\n",
    "- **Cuestiones de gobernanza y soberanía:**  \n",
    "  Problemas legales, regulatorios y de cumplimiento.\n",
    "\n",
    "- **Falta de estandarización:**  \n",
    "  Desafíos en la integración e interoperabilidad de tecnologías en constante evolución.\n",
    "\n",
    "- **Modelos de implementación y servicio:**  \n",
    "  Elegir el modelo adecuado para satisfacer necesidades específicas y asociarse con los proveedores de servicios en la nube adecuados.\n",
    "\n",
    "- **Continuidad del negocio y recuperación ante desastres:**  \n",
    "  Preocupaciones relacionadas con cómo mantener la operación continua y recuperar datos en caso de fallos.\n",
    "\n",
    "Las organizaciones ya no pueden ver la adopción de la nube como algo que debe considerarse en el futuro. Con las estrategias, tecnologías, servicios y proveedores de servicios adecuados, estos riesgos pueden mitigarse.\n",
    "\n",
    "En el siguiente apartado, exploraremos algunos de los principales proveedores de servicios en la nube de nuestros tiempos y los servicios que ofrecen.\n"
   ]
  },
  {
   "cell_type": "markdown",
   "metadata": {},
   "source": []
  }
 ],
 "metadata": {
  "language_info": {
   "name": "python"
  }
 },
 "nbformat": 4,
 "nbformat_minor": 2
}
